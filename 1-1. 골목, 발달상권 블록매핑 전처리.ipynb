{
 "cells": [
  {
   "cell_type": "markdown",
   "id": "31b394c7",
   "metadata": {},
   "source": [
    "1. 골목/블록상권 블록매핑 데이터에 상권코드를 결합한 데이터인 골목/블록상권_블록매핑_wkt이용  \n",
    "2. 골목/블록상권_블록매핑 데이터에 면적이 아주 작은 데이터 등 이상치 존재\n",
    "3. 이 코드는 골목/블록상권_블록매핑_wkt 데이터에 있는 이상치 제거하는 작업"
   ]
  },
  {
   "cell_type": "code",
   "execution_count": 1,
   "id": "4948e67e",
   "metadata": {},
   "outputs": [],
   "source": [
    "import pandas as pd\n",
    "import numpy as np\n",
    "import os\n",
    "import matplotlib.pyplot as plt\n",
    "import seaborn as sns\n",
    "import missingno as msno\n",
    "\n",
    "#ignore warnings\n",
    "import warnings\n",
    "warnings.filterwarnings('ignore')"
   ]
  },
  {
   "cell_type": "markdown",
   "id": "f26d865b",
   "metadata": {},
   "source": [
    "# 데이터 불러오기"
   ]
  },
  {
   "cell_type": "code",
   "execution_count": 2,
   "id": "4731673e",
   "metadata": {},
   "outputs": [],
   "source": [
    "file_path = 'C:/Users/user/Desktop/경기신용보증재단/정제/골목,발달 상권 데이터/id'\n",
    "golmok = pd.read_csv(file_path+'/골목상권_블록매핑_wkt.csv', encoding='cp949')\n",
    "baldal = pd.read_csv(file_path+'/발달상권_블록매핑_wkt.csv', encoding='cp949')"
   ]
  },
  {
   "cell_type": "markdown",
   "id": "2ba881ff",
   "metadata": {},
   "source": [
    "# 골목 상권"
   ]
  },
  {
   "cell_type": "markdown",
   "id": "38c8fd66",
   "metadata": {},
   "source": [
    "## 블록 내 비율"
   ]
  },
  {
   "cell_type": "code",
   "execution_count": 3,
   "id": "9c69e92a",
   "metadata": {},
   "outputs": [
    {
     "data": {
      "text/html": [
       "<div>\n",
       "<style scoped>\n",
       "    .dataframe tbody tr th:only-of-type {\n",
       "        vertical-align: middle;\n",
       "    }\n",
       "\n",
       "    .dataframe tbody tr th {\n",
       "        vertical-align: top;\n",
       "    }\n",
       "\n",
       "    .dataframe thead th {\n",
       "        text-align: right;\n",
       "    }\n",
       "</style>\n",
       "<table border=\"1\" class=\"dataframe\">\n",
       "  <thead>\n",
       "    <tr style=\"text-align: right;\">\n",
       "      <th></th>\n",
       "      <th>wkt</th>\n",
       "      <th>상권명</th>\n",
       "      <th>다중지역정보</th>\n",
       "      <th>업종정보</th>\n",
       "      <th>점포수</th>\n",
       "      <th>위도</th>\n",
       "      <th>경도</th>\n",
       "      <th>상권코드</th>\n",
       "      <th>BLK_CD</th>\n",
       "      <th>BLK_NM</th>\n",
       "      <th>area</th>\n",
       "    </tr>\n",
       "  </thead>\n",
       "  <tbody>\n",
       "    <tr>\n",
       "      <th>0</th>\n",
       "      <td>POLYGON ((127.1687262760 37.4620601200, 127.16...</td>\n",
       "      <td>성남은행초등학교</td>\n",
       "      <td>{\"type\":\"Polygon\",\"coordinates\":[[[127.1687262...</td>\n",
       "      <td>두발 미용업/일반 교과학원/치킨 전문점/한식 일반 음식점업/노래 연습장 운영업/기타...</td>\n",
       "      <td>133</td>\n",
       "      <td>37.460705</td>\n",
       "      <td>127.168758</td>\n",
       "      <td>골목_1</td>\n",
       "      <td>43777</td>\n",
       "      <td>경기성남 로얄쉐르빌</td>\n",
       "      <td>0.000</td>\n",
       "    </tr>\n",
       "    <tr>\n",
       "      <th>1</th>\n",
       "      <td>POLYGON ((127.1687262760 37.4620601200, 127.16...</td>\n",
       "      <td>성남은행초등학교</td>\n",
       "      <td>{\"type\":\"Polygon\",\"coordinates\":[[[127.1687262...</td>\n",
       "      <td>두발 미용업/일반 교과학원/치킨 전문점/한식 일반 음식점업/노래 연습장 운영업/기타...</td>\n",
       "      <td>133</td>\n",
       "      <td>37.460705</td>\n",
       "      <td>127.168758</td>\n",
       "      <td>골목_1</td>\n",
       "      <td>125279</td>\n",
       "      <td>경기성남 보건빌라</td>\n",
       "      <td>3089.059</td>\n",
       "    </tr>\n",
       "    <tr>\n",
       "      <th>2</th>\n",
       "      <td>POLYGON ((127.1687262760 37.4620601200, 127.16...</td>\n",
       "      <td>성남은행초등학교</td>\n",
       "      <td>{\"type\":\"Polygon\",\"coordinates\":[[[127.1687262...</td>\n",
       "      <td>두발 미용업/일반 교과학원/치킨 전문점/한식 일반 음식점업/노래 연습장 운영업/기타...</td>\n",
       "      <td>133</td>\n",
       "      <td>37.460705</td>\n",
       "      <td>127.168758</td>\n",
       "      <td>골목_1</td>\n",
       "      <td>125204</td>\n",
       "      <td>경기성남 로암빌라</td>\n",
       "      <td>2498.753</td>\n",
       "    </tr>\n",
       "    <tr>\n",
       "      <th>3</th>\n",
       "      <td>POLYGON ((127.1687262760 37.4620601200, 127.16...</td>\n",
       "      <td>성남은행초등학교</td>\n",
       "      <td>{\"type\":\"Polygon\",\"coordinates\":[[[127.1687262...</td>\n",
       "      <td>두발 미용업/일반 교과학원/치킨 전문점/한식 일반 음식점업/노래 연습장 운영업/기타...</td>\n",
       "      <td>133</td>\n",
       "      <td>37.460705</td>\n",
       "      <td>127.168758</td>\n",
       "      <td>골목_1</td>\n",
       "      <td>125283</td>\n",
       "      <td>경기성남 솔그린빌리지</td>\n",
       "      <td>2602.524</td>\n",
       "    </tr>\n",
       "    <tr>\n",
       "      <th>4</th>\n",
       "      <td>POLYGON ((127.1687262760 37.4620601200, 127.16...</td>\n",
       "      <td>성남은행초등학교</td>\n",
       "      <td>{\"type\":\"Polygon\",\"coordinates\":[[[127.1687262...</td>\n",
       "      <td>두발 미용업/일반 교과학원/치킨 전문점/한식 일반 음식점업/노래 연습장 운영업/기타...</td>\n",
       "      <td>133</td>\n",
       "      <td>37.460705</td>\n",
       "      <td>127.168758</td>\n",
       "      <td>골목_1</td>\n",
       "      <td>125199</td>\n",
       "      <td>경기성남 금마주택</td>\n",
       "      <td>7502.944</td>\n",
       "    </tr>\n",
       "    <tr>\n",
       "      <th>...</th>\n",
       "      <td>...</td>\n",
       "      <td>...</td>\n",
       "      <td>...</td>\n",
       "      <td>...</td>\n",
       "      <td>...</td>\n",
       "      <td>...</td>\n",
       "      <td>...</td>\n",
       "      <td>...</td>\n",
       "      <td>...</td>\n",
       "      <td>...</td>\n",
       "      <td>...</td>\n",
       "    </tr>\n",
       "    <tr>\n",
       "      <th>13963</th>\n",
       "      <td>POLYGON ((127.0488212760 37.2621735320, 127.04...</td>\n",
       "      <td>매탄로140번길</td>\n",
       "      <td>{\"type\":\"Polygon\",\"coordinates\":[[[127.0488212...</td>\n",
       "      <td>한식 일반 음식점업/체인화 편의점/두발 미용업/커피 전문점/피자  햄버거  샌드위치...</td>\n",
       "      <td>39</td>\n",
       "      <td>37.262253</td>\n",
       "      <td>127.047664</td>\n",
       "      <td>골목_827</td>\n",
       "      <td>280490</td>\n",
       "      <td>경기수원 거성빌</td>\n",
       "      <td>0.004</td>\n",
       "    </tr>\n",
       "    <tr>\n",
       "      <th>13964</th>\n",
       "      <td>POLYGON ((127.0488212760 37.2621735320, 127.04...</td>\n",
       "      <td>매탄로140번길</td>\n",
       "      <td>{\"type\":\"Polygon\",\"coordinates\":[[[127.0488212...</td>\n",
       "      <td>한식 일반 음식점업/체인화 편의점/두발 미용업/커피 전문점/피자  햄버거  샌드위치...</td>\n",
       "      <td>39</td>\n",
       "      <td>37.262253</td>\n",
       "      <td>127.047664</td>\n",
       "      <td>골목_827</td>\n",
       "      <td>432064</td>\n",
       "      <td>경기수원 렉스빌</td>\n",
       "      <td>11557.489</td>\n",
       "    </tr>\n",
       "    <tr>\n",
       "      <th>13965</th>\n",
       "      <td>POLYGON ((127.0488212760 37.2621735320, 127.04...</td>\n",
       "      <td>매탄로140번길</td>\n",
       "      <td>{\"type\":\"Polygon\",\"coordinates\":[[[127.0488212...</td>\n",
       "      <td>한식 일반 음식점업/체인화 편의점/두발 미용업/커피 전문점/피자  햄버거  샌드위치...</td>\n",
       "      <td>39</td>\n",
       "      <td>37.262253</td>\n",
       "      <td>127.047664</td>\n",
       "      <td>골목_827</td>\n",
       "      <td>280527</td>\n",
       "      <td>경기수원 도원주택</td>\n",
       "      <td>10675.537</td>\n",
       "    </tr>\n",
       "    <tr>\n",
       "      <th>13966</th>\n",
       "      <td>POLYGON ((127.0488212760 37.2621735320, 127.04...</td>\n",
       "      <td>매탄로140번길</td>\n",
       "      <td>{\"type\":\"Polygon\",\"coordinates\":[[[127.0488212...</td>\n",
       "      <td>한식 일반 음식점업/체인화 편의점/두발 미용업/커피 전문점/피자  햄버거  샌드위치...</td>\n",
       "      <td>39</td>\n",
       "      <td>37.262253</td>\n",
       "      <td>127.047664</td>\n",
       "      <td>골목_827</td>\n",
       "      <td>280523</td>\n",
       "      <td>경기수원 280523블록</td>\n",
       "      <td>2017.737</td>\n",
       "    </tr>\n",
       "    <tr>\n",
       "      <th>13967</th>\n",
       "      <td>POLYGON ((127.0488212760 37.2621735320, 127.04...</td>\n",
       "      <td>매탄로140번길</td>\n",
       "      <td>{\"type\":\"Polygon\",\"coordinates\":[[[127.0488212...</td>\n",
       "      <td>한식 일반 음식점업/체인화 편의점/두발 미용업/커피 전문점/피자  햄버거  샌드위치...</td>\n",
       "      <td>39</td>\n",
       "      <td>37.262253</td>\n",
       "      <td>127.047664</td>\n",
       "      <td>골목_827</td>\n",
       "      <td>533823</td>\n",
       "      <td>경기수원 프로방스빌</td>\n",
       "      <td>0.044</td>\n",
       "    </tr>\n",
       "  </tbody>\n",
       "</table>\n",
       "<p>13968 rows × 11 columns</p>\n",
       "</div>"
      ],
      "text/plain": [
       "                                                     wkt       상권명  \\\n",
       "0      POLYGON ((127.1687262760 37.4620601200, 127.16...  성남은행초등학교   \n",
       "1      POLYGON ((127.1687262760 37.4620601200, 127.16...  성남은행초등학교   \n",
       "2      POLYGON ((127.1687262760 37.4620601200, 127.16...  성남은행초등학교   \n",
       "3      POLYGON ((127.1687262760 37.4620601200, 127.16...  성남은행초등학교   \n",
       "4      POLYGON ((127.1687262760 37.4620601200, 127.16...  성남은행초등학교   \n",
       "...                                                  ...       ...   \n",
       "13963  POLYGON ((127.0488212760 37.2621735320, 127.04...  매탄로140번길   \n",
       "13964  POLYGON ((127.0488212760 37.2621735320, 127.04...  매탄로140번길   \n",
       "13965  POLYGON ((127.0488212760 37.2621735320, 127.04...  매탄로140번길   \n",
       "13966  POLYGON ((127.0488212760 37.2621735320, 127.04...  매탄로140번길   \n",
       "13967  POLYGON ((127.0488212760 37.2621735320, 127.04...  매탄로140번길   \n",
       "\n",
       "                                                  다중지역정보  \\\n",
       "0      {\"type\":\"Polygon\",\"coordinates\":[[[127.1687262...   \n",
       "1      {\"type\":\"Polygon\",\"coordinates\":[[[127.1687262...   \n",
       "2      {\"type\":\"Polygon\",\"coordinates\":[[[127.1687262...   \n",
       "3      {\"type\":\"Polygon\",\"coordinates\":[[[127.1687262...   \n",
       "4      {\"type\":\"Polygon\",\"coordinates\":[[[127.1687262...   \n",
       "...                                                  ...   \n",
       "13963  {\"type\":\"Polygon\",\"coordinates\":[[[127.0488212...   \n",
       "13964  {\"type\":\"Polygon\",\"coordinates\":[[[127.0488212...   \n",
       "13965  {\"type\":\"Polygon\",\"coordinates\":[[[127.0488212...   \n",
       "13966  {\"type\":\"Polygon\",\"coordinates\":[[[127.0488212...   \n",
       "13967  {\"type\":\"Polygon\",\"coordinates\":[[[127.0488212...   \n",
       "\n",
       "                                                    업종정보  점포수         위도  \\\n",
       "0      두발 미용업/일반 교과학원/치킨 전문점/한식 일반 음식점업/노래 연습장 운영업/기타...  133  37.460705   \n",
       "1      두발 미용업/일반 교과학원/치킨 전문점/한식 일반 음식점업/노래 연습장 운영업/기타...  133  37.460705   \n",
       "2      두발 미용업/일반 교과학원/치킨 전문점/한식 일반 음식점업/노래 연습장 운영업/기타...  133  37.460705   \n",
       "3      두발 미용업/일반 교과학원/치킨 전문점/한식 일반 음식점업/노래 연습장 운영업/기타...  133  37.460705   \n",
       "4      두발 미용업/일반 교과학원/치킨 전문점/한식 일반 음식점업/노래 연습장 운영업/기타...  133  37.460705   \n",
       "...                                                  ...  ...        ...   \n",
       "13963  한식 일반 음식점업/체인화 편의점/두발 미용업/커피 전문점/피자  햄버거  샌드위치...   39  37.262253   \n",
       "13964  한식 일반 음식점업/체인화 편의점/두발 미용업/커피 전문점/피자  햄버거  샌드위치...   39  37.262253   \n",
       "13965  한식 일반 음식점업/체인화 편의점/두발 미용업/커피 전문점/피자  햄버거  샌드위치...   39  37.262253   \n",
       "13966  한식 일반 음식점업/체인화 편의점/두발 미용업/커피 전문점/피자  햄버거  샌드위치...   39  37.262253   \n",
       "13967  한식 일반 음식점업/체인화 편의점/두발 미용업/커피 전문점/피자  햄버거  샌드위치...   39  37.262253   \n",
       "\n",
       "               경도    상권코드  BLK_CD         BLK_NM       area  \n",
       "0      127.168758    골목_1   43777     경기성남 로얄쉐르빌      0.000  \n",
       "1      127.168758    골목_1  125279      경기성남 보건빌라   3089.059  \n",
       "2      127.168758    골목_1  125204      경기성남 로암빌라   2498.753  \n",
       "3      127.168758    골목_1  125283    경기성남 솔그린빌리지   2602.524  \n",
       "4      127.168758    골목_1  125199      경기성남 금마주택   7502.944  \n",
       "...           ...     ...     ...            ...        ...  \n",
       "13963  127.047664  골목_827  280490       경기수원 거성빌      0.004  \n",
       "13964  127.047664  골목_827  432064       경기수원 렉스빌  11557.489  \n",
       "13965  127.047664  골목_827  280527      경기수원 도원주택  10675.537  \n",
       "13966  127.047664  골목_827  280523  경기수원 280523블록   2017.737  \n",
       "13967  127.047664  골목_827  533823     경기수원 프로방스빌      0.044  \n",
       "\n",
       "[13968 rows x 11 columns]"
      ]
     },
     "execution_count": 3,
     "metadata": {},
     "output_type": "execute_result"
    }
   ],
   "source": [
    "golmok"
   ]
  },
  {
   "cell_type": "code",
   "execution_count": 4,
   "id": "cbf33588",
   "metadata": {
    "scrolled": true
   },
   "outputs": [
    {
     "name": "stdout",
     "output_type": "stream",
     "text": [
      "<class 'pandas.core.frame.DataFrame'>\n",
      "RangeIndex: 13968 entries, 0 to 13967\n",
      "Data columns (total 11 columns):\n",
      " #   Column  Non-Null Count  Dtype  \n",
      "---  ------  --------------  -----  \n",
      " 0   wkt     13968 non-null  object \n",
      " 1   상권명     13968 non-null  object \n",
      " 2   다중지역정보  13968 non-null  object \n",
      " 3   업종정보    13968 non-null  object \n",
      " 4   점포수     13968 non-null  int64  \n",
      " 5   위도      13968 non-null  float64\n",
      " 6   경도      13968 non-null  float64\n",
      " 7   상권코드    13968 non-null  object \n",
      " 8   BLK_CD  13968 non-null  int64  \n",
      " 9   BLK_NM  13968 non-null  object \n",
      " 10  area    13968 non-null  float64\n",
      "dtypes: float64(3), int64(2), object(6)\n",
      "memory usage: 1.2+ MB\n"
     ]
    }
   ],
   "source": [
    "golmok.info()"
   ]
  },
  {
   "cell_type": "code",
   "execution_count": 5,
   "id": "156709ea",
   "metadata": {},
   "outputs": [
    {
     "data": {
      "text/plain": [
       "골목_98     88\n",
       "골목_693    87\n",
       "골목_7      75\n",
       "골목_285    72\n",
       "골목_616    71\n",
       "          ..\n",
       "골목_396     1\n",
       "골목_31      1\n",
       "골목_261     1\n",
       "골목_216     1\n",
       "골목_729     1\n",
       "Name: 상권코드, Length: 827, dtype: int64"
      ]
     },
     "execution_count": 5,
     "metadata": {},
     "output_type": "execute_result"
    }
   ],
   "source": [
    "golmok['상권코드'].value_counts()"
   ]
  },
  {
   "cell_type": "markdown",
   "id": "8ea550fe",
   "metadata": {},
   "source": [
    "총 13968개의 데이터와 827개의 상권이 존재함을 확인"
   ]
  },
  {
   "cell_type": "code",
   "execution_count": 6,
   "id": "854ff9b2",
   "metadata": {},
   "outputs": [],
   "source": [
    "# 상권에 따른 area_sum(면적 합계)\n",
    "golmok_area_sum = pd.DataFrame(golmok.groupby('상권코드')['area'].sum()) #한 상권의 면적 = area_sum\n",
    "golmok_area_sum.reset_index(level=['상권코드'], inplace = True) \n",
    "golmok_area_sum.rename(columns={'area':'area_sum'},inplace=True)\n",
    "\n",
    "# 골목상권 데이터에 area_sum 붙이기\n",
    "golmok_merge=pd.merge(left=golmok,right=golmok_area_sum,how='left',on='상권코드')\n",
    "\n",
    "# 상권 내에서 해당 조각의 면적 비율\n",
    "golmok_merge['area_ratio'] = (golmok_merge['area']/golmok_merge['area_sum'])*100 "
   ]
  },
  {
   "cell_type": "code",
   "execution_count": 7,
   "id": "1f7f7b38",
   "metadata": {
    "scrolled": true
   },
   "outputs": [
    {
     "data": {
      "text/html": [
       "<div>\n",
       "<style scoped>\n",
       "    .dataframe tbody tr th:only-of-type {\n",
       "        vertical-align: middle;\n",
       "    }\n",
       "\n",
       "    .dataframe tbody tr th {\n",
       "        vertical-align: top;\n",
       "    }\n",
       "\n",
       "    .dataframe thead th {\n",
       "        text-align: right;\n",
       "    }\n",
       "</style>\n",
       "<table border=\"1\" class=\"dataframe\">\n",
       "  <thead>\n",
       "    <tr style=\"text-align: right;\">\n",
       "      <th></th>\n",
       "      <th>wkt</th>\n",
       "      <th>상권명</th>\n",
       "      <th>다중지역정보</th>\n",
       "      <th>업종정보</th>\n",
       "      <th>점포수</th>\n",
       "      <th>위도</th>\n",
       "      <th>경도</th>\n",
       "      <th>상권코드</th>\n",
       "      <th>BLK_CD</th>\n",
       "      <th>BLK_NM</th>\n",
       "      <th>area</th>\n",
       "      <th>area_sum</th>\n",
       "      <th>area_ratio</th>\n",
       "    </tr>\n",
       "  </thead>\n",
       "  <tbody>\n",
       "    <tr>\n",
       "      <th>0</th>\n",
       "      <td>POLYGON ((127.1687262760 37.4620601200, 127.16...</td>\n",
       "      <td>성남은행초등학교</td>\n",
       "      <td>{\"type\":\"Polygon\",\"coordinates\":[[[127.1687262...</td>\n",
       "      <td>두발 미용업/일반 교과학원/치킨 전문점/한식 일반 음식점업/노래 연습장 운영업/기타...</td>\n",
       "      <td>133</td>\n",
       "      <td>37.460705</td>\n",
       "      <td>127.168758</td>\n",
       "      <td>골목_1</td>\n",
       "      <td>43777</td>\n",
       "      <td>경기성남 로얄쉐르빌</td>\n",
       "      <td>0.000</td>\n",
       "      <td>74330.393</td>\n",
       "      <td>0.000000</td>\n",
       "    </tr>\n",
       "    <tr>\n",
       "      <th>1</th>\n",
       "      <td>POLYGON ((127.1687262760 37.4620601200, 127.16...</td>\n",
       "      <td>성남은행초등학교</td>\n",
       "      <td>{\"type\":\"Polygon\",\"coordinates\":[[[127.1687262...</td>\n",
       "      <td>두발 미용업/일반 교과학원/치킨 전문점/한식 일반 음식점업/노래 연습장 운영업/기타...</td>\n",
       "      <td>133</td>\n",
       "      <td>37.460705</td>\n",
       "      <td>127.168758</td>\n",
       "      <td>골목_1</td>\n",
       "      <td>125279</td>\n",
       "      <td>경기성남 보건빌라</td>\n",
       "      <td>3089.059</td>\n",
       "      <td>74330.393</td>\n",
       "      <td>4.155849</td>\n",
       "    </tr>\n",
       "  </tbody>\n",
       "</table>\n",
       "</div>"
      ],
      "text/plain": [
       "                                                 wkt       상권명  \\\n",
       "0  POLYGON ((127.1687262760 37.4620601200, 127.16...  성남은행초등학교   \n",
       "1  POLYGON ((127.1687262760 37.4620601200, 127.16...  성남은행초등학교   \n",
       "\n",
       "                                              다중지역정보  \\\n",
       "0  {\"type\":\"Polygon\",\"coordinates\":[[[127.1687262...   \n",
       "1  {\"type\":\"Polygon\",\"coordinates\":[[[127.1687262...   \n",
       "\n",
       "                                                업종정보  점포수         위도  \\\n",
       "0  두발 미용업/일반 교과학원/치킨 전문점/한식 일반 음식점업/노래 연습장 운영업/기타...  133  37.460705   \n",
       "1  두발 미용업/일반 교과학원/치킨 전문점/한식 일반 음식점업/노래 연습장 운영업/기타...  133  37.460705   \n",
       "\n",
       "           경도  상권코드  BLK_CD      BLK_NM      area   area_sum  area_ratio  \n",
       "0  127.168758  골목_1   43777  경기성남 로얄쉐르빌     0.000  74330.393    0.000000  \n",
       "1  127.168758  골목_1  125279   경기성남 보건빌라  3089.059  74330.393    4.155849  "
      ]
     },
     "execution_count": 7,
     "metadata": {},
     "output_type": "execute_result"
    }
   ],
   "source": [
    "golmok_merge.head(2)"
   ]
  },
  {
   "cell_type": "markdown",
   "id": "8020a340",
   "metadata": {},
   "source": [
    "area : 상권 블록 면적  \n",
    "area_sum: 상권 면적 합  \n",
    "area_ratio: 상권 면적에서 상권 블록의 면적 비율"
   ]
  },
  {
   "cell_type": "code",
   "execution_count": 8,
   "id": "4b4e1560",
   "metadata": {},
   "outputs": [],
   "source": [
    "# bc 카드 블록데이터의 면적 추출\n",
    "# 블록코드_area는 qgis를 통하여 추출한 데이터\n",
    "df_blk = pd.read_csv('C:/Users/user/Desktop/경기신용보증재단/정제/골목,발달 상권 데이터/골목_발달상권_블록매핑_전처리/골목_발달상권_블록매핑_전처리코드/블록코드_area.csv',encoding='euc-kr')\n",
    "df_blk = df_blk[['BLK_CD','area']]\n",
    "df_blk.rename(columns={'area':'blk_area'},inplace=True)\n",
    "\n",
    "# 상권 데이터와 비씨카드 상권 데이터 merge\n",
    "golmok_merge = pd.merge(left=golmok_merge,right=df_blk,how='left',on='BLK_CD') \n",
    "\n",
    "# BC카드 블록에서의 상권 블록 면적 비율\n",
    "golmok_merge['blk_area_ratio'] = (golmok_merge['area']/golmok_merge['blk_area'])*100"
   ]
  },
  {
   "cell_type": "code",
   "execution_count": 9,
   "id": "f5502542",
   "metadata": {
    "scrolled": true
   },
   "outputs": [
    {
     "data": {
      "text/html": [
       "<div>\n",
       "<style scoped>\n",
       "    .dataframe tbody tr th:only-of-type {\n",
       "        vertical-align: middle;\n",
       "    }\n",
       "\n",
       "    .dataframe tbody tr th {\n",
       "        vertical-align: top;\n",
       "    }\n",
       "\n",
       "    .dataframe thead th {\n",
       "        text-align: right;\n",
       "    }\n",
       "</style>\n",
       "<table border=\"1\" class=\"dataframe\">\n",
       "  <thead>\n",
       "    <tr style=\"text-align: right;\">\n",
       "      <th></th>\n",
       "      <th>wkt</th>\n",
       "      <th>상권명</th>\n",
       "      <th>다중지역정보</th>\n",
       "      <th>업종정보</th>\n",
       "      <th>점포수</th>\n",
       "      <th>위도</th>\n",
       "      <th>경도</th>\n",
       "      <th>상권코드</th>\n",
       "      <th>BLK_CD</th>\n",
       "      <th>BLK_NM</th>\n",
       "      <th>area</th>\n",
       "      <th>area_sum</th>\n",
       "      <th>area_ratio</th>\n",
       "      <th>blk_area</th>\n",
       "      <th>blk_area_ratio</th>\n",
       "    </tr>\n",
       "  </thead>\n",
       "  <tbody>\n",
       "    <tr>\n",
       "      <th>0</th>\n",
       "      <td>POLYGON ((127.1687262760 37.4620601200, 127.16...</td>\n",
       "      <td>성남은행초등학교</td>\n",
       "      <td>{\"type\":\"Polygon\",\"coordinates\":[[[127.1687262...</td>\n",
       "      <td>두발 미용업/일반 교과학원/치킨 전문점/한식 일반 음식점업/노래 연습장 운영업/기타...</td>\n",
       "      <td>133</td>\n",
       "      <td>37.460705</td>\n",
       "      <td>127.168758</td>\n",
       "      <td>골목_1</td>\n",
       "      <td>43777</td>\n",
       "      <td>경기성남 로얄쉐르빌</td>\n",
       "      <td>0.000</td>\n",
       "      <td>74330.393</td>\n",
       "      <td>0.000000</td>\n",
       "      <td>4555.517</td>\n",
       "      <td>0.000000</td>\n",
       "    </tr>\n",
       "    <tr>\n",
       "      <th>1</th>\n",
       "      <td>POLYGON ((127.1687262760 37.4620601200, 127.16...</td>\n",
       "      <td>성남은행초등학교</td>\n",
       "      <td>{\"type\":\"Polygon\",\"coordinates\":[[[127.1687262...</td>\n",
       "      <td>두발 미용업/일반 교과학원/치킨 전문점/한식 일반 음식점업/노래 연습장 운영업/기타...</td>\n",
       "      <td>133</td>\n",
       "      <td>37.460705</td>\n",
       "      <td>127.168758</td>\n",
       "      <td>골목_1</td>\n",
       "      <td>125279</td>\n",
       "      <td>경기성남 보건빌라</td>\n",
       "      <td>3089.059</td>\n",
       "      <td>74330.393</td>\n",
       "      <td>4.155849</td>\n",
       "      <td>3089.797</td>\n",
       "      <td>99.976115</td>\n",
       "    </tr>\n",
       "    <tr>\n",
       "      <th>2</th>\n",
       "      <td>POLYGON ((127.1687262760 37.4620601200, 127.16...</td>\n",
       "      <td>성남은행초등학교</td>\n",
       "      <td>{\"type\":\"Polygon\",\"coordinates\":[[[127.1687262...</td>\n",
       "      <td>두발 미용업/일반 교과학원/치킨 전문점/한식 일반 음식점업/노래 연습장 운영업/기타...</td>\n",
       "      <td>133</td>\n",
       "      <td>37.460705</td>\n",
       "      <td>127.168758</td>\n",
       "      <td>골목_1</td>\n",
       "      <td>125204</td>\n",
       "      <td>경기성남 로암빌라</td>\n",
       "      <td>2498.753</td>\n",
       "      <td>74330.393</td>\n",
       "      <td>3.361684</td>\n",
       "      <td>2499.367</td>\n",
       "      <td>99.975434</td>\n",
       "    </tr>\n",
       "    <tr>\n",
       "      <th>3</th>\n",
       "      <td>POLYGON ((127.1687262760 37.4620601200, 127.16...</td>\n",
       "      <td>성남은행초등학교</td>\n",
       "      <td>{\"type\":\"Polygon\",\"coordinates\":[[[127.1687262...</td>\n",
       "      <td>두발 미용업/일반 교과학원/치킨 전문점/한식 일반 음식점업/노래 연습장 운영업/기타...</td>\n",
       "      <td>133</td>\n",
       "      <td>37.460705</td>\n",
       "      <td>127.168758</td>\n",
       "      <td>골목_1</td>\n",
       "      <td>125283</td>\n",
       "      <td>경기성남 솔그린빌리지</td>\n",
       "      <td>2602.524</td>\n",
       "      <td>74330.393</td>\n",
       "      <td>3.501292</td>\n",
       "      <td>3386.012</td>\n",
       "      <td>76.861039</td>\n",
       "    </tr>\n",
       "    <tr>\n",
       "      <th>4</th>\n",
       "      <td>POLYGON ((127.1687262760 37.4620601200, 127.16...</td>\n",
       "      <td>성남은행초등학교</td>\n",
       "      <td>{\"type\":\"Polygon\",\"coordinates\":[[[127.1687262...</td>\n",
       "      <td>두발 미용업/일반 교과학원/치킨 전문점/한식 일반 음식점업/노래 연습장 운영업/기타...</td>\n",
       "      <td>133</td>\n",
       "      <td>37.460705</td>\n",
       "      <td>127.168758</td>\n",
       "      <td>골목_1</td>\n",
       "      <td>125199</td>\n",
       "      <td>경기성남 금마주택</td>\n",
       "      <td>7502.944</td>\n",
       "      <td>74330.393</td>\n",
       "      <td>10.094046</td>\n",
       "      <td>9058.654</td>\n",
       "      <td>82.826257</td>\n",
       "    </tr>\n",
       "  </tbody>\n",
       "</table>\n",
       "</div>"
      ],
      "text/plain": [
       "                                                 wkt       상권명  \\\n",
       "0  POLYGON ((127.1687262760 37.4620601200, 127.16...  성남은행초등학교   \n",
       "1  POLYGON ((127.1687262760 37.4620601200, 127.16...  성남은행초등학교   \n",
       "2  POLYGON ((127.1687262760 37.4620601200, 127.16...  성남은행초등학교   \n",
       "3  POLYGON ((127.1687262760 37.4620601200, 127.16...  성남은행초등학교   \n",
       "4  POLYGON ((127.1687262760 37.4620601200, 127.16...  성남은행초등학교   \n",
       "\n",
       "                                              다중지역정보  \\\n",
       "0  {\"type\":\"Polygon\",\"coordinates\":[[[127.1687262...   \n",
       "1  {\"type\":\"Polygon\",\"coordinates\":[[[127.1687262...   \n",
       "2  {\"type\":\"Polygon\",\"coordinates\":[[[127.1687262...   \n",
       "3  {\"type\":\"Polygon\",\"coordinates\":[[[127.1687262...   \n",
       "4  {\"type\":\"Polygon\",\"coordinates\":[[[127.1687262...   \n",
       "\n",
       "                                                업종정보  점포수         위도  \\\n",
       "0  두발 미용업/일반 교과학원/치킨 전문점/한식 일반 음식점업/노래 연습장 운영업/기타...  133  37.460705   \n",
       "1  두발 미용업/일반 교과학원/치킨 전문점/한식 일반 음식점업/노래 연습장 운영업/기타...  133  37.460705   \n",
       "2  두발 미용업/일반 교과학원/치킨 전문점/한식 일반 음식점업/노래 연습장 운영업/기타...  133  37.460705   \n",
       "3  두발 미용업/일반 교과학원/치킨 전문점/한식 일반 음식점업/노래 연습장 운영업/기타...  133  37.460705   \n",
       "4  두발 미용업/일반 교과학원/치킨 전문점/한식 일반 음식점업/노래 연습장 운영업/기타...  133  37.460705   \n",
       "\n",
       "           경도  상권코드  BLK_CD       BLK_NM      area   area_sum  area_ratio  \\\n",
       "0  127.168758  골목_1   43777   경기성남 로얄쉐르빌     0.000  74330.393    0.000000   \n",
       "1  127.168758  골목_1  125279    경기성남 보건빌라  3089.059  74330.393    4.155849   \n",
       "2  127.168758  골목_1  125204    경기성남 로암빌라  2498.753  74330.393    3.361684   \n",
       "3  127.168758  골목_1  125283  경기성남 솔그린빌리지  2602.524  74330.393    3.501292   \n",
       "4  127.168758  골목_1  125199    경기성남 금마주택  7502.944  74330.393   10.094046   \n",
       "\n",
       "   blk_area  blk_area_ratio  \n",
       "0  4555.517        0.000000  \n",
       "1  3089.797       99.976115  \n",
       "2  2499.367       99.975434  \n",
       "3  3386.012       76.861039  \n",
       "4  9058.654       82.826257  "
      ]
     },
     "execution_count": 9,
     "metadata": {},
     "output_type": "execute_result"
    }
   ],
   "source": [
    "golmok_merge.head()"
   ]
  },
  {
   "cell_type": "markdown",
   "id": "1e8411db",
   "metadata": {},
   "source": [
    "area : 상권 블록 면적  \n",
    "area_sum: 상권 면적 합  \n",
    "area_ratio: 상권 면적에서 상권 블록의 면적 비율  \n",
    "blk_area: 블록 면적  \n",
    "blk_area_ratio: 블록 면적에서 상권 블록의 면적 비율"
   ]
  },
  {
   "cell_type": "code",
   "execution_count": 10,
   "id": "5debaaf8",
   "metadata": {},
   "outputs": [
    {
     "data": {
      "text/plain": [
       "(13968, 15)"
      ]
     },
     "execution_count": 10,
     "metadata": {},
     "output_type": "execute_result"
    }
   ],
   "source": [
    "# 데이터 개수 보존 체크 13968\n",
    "golmok_merge.shape"
   ]
  },
  {
   "cell_type": "code",
   "execution_count": 11,
   "id": "e183f486",
   "metadata": {},
   "outputs": [
    {
     "name": "stdout",
     "output_type": "stream",
     "text": [
      "<class 'pandas.core.frame.DataFrame'>\n",
      "Int64Index: 13968 entries, 0 to 13967\n",
      "Data columns (total 15 columns):\n",
      " #   Column          Non-Null Count  Dtype  \n",
      "---  ------          --------------  -----  \n",
      " 0   wkt             13968 non-null  object \n",
      " 1   상권명             13968 non-null  object \n",
      " 2   다중지역정보          13968 non-null  object \n",
      " 3   업종정보            13968 non-null  object \n",
      " 4   점포수             13968 non-null  int64  \n",
      " 5   위도              13968 non-null  float64\n",
      " 6   경도              13968 non-null  float64\n",
      " 7   상권코드            13968 non-null  object \n",
      " 8   BLK_CD          13968 non-null  int64  \n",
      " 9   BLK_NM          13968 non-null  object \n",
      " 10  area            13968 non-null  float64\n",
      " 11  area_sum        13968 non-null  float64\n",
      " 12  area_ratio      13968 non-null  float64\n",
      " 13  blk_area        13968 non-null  float64\n",
      " 14  blk_area_ratio  13968 non-null  float64\n",
      "dtypes: float64(7), int64(2), object(6)\n",
      "memory usage: 1.7+ MB\n"
     ]
    }
   ],
   "source": [
    "golmok_merge.info()"
   ]
  },
  {
   "cell_type": "code",
   "execution_count": 12,
   "id": "147fa7e3",
   "metadata": {},
   "outputs": [
    {
     "data": {
      "text/plain": [
       "골목_45     58\n",
       "골목_693    50\n",
       "골목_98     48\n",
       "골목_689    47\n",
       "골목_616    44\n",
       "          ..\n",
       "골목_396     1\n",
       "골목_397     1\n",
       "골목_617     1\n",
       "골목_399     1\n",
       "골목_398     1\n",
       "Name: 상권코드, Length: 827, dtype: int64"
      ]
     },
     "execution_count": 12,
     "metadata": {},
     "output_type": "execute_result"
    }
   ],
   "source": [
    "# 블록 면적에서 상권 블록의 면적 비율(blk_area_ratio)이 9(%)이상일 때 모든 상권이 포함되어 있음\n",
    "temp = golmok_merge[golmok_merge['blk_area_ratio'] >= 9]\n",
    "temp['상권코드'].value_counts()"
   ]
  },
  {
   "cell_type": "code",
   "execution_count": 13,
   "id": "2df7bb0e",
   "metadata": {},
   "outputs": [
    {
     "name": "stdout",
     "output_type": "stream",
     "text": [
      "1\n",
      "1\n",
      "1\n"
     ]
    }
   ],
   "source": [
    "# 블록 면적에서 상권 블록의 면적 비율(blk_area_ratio)에 따른 상권 소실 개수 체크\n",
    "\n",
    "temp1 = golmok_merge[golmok_merge['blk_area_ratio'] >= 9] # 상권 유지\n",
    "temp2 = golmok_merge[golmok_merge['blk_area_ratio'] >= 15] # 상권 한 개 소실\n",
    "temp3 = golmok_merge[golmok_merge['blk_area_ratio'] >= 20] # 상권 두 개 소실\n",
    "temp4 = golmok_merge[golmok_merge['blk_area_ratio'] >= 30] # 상권 세 개 소실\n",
    "\n",
    "print(len(set(temp1['다중지역정보'])^set(temp2['다중지역정보'])))\n",
    "print(len(set(temp2['다중지역정보'])^set(temp3['다중지역정보'])))\n",
    "print(len(set(temp3['다중지역정보'])^set(temp4['다중지역정보'])))"
   ]
  },
  {
   "cell_type": "code",
   "execution_count": 14,
   "id": "09b4758a",
   "metadata": {},
   "outputs": [
    {
     "name": "stdout",
     "output_type": "stream",
     "text": [
      "1\n",
      "1\n",
      "1\n"
     ]
    }
   ],
   "source": [
    "print(len(set(temp1['상권코드'])^set(temp2['상권코드'])))\n",
    "print(len(set(temp2['상권코드'])^set(temp3['상권코드'])))\n",
    "print(len(set(temp3['상권코드'])^set(temp4['상권코드'])))"
   ]
  },
  {
   "cell_type": "markdown",
   "id": "a77eddc4",
   "metadata": {},
   "source": [
    "블록 내 상권 블록의 비율이 9% 이상인 것들을 보았을 때 상권 유지  \n",
    "블록 내 상권 블록의 비율이 10% 이상인 것들을 보았을 때 상권 1개 소실"
   ]
  },
  {
   "cell_type": "code",
   "execution_count": 15,
   "id": "d68c867a",
   "metadata": {},
   "outputs": [
    {
     "data": {
      "text/plain": [
       "(7696, 15)"
      ]
     },
     "execution_count": 15,
     "metadata": {},
     "output_type": "execute_result"
    }
   ],
   "source": [
    "# blk_area_ratio >= 30(%)일 때 데이터 개수\n",
    "temp4.shape"
   ]
  },
  {
   "cell_type": "code",
   "execution_count": 16,
   "id": "2bdabcf1",
   "metadata": {},
   "outputs": [
    {
     "data": {
      "text/html": [
       "<div>\n",
       "<style scoped>\n",
       "    .dataframe tbody tr th:only-of-type {\n",
       "        vertical-align: middle;\n",
       "    }\n",
       "\n",
       "    .dataframe tbody tr th {\n",
       "        vertical-align: top;\n",
       "    }\n",
       "\n",
       "    .dataframe thead th {\n",
       "        text-align: right;\n",
       "    }\n",
       "</style>\n",
       "<table border=\"1\" class=\"dataframe\">\n",
       "  <thead>\n",
       "    <tr style=\"text-align: right;\">\n",
       "      <th></th>\n",
       "      <th>상권명</th>\n",
       "      <th>area</th>\n",
       "      <th>area_ratio</th>\n",
       "      <th>blk_area_ratio</th>\n",
       "    </tr>\n",
       "  </thead>\n",
       "  <tbody>\n",
       "    <tr>\n",
       "      <th>4438</th>\n",
       "      <td>동탄기흥로257번가길</td>\n",
       "      <td>38176.329</td>\n",
       "      <td>100.000000</td>\n",
       "      <td>19.147383</td>\n",
       "    </tr>\n",
       "    <tr>\n",
       "      <th>7668</th>\n",
       "      <td>성남신흥동우체국</td>\n",
       "      <td>0.000</td>\n",
       "      <td>0.000000</td>\n",
       "      <td>0.000000</td>\n",
       "    </tr>\n",
       "    <tr>\n",
       "      <th>7669</th>\n",
       "      <td>성남신흥동우체국</td>\n",
       "      <td>0.002</td>\n",
       "      <td>0.000004</td>\n",
       "      <td>0.000075</td>\n",
       "    </tr>\n",
       "    <tr>\n",
       "      <th>7670</th>\n",
       "      <td>성남신흥동우체국</td>\n",
       "      <td>0.013</td>\n",
       "      <td>0.000029</td>\n",
       "      <td>0.000534</td>\n",
       "    </tr>\n",
       "    <tr>\n",
       "      <th>7671</th>\n",
       "      <td>성남신흥동우체국</td>\n",
       "      <td>45424.029</td>\n",
       "      <td>99.999960</td>\n",
       "      <td>20.118698</td>\n",
       "    </tr>\n",
       "    <tr>\n",
       "      <th>7672</th>\n",
       "      <td>성남신흥동우체국</td>\n",
       "      <td>0.003</td>\n",
       "      <td>0.000007</td>\n",
       "      <td>0.000070</td>\n",
       "    </tr>\n",
       "    <tr>\n",
       "      <th>11009</th>\n",
       "      <td>고암길_2</td>\n",
       "      <td>13648.546</td>\n",
       "      <td>99.999692</td>\n",
       "      <td>9.357588</td>\n",
       "    </tr>\n",
       "    <tr>\n",
       "      <th>11010</th>\n",
       "      <td>고암길_2</td>\n",
       "      <td>0.001</td>\n",
       "      <td>0.000007</td>\n",
       "      <td>0.000020</td>\n",
       "    </tr>\n",
       "    <tr>\n",
       "      <th>11011</th>\n",
       "      <td>고암길_2</td>\n",
       "      <td>0.002</td>\n",
       "      <td>0.000015</td>\n",
       "      <td>0.000028</td>\n",
       "    </tr>\n",
       "    <tr>\n",
       "      <th>11012</th>\n",
       "      <td>고암길_2</td>\n",
       "      <td>0.028</td>\n",
       "      <td>0.000205</td>\n",
       "      <td>0.000538</td>\n",
       "    </tr>\n",
       "    <tr>\n",
       "      <th>11013</th>\n",
       "      <td>고암길_2</td>\n",
       "      <td>0.011</td>\n",
       "      <td>0.000081</td>\n",
       "      <td>0.000280</td>\n",
       "    </tr>\n",
       "  </tbody>\n",
       "</table>\n",
       "</div>"
      ],
      "text/plain": [
       "               상권명       area  area_ratio  blk_area_ratio\n",
       "4438   동탄기흥로257번가길  38176.329  100.000000       19.147383\n",
       "7668      성남신흥동우체국      0.000    0.000000        0.000000\n",
       "7669      성남신흥동우체국      0.002    0.000004        0.000075\n",
       "7670      성남신흥동우체국      0.013    0.000029        0.000534\n",
       "7671      성남신흥동우체국  45424.029   99.999960       20.118698\n",
       "7672      성남신흥동우체국      0.003    0.000007        0.000070\n",
       "11009        고암길_2  13648.546   99.999692        9.357588\n",
       "11010        고암길_2      0.001    0.000007        0.000020\n",
       "11011        고암길_2      0.002    0.000015        0.000028\n",
       "11012        고암길_2      0.028    0.000205        0.000538\n",
       "11013        고암길_2      0.011    0.000081        0.000280"
      ]
     },
     "execution_count": 16,
     "metadata": {},
     "output_type": "execute_result"
    }
   ],
   "source": [
    "# blk_area_ratio > 30(%)일 때 데이터 정보\n",
    "golmok_merge.loc[~golmok_merge['상권코드'].isin(temp4['상권코드']), ['상권명', 'area','area_ratio', 'blk_area_ratio']]"
   ]
  },
  {
   "cell_type": "markdown",
   "id": "9ae3e7fe",
   "metadata": {},
   "source": [
    "30(%) 이상으로 했을 때 3개의 상권이 소실되는 것을 방지할 필요가 있음"
   ]
  },
  {
   "cell_type": "markdown",
   "id": "b3f2d36b",
   "metadata": {},
   "source": [
    "## 상권 내 비율"
   ]
  },
  {
   "cell_type": "code",
   "execution_count": 17,
   "id": "d25e79e4",
   "metadata": {
    "scrolled": true
   },
   "outputs": [],
   "source": [
    "# 15% 이상을 기준으로함\n",
    "temp = golmok_merge[golmok_merge['blk_area_ratio'] >= 15]"
   ]
  },
  {
   "cell_type": "code",
   "execution_count": 18,
   "id": "c357d51e",
   "metadata": {},
   "outputs": [
    {
     "data": {
      "text/html": [
       "<div>\n",
       "<style scoped>\n",
       "    .dataframe tbody tr th:only-of-type {\n",
       "        vertical-align: middle;\n",
       "    }\n",
       "\n",
       "    .dataframe tbody tr th {\n",
       "        vertical-align: top;\n",
       "    }\n",
       "\n",
       "    .dataframe thead th {\n",
       "        text-align: right;\n",
       "    }\n",
       "</style>\n",
       "<table border=\"1\" class=\"dataframe\">\n",
       "  <thead>\n",
       "    <tr style=\"text-align: right;\">\n",
       "      <th></th>\n",
       "      <th>상권명</th>\n",
       "      <th>area</th>\n",
       "      <th>area_ratio</th>\n",
       "      <th>blk_area_ratio</th>\n",
       "    </tr>\n",
       "  </thead>\n",
       "  <tbody>\n",
       "    <tr>\n",
       "      <th>11009</th>\n",
       "      <td>고암길_2</td>\n",
       "      <td>13648.546</td>\n",
       "      <td>99.999692</td>\n",
       "      <td>9.357588</td>\n",
       "    </tr>\n",
       "    <tr>\n",
       "      <th>11010</th>\n",
       "      <td>고암길_2</td>\n",
       "      <td>0.001</td>\n",
       "      <td>0.000007</td>\n",
       "      <td>0.000020</td>\n",
       "    </tr>\n",
       "    <tr>\n",
       "      <th>11011</th>\n",
       "      <td>고암길_2</td>\n",
       "      <td>0.002</td>\n",
       "      <td>0.000015</td>\n",
       "      <td>0.000028</td>\n",
       "    </tr>\n",
       "    <tr>\n",
       "      <th>11012</th>\n",
       "      <td>고암길_2</td>\n",
       "      <td>0.028</td>\n",
       "      <td>0.000205</td>\n",
       "      <td>0.000538</td>\n",
       "    </tr>\n",
       "    <tr>\n",
       "      <th>11013</th>\n",
       "      <td>고암길_2</td>\n",
       "      <td>0.011</td>\n",
       "      <td>0.000081</td>\n",
       "      <td>0.000280</td>\n",
       "    </tr>\n",
       "  </tbody>\n",
       "</table>\n",
       "</div>"
      ],
      "text/plain": [
       "         상권명       area  area_ratio  blk_area_ratio\n",
       "11009  고암길_2  13648.546   99.999692        9.357588\n",
       "11010  고암길_2      0.001    0.000007        0.000020\n",
       "11011  고암길_2      0.002    0.000015        0.000028\n",
       "11012  고암길_2      0.028    0.000205        0.000538\n",
       "11013  고암길_2      0.011    0.000081        0.000280"
      ]
     },
     "execution_count": 18,
     "metadata": {},
     "output_type": "execute_result"
    }
   ],
   "source": [
    "golmok_merge.loc[~golmok_merge['상권코드'].isin(temp['상권코드']), ['상권명', 'area','area_ratio', 'blk_area_ratio']]"
   ]
  },
  {
   "cell_type": "markdown",
   "id": "f04e31ee",
   "metadata": {},
   "source": [
    "고암길_2의 경우 5개의 상권 블록이 사라짐  \n",
    "상권 소실을 방지하기 위해 상권에서 상권블록이 차지하는 비율(area_ratio)가 큰 블록을 남겨야함  "
   ]
  },
  {
   "cell_type": "code",
   "execution_count": 19,
   "id": "02f61eb3",
   "metadata": {},
   "outputs": [],
   "source": [
    "temp2 = golmok_merge[~golmok_merge['상권코드'].isin(temp['상권코드'])]\n",
    "temp2 = temp2[temp2['area_ratio'] >= 90]"
   ]
  },
  {
   "cell_type": "code",
   "execution_count": 20,
   "id": "9ada9e79",
   "metadata": {},
   "outputs": [
    {
     "data": {
      "text/plain": [
       "(7734, 15)"
      ]
     },
     "execution_count": 20,
     "metadata": {},
     "output_type": "execute_result"
    }
   ],
   "source": [
    "temp.shape"
   ]
  },
  {
   "cell_type": "code",
   "execution_count": 21,
   "id": "6cd902a1",
   "metadata": {},
   "outputs": [
    {
     "data": {
      "text/plain": [
       "(1, 15)"
      ]
     },
     "execution_count": 21,
     "metadata": {},
     "output_type": "execute_result"
    }
   ],
   "source": [
    "temp2.shape"
   ]
  },
  {
   "cell_type": "code",
   "execution_count": 22,
   "id": "d8b45a13",
   "metadata": {},
   "outputs": [
    {
     "data": {
      "text/plain": [
       "(826,)"
      ]
     },
     "execution_count": 22,
     "metadata": {},
     "output_type": "execute_result"
    }
   ],
   "source": [
    "temp['상권코드'].value_counts().shape"
   ]
  },
  {
   "cell_type": "code",
   "execution_count": 23,
   "id": "61eb85e3",
   "metadata": {},
   "outputs": [
    {
     "data": {
      "text/plain": [
       "(1,)"
      ]
     },
     "execution_count": 23,
     "metadata": {},
     "output_type": "execute_result"
    }
   ],
   "source": [
    "temp2['상권코드'].value_counts().shape"
   ]
  },
  {
   "cell_type": "code",
   "execution_count": 24,
   "id": "3818bee7",
   "metadata": {},
   "outputs": [],
   "source": [
    "golmok_cut= pd.concat([temp, temp2])"
   ]
  },
  {
   "cell_type": "code",
   "execution_count": 25,
   "id": "0d8e0b96",
   "metadata": {},
   "outputs": [
    {
     "data": {
      "text/plain": [
       "(7735, 15)"
      ]
     },
     "execution_count": 25,
     "metadata": {},
     "output_type": "execute_result"
    }
   ],
   "source": [
    "golmok_cut.shape"
   ]
  },
  {
   "cell_type": "code",
   "execution_count": 26,
   "id": "52e64eff",
   "metadata": {},
   "outputs": [
    {
     "data": {
      "text/plain": [
       "(13968, 15)"
      ]
     },
     "execution_count": 26,
     "metadata": {},
     "output_type": "execute_result"
    }
   ],
   "source": [
    "golmok_merge.shape"
   ]
  },
  {
   "cell_type": "markdown",
   "id": "6aab6a8d",
   "metadata": {},
   "source": [
    "13968개의 데이터에서 이상치를 제거하면 7735개"
   ]
  },
  {
   "cell_type": "code",
   "execution_count": 27,
   "id": "8367009a",
   "metadata": {},
   "outputs": [
    {
     "data": {
      "text/html": [
       "<div>\n",
       "<style scoped>\n",
       "    .dataframe tbody tr th:only-of-type {\n",
       "        vertical-align: middle;\n",
       "    }\n",
       "\n",
       "    .dataframe tbody tr th {\n",
       "        vertical-align: top;\n",
       "    }\n",
       "\n",
       "    .dataframe thead th {\n",
       "        text-align: right;\n",
       "    }\n",
       "</style>\n",
       "<table border=\"1\" class=\"dataframe\">\n",
       "  <thead>\n",
       "    <tr style=\"text-align: right;\">\n",
       "      <th></th>\n",
       "      <th>상권명</th>\n",
       "      <th>area</th>\n",
       "      <th>area_ratio</th>\n",
       "      <th>blk_area_ratio</th>\n",
       "    </tr>\n",
       "  </thead>\n",
       "  <tbody>\n",
       "  </tbody>\n",
       "</table>\n",
       "</div>"
      ],
      "text/plain": [
       "Empty DataFrame\n",
       "Columns: [상권명, area, area_ratio, blk_area_ratio]\n",
       "Index: []"
      ]
     },
     "execution_count": 27,
     "metadata": {},
     "output_type": "execute_result"
    }
   ],
   "source": [
    "# 모든 상권이 포함되어있는지 확인\n",
    "# 다 포함되어 있을 경우 안보이는 것이 맞음\n",
    "golmok_merge.loc[~golmok_merge['상권코드'].isin(golmok_cut['상권코드']), ['상권명', 'area','area_ratio', 'blk_area_ratio']]"
   ]
  },
  {
   "cell_type": "code",
   "execution_count": 28,
   "id": "86ce5364",
   "metadata": {},
   "outputs": [
    {
     "data": {
      "text/html": [
       "<div>\n",
       "<style scoped>\n",
       "    .dataframe tbody tr th:only-of-type {\n",
       "        vertical-align: middle;\n",
       "    }\n",
       "\n",
       "    .dataframe tbody tr th {\n",
       "        vertical-align: top;\n",
       "    }\n",
       "\n",
       "    .dataframe thead th {\n",
       "        text-align: right;\n",
       "    }\n",
       "</style>\n",
       "<table border=\"1\" class=\"dataframe\">\n",
       "  <thead>\n",
       "    <tr style=\"text-align: right;\">\n",
       "      <th></th>\n",
       "      <th>상권코드</th>\n",
       "    </tr>\n",
       "  </thead>\n",
       "  <tbody>\n",
       "    <tr>\n",
       "      <th>골목_45</th>\n",
       "      <td>58</td>\n",
       "    </tr>\n",
       "    <tr>\n",
       "      <th>골목_693</th>\n",
       "      <td>50</td>\n",
       "    </tr>\n",
       "    <tr>\n",
       "      <th>골목_98</th>\n",
       "      <td>48</td>\n",
       "    </tr>\n",
       "    <tr>\n",
       "      <th>골목_689</th>\n",
       "      <td>47</td>\n",
       "    </tr>\n",
       "    <tr>\n",
       "      <th>골목_616</th>\n",
       "      <td>44</td>\n",
       "    </tr>\n",
       "    <tr>\n",
       "      <th>...</th>\n",
       "      <td>...</td>\n",
       "    </tr>\n",
       "    <tr>\n",
       "      <th>골목_30</th>\n",
       "      <td>1</td>\n",
       "    </tr>\n",
       "    <tr>\n",
       "      <th>골목_31</th>\n",
       "      <td>1</td>\n",
       "    </tr>\n",
       "    <tr>\n",
       "      <th>골목_738</th>\n",
       "      <td>1</td>\n",
       "    </tr>\n",
       "    <tr>\n",
       "      <th>골목_737</th>\n",
       "      <td>1</td>\n",
       "    </tr>\n",
       "    <tr>\n",
       "      <th>골목_658</th>\n",
       "      <td>1</td>\n",
       "    </tr>\n",
       "  </tbody>\n",
       "</table>\n",
       "<p>827 rows × 1 columns</p>\n",
       "</div>"
      ],
      "text/plain": [
       "        상권코드\n",
       "골목_45     58\n",
       "골목_693    50\n",
       "골목_98     48\n",
       "골목_689    47\n",
       "골목_616    44\n",
       "...      ...\n",
       "골목_30      1\n",
       "골목_31      1\n",
       "골목_738     1\n",
       "골목_737     1\n",
       "골목_658     1\n",
       "\n",
       "[827 rows x 1 columns]"
      ]
     },
     "execution_count": 28,
     "metadata": {},
     "output_type": "execute_result"
    }
   ],
   "source": [
    "pd.DataFrame(golmok_cut['상권코드'].value_counts())"
   ]
  },
  {
   "cell_type": "markdown",
   "id": "e7c230cc",
   "metadata": {},
   "source": [
    "골목 상권 총 827개 -> 상권유지"
   ]
  },
  {
   "cell_type": "markdown",
   "id": "2c0542dd",
   "metadata": {},
   "source": [
    "## 최종 전처리"
   ]
  },
  {
   "cell_type": "code",
   "execution_count": 29,
   "id": "46393766",
   "metadata": {},
   "outputs": [],
   "source": [
    "# 비율설정\n",
    "# 블록 면적에서 상권 블록의 면적 비율(blk_area_ratio)이 15(%)이상\n",
    "temp = golmok_merge[golmok_merge['blk_area_ratio'] >= 15]\n",
    "\n",
    "# 사라진 상권을 포함\n",
    "temp2 = golmok_merge[~golmok_merge['상권코드'].isin(temp['상권코드'])]\n",
    "temp2 = temp2[temp2['area_ratio'] >= 90]\n",
    "\n",
    "# merge\n",
    "golmok_cut = pd.concat([temp, temp2])"
   ]
  },
  {
   "cell_type": "code",
   "execution_count": 30,
   "id": "256227ca",
   "metadata": {},
   "outputs": [],
   "source": [
    "# 필요한 컬럼만 추출\n",
    "golmok_cut = golmok_cut[['wkt', '상권명', '다중지역정보', '업종정보', '점포수', '위도', '경도', '상권코드', 'BLK_CD', \"BLK_NM\"]]"
   ]
  },
  {
   "cell_type": "code",
   "execution_count": 31,
   "id": "504147af",
   "metadata": {},
   "outputs": [
    {
     "name": "stdout",
     "output_type": "stream",
     "text": [
      "<class 'pandas.core.frame.DataFrame'>\n",
      "Int64Index: 7735 entries, 1 to 11009\n",
      "Data columns (total 10 columns):\n",
      " #   Column  Non-Null Count  Dtype  \n",
      "---  ------  --------------  -----  \n",
      " 0   wkt     7735 non-null   object \n",
      " 1   상권명     7735 non-null   object \n",
      " 2   다중지역정보  7735 non-null   object \n",
      " 3   업종정보    7735 non-null   object \n",
      " 4   점포수     7735 non-null   int64  \n",
      " 5   위도      7735 non-null   float64\n",
      " 6   경도      7735 non-null   float64\n",
      " 7   상권코드    7735 non-null   object \n",
      " 8   BLK_CD  7735 non-null   int64  \n",
      " 9   BLK_NM  7735 non-null   object \n",
      "dtypes: float64(2), int64(2), object(6)\n",
      "memory usage: 664.7+ KB\n"
     ]
    }
   ],
   "source": [
    "golmok_cut.info()"
   ]
  },
  {
   "cell_type": "markdown",
   "id": "48b0c653",
   "metadata": {},
   "source": [
    "## 데이터 저장"
   ]
  },
  {
   "cell_type": "code",
   "execution_count": 32,
   "id": "da91f018",
   "metadata": {},
   "outputs": [],
   "source": [
    "# golmok_cut.to_csv('C:/Users/user/Desktop/경기신용보증재단/정제/골목,발달 상권 데이터/골목_발달상권_블록매핑_전처리/골목상권_블록매핑_전처리.csv',encoding='euc-kr',index=False)"
   ]
  },
  {
   "cell_type": "markdown",
   "id": "9ca8206d",
   "metadata": {},
   "source": [
    "# 발달상권"
   ]
  },
  {
   "cell_type": "markdown",
   "id": "f346a557",
   "metadata": {},
   "source": [
    "## 블록 내 비율"
   ]
  },
  {
   "cell_type": "code",
   "execution_count": 33,
   "id": "4120c884",
   "metadata": {},
   "outputs": [
    {
     "data": {
      "text/html": [
       "<div>\n",
       "<style scoped>\n",
       "    .dataframe tbody tr th:only-of-type {\n",
       "        vertical-align: middle;\n",
       "    }\n",
       "\n",
       "    .dataframe tbody tr th {\n",
       "        vertical-align: top;\n",
       "    }\n",
       "\n",
       "    .dataframe thead th {\n",
       "        text-align: right;\n",
       "    }\n",
       "</style>\n",
       "<table border=\"1\" class=\"dataframe\">\n",
       "  <thead>\n",
       "    <tr style=\"text-align: right;\">\n",
       "      <th></th>\n",
       "      <th>wkt</th>\n",
       "      <th>상권명</th>\n",
       "      <th>다중지역정보</th>\n",
       "      <th>업종정보</th>\n",
       "      <th>점포수</th>\n",
       "      <th>위도</th>\n",
       "      <th>경도</th>\n",
       "      <th>상권코드</th>\n",
       "      <th>BLK_CD</th>\n",
       "      <th>BLK_NM</th>\n",
       "      <th>area</th>\n",
       "    </tr>\n",
       "  </thead>\n",
       "  <tbody>\n",
       "    <tr>\n",
       "      <th>0</th>\n",
       "      <td>POLYGON ((126.7692787850 37.6609634390, 126.76...</td>\n",
       "      <td>라페스타라페스타</td>\n",
       "      <td>{\"type\":\"Polygon\",\"coordinates\":[[[126.7692787...</td>\n",
       "      <td>전자상거래 소매업/한식 일반 음식점업/커피 전문점/기타 주점업/화장품  비누 및 방...</td>\n",
       "      <td>703</td>\n",
       "      <td>37.660365</td>\n",
       "      <td>126.767849</td>\n",
       "      <td>발달_1</td>\n",
       "      <td>293357</td>\n",
       "      <td>경기고양 라페스타</td>\n",
       "      <td>18490.461</td>\n",
       "    </tr>\n",
       "    <tr>\n",
       "      <th>1</th>\n",
       "      <td>POLYGON ((126.7692787850 37.6609634390, 126.76...</td>\n",
       "      <td>라페스타라페스타</td>\n",
       "      <td>{\"type\":\"Polygon\",\"coordinates\":[[[126.7692787...</td>\n",
       "      <td>전자상거래 소매업/한식 일반 음식점업/커피 전문점/기타 주점업/화장품  비누 및 방...</td>\n",
       "      <td>703</td>\n",
       "      <td>37.660365</td>\n",
       "      <td>126.767849</td>\n",
       "      <td>발달_1</td>\n",
       "      <td>407624</td>\n",
       "      <td>경기고양 남정씨티프라자1차</td>\n",
       "      <td>25713.180</td>\n",
       "    </tr>\n",
       "    <tr>\n",
       "      <th>2</th>\n",
       "      <td>POLYGON ((126.7692787850 37.6609634390, 126.76...</td>\n",
       "      <td>라페스타라페스타</td>\n",
       "      <td>{\"type\":\"Polygon\",\"coordinates\":[[[126.7692787...</td>\n",
       "      <td>전자상거래 소매업/한식 일반 음식점업/커피 전문점/기타 주점업/화장품  비누 및 방...</td>\n",
       "      <td>703</td>\n",
       "      <td>37.660365</td>\n",
       "      <td>126.767849</td>\n",
       "      <td>발달_1</td>\n",
       "      <td>407699</td>\n",
       "      <td>경기고양 홈플러스</td>\n",
       "      <td>20886.116</td>\n",
       "    </tr>\n",
       "    <tr>\n",
       "      <th>3</th>\n",
       "      <td>POLYGON ((126.7692787850 37.6609634390, 126.76...</td>\n",
       "      <td>라페스타라페스타</td>\n",
       "      <td>{\"type\":\"Polygon\",\"coordinates\":[[[126.7692787...</td>\n",
       "      <td>전자상거래 소매업/한식 일반 음식점업/커피 전문점/기타 주점업/화장품  비누 및 방...</td>\n",
       "      <td>703</td>\n",
       "      <td>37.660365</td>\n",
       "      <td>126.767849</td>\n",
       "      <td>발달_1</td>\n",
       "      <td>407722</td>\n",
       "      <td>경기고양 프라임웨딩문화원</td>\n",
       "      <td>14284.647</td>\n",
       "    </tr>\n",
       "    <tr>\n",
       "      <th>4</th>\n",
       "      <td>POLYGON ((126.7692787850 37.6609634390, 126.76...</td>\n",
       "      <td>라페스타라페스타</td>\n",
       "      <td>{\"type\":\"Polygon\",\"coordinates\":[[[126.7692787...</td>\n",
       "      <td>전자상거래 소매업/한식 일반 음식점업/커피 전문점/기타 주점업/화장품  비누 및 방...</td>\n",
       "      <td>703</td>\n",
       "      <td>37.660365</td>\n",
       "      <td>126.767849</td>\n",
       "      <td>발달_1</td>\n",
       "      <td>213225</td>\n",
       "      <td>경기고양 고일프라자</td>\n",
       "      <td>18301.495</td>\n",
       "    </tr>\n",
       "    <tr>\n",
       "      <th>...</th>\n",
       "      <td>...</td>\n",
       "      <td>...</td>\n",
       "      <td>...</td>\n",
       "      <td>...</td>\n",
       "      <td>...</td>\n",
       "      <td>...</td>\n",
       "      <td>...</td>\n",
       "      <td>...</td>\n",
       "      <td>...</td>\n",
       "      <td>...</td>\n",
       "      <td>...</td>\n",
       "    </tr>\n",
       "    <tr>\n",
       "      <th>9431</th>\n",
       "      <td>POLYGON ((126.8517735760 37.3333533300, 126.85...</td>\n",
       "      <td>안산천동로4길</td>\n",
       "      <td>{\"type\":\"Polygon\",\"coordinates\":[[[126.8517735...</td>\n",
       "      <td>한식 일반 음식점업/두발 미용업/기타 주점업/태권도 및 무술 교육기관/부동산 중개 ...</td>\n",
       "      <td>46</td>\n",
       "      <td>37.333925</td>\n",
       "      <td>126.852318</td>\n",
       "      <td>발달_857</td>\n",
       "      <td>289076</td>\n",
       "      <td>경기안산 월피동성당</td>\n",
       "      <td>0.017</td>\n",
       "    </tr>\n",
       "    <tr>\n",
       "      <th>9432</th>\n",
       "      <td>POLYGON ((126.8517735760 37.3333533300, 126.85...</td>\n",
       "      <td>안산천동로4길</td>\n",
       "      <td>{\"type\":\"Polygon\",\"coordinates\":[[[126.8517735...</td>\n",
       "      <td>한식 일반 음식점업/두발 미용업/기타 주점업/태권도 및 무술 교육기관/부동산 중개 ...</td>\n",
       "      <td>46</td>\n",
       "      <td>37.333925</td>\n",
       "      <td>126.852318</td>\n",
       "      <td>발달_857</td>\n",
       "      <td>289074</td>\n",
       "      <td>경기안산 거산빌라</td>\n",
       "      <td>0.009</td>\n",
       "    </tr>\n",
       "    <tr>\n",
       "      <th>9433</th>\n",
       "      <td>POLYGON ((126.8517735760 37.3333533300, 126.85...</td>\n",
       "      <td>안산천동로4길</td>\n",
       "      <td>{\"type\":\"Polygon\",\"coordinates\":[[[126.8517735...</td>\n",
       "      <td>한식 일반 음식점업/두발 미용업/기타 주점업/태권도 및 무술 교육기관/부동산 중개 ...</td>\n",
       "      <td>46</td>\n",
       "      <td>37.333925</td>\n",
       "      <td>126.852318</td>\n",
       "      <td>발달_857</td>\n",
       "      <td>289064</td>\n",
       "      <td>경기안산 금성쉐르빌</td>\n",
       "      <td>0.004</td>\n",
       "    </tr>\n",
       "    <tr>\n",
       "      <th>9434</th>\n",
       "      <td>POLYGON ((126.8517735760 37.3333533300, 126.85...</td>\n",
       "      <td>안산천동로4길</td>\n",
       "      <td>{\"type\":\"Polygon\",\"coordinates\":[[[126.8517735...</td>\n",
       "      <td>한식 일반 음식점업/두발 미용업/기타 주점업/태권도 및 무술 교육기관/부동산 중개 ...</td>\n",
       "      <td>46</td>\n",
       "      <td>37.333925</td>\n",
       "      <td>126.852318</td>\n",
       "      <td>발달_857</td>\n",
       "      <td>289065</td>\n",
       "      <td>경기안산 백산빌라</td>\n",
       "      <td>5481.278</td>\n",
       "    </tr>\n",
       "    <tr>\n",
       "      <th>9435</th>\n",
       "      <td>POLYGON ((126.8517735760 37.3333533300, 126.85...</td>\n",
       "      <td>안산천동로4길</td>\n",
       "      <td>{\"type\":\"Polygon\",\"coordinates\":[[[126.8517735...</td>\n",
       "      <td>한식 일반 음식점업/두발 미용업/기타 주점업/태권도 및 무술 교육기관/부동산 중개 ...</td>\n",
       "      <td>46</td>\n",
       "      <td>37.333925</td>\n",
       "      <td>126.852318</td>\n",
       "      <td>발달_857</td>\n",
       "      <td>286331</td>\n",
       "      <td>경기안산 삼미하이츠빌</td>\n",
       "      <td>6296.820</td>\n",
       "    </tr>\n",
       "  </tbody>\n",
       "</table>\n",
       "<p>9436 rows × 11 columns</p>\n",
       "</div>"
      ],
      "text/plain": [
       "                                                    wkt       상권명  \\\n",
       "0     POLYGON ((126.7692787850 37.6609634390, 126.76...  라페스타라페스타   \n",
       "1     POLYGON ((126.7692787850 37.6609634390, 126.76...  라페스타라페스타   \n",
       "2     POLYGON ((126.7692787850 37.6609634390, 126.76...  라페스타라페스타   \n",
       "3     POLYGON ((126.7692787850 37.6609634390, 126.76...  라페스타라페스타   \n",
       "4     POLYGON ((126.7692787850 37.6609634390, 126.76...  라페스타라페스타   \n",
       "...                                                 ...       ...   \n",
       "9431  POLYGON ((126.8517735760 37.3333533300, 126.85...   안산천동로4길   \n",
       "9432  POLYGON ((126.8517735760 37.3333533300, 126.85...   안산천동로4길   \n",
       "9433  POLYGON ((126.8517735760 37.3333533300, 126.85...   안산천동로4길   \n",
       "9434  POLYGON ((126.8517735760 37.3333533300, 126.85...   안산천동로4길   \n",
       "9435  POLYGON ((126.8517735760 37.3333533300, 126.85...   안산천동로4길   \n",
       "\n",
       "                                                 다중지역정보  \\\n",
       "0     {\"type\":\"Polygon\",\"coordinates\":[[[126.7692787...   \n",
       "1     {\"type\":\"Polygon\",\"coordinates\":[[[126.7692787...   \n",
       "2     {\"type\":\"Polygon\",\"coordinates\":[[[126.7692787...   \n",
       "3     {\"type\":\"Polygon\",\"coordinates\":[[[126.7692787...   \n",
       "4     {\"type\":\"Polygon\",\"coordinates\":[[[126.7692787...   \n",
       "...                                                 ...   \n",
       "9431  {\"type\":\"Polygon\",\"coordinates\":[[[126.8517735...   \n",
       "9432  {\"type\":\"Polygon\",\"coordinates\":[[[126.8517735...   \n",
       "9433  {\"type\":\"Polygon\",\"coordinates\":[[[126.8517735...   \n",
       "9434  {\"type\":\"Polygon\",\"coordinates\":[[[126.8517735...   \n",
       "9435  {\"type\":\"Polygon\",\"coordinates\":[[[126.8517735...   \n",
       "\n",
       "                                                   업종정보  점포수         위도  \\\n",
       "0     전자상거래 소매업/한식 일반 음식점업/커피 전문점/기타 주점업/화장품  비누 및 방...  703  37.660365   \n",
       "1     전자상거래 소매업/한식 일반 음식점업/커피 전문점/기타 주점업/화장품  비누 및 방...  703  37.660365   \n",
       "2     전자상거래 소매업/한식 일반 음식점업/커피 전문점/기타 주점업/화장품  비누 및 방...  703  37.660365   \n",
       "3     전자상거래 소매업/한식 일반 음식점업/커피 전문점/기타 주점업/화장품  비누 및 방...  703  37.660365   \n",
       "4     전자상거래 소매업/한식 일반 음식점업/커피 전문점/기타 주점업/화장품  비누 및 방...  703  37.660365   \n",
       "...                                                 ...  ...        ...   \n",
       "9431  한식 일반 음식점업/두발 미용업/기타 주점업/태권도 및 무술 교육기관/부동산 중개 ...   46  37.333925   \n",
       "9432  한식 일반 음식점업/두발 미용업/기타 주점업/태권도 및 무술 교육기관/부동산 중개 ...   46  37.333925   \n",
       "9433  한식 일반 음식점업/두발 미용업/기타 주점업/태권도 및 무술 교육기관/부동산 중개 ...   46  37.333925   \n",
       "9434  한식 일반 음식점업/두발 미용업/기타 주점업/태권도 및 무술 교육기관/부동산 중개 ...   46  37.333925   \n",
       "9435  한식 일반 음식점업/두발 미용업/기타 주점업/태권도 및 무술 교육기관/부동산 중개 ...   46  37.333925   \n",
       "\n",
       "              경도    상권코드  BLK_CD          BLK_NM       area  \n",
       "0     126.767849    발달_1  293357       경기고양 라페스타  18490.461  \n",
       "1     126.767849    발달_1  407624  경기고양 남정씨티프라자1차  25713.180  \n",
       "2     126.767849    발달_1  407699       경기고양 홈플러스  20886.116  \n",
       "3     126.767849    발달_1  407722   경기고양 프라임웨딩문화원  14284.647  \n",
       "4     126.767849    발달_1  213225      경기고양 고일프라자  18301.495  \n",
       "...          ...     ...     ...             ...        ...  \n",
       "9431  126.852318  발달_857  289076      경기안산 월피동성당      0.017  \n",
       "9432  126.852318  발달_857  289074       경기안산 거산빌라      0.009  \n",
       "9433  126.852318  발달_857  289064      경기안산 금성쉐르빌      0.004  \n",
       "9434  126.852318  발달_857  289065       경기안산 백산빌라   5481.278  \n",
       "9435  126.852318  발달_857  286331     경기안산 삼미하이츠빌   6296.820  \n",
       "\n",
       "[9436 rows x 11 columns]"
      ]
     },
     "execution_count": 33,
     "metadata": {},
     "output_type": "execute_result"
    }
   ],
   "source": [
    "baldal"
   ]
  },
  {
   "cell_type": "code",
   "execution_count": 34,
   "id": "8d51bb57",
   "metadata": {},
   "outputs": [
    {
     "name": "stdout",
     "output_type": "stream",
     "text": [
      "<class 'pandas.core.frame.DataFrame'>\n",
      "RangeIndex: 9436 entries, 0 to 9435\n",
      "Data columns (total 11 columns):\n",
      " #   Column  Non-Null Count  Dtype  \n",
      "---  ------  --------------  -----  \n",
      " 0   wkt     9436 non-null   object \n",
      " 1   상권명     9436 non-null   object \n",
      " 2   다중지역정보  9436 non-null   object \n",
      " 3   업종정보    9436 non-null   object \n",
      " 4   점포수     9436 non-null   int64  \n",
      " 5   위도      9436 non-null   float64\n",
      " 6   경도      9436 non-null   float64\n",
      " 7   상권코드    9436 non-null   object \n",
      " 8   BLK_CD  9436 non-null   int64  \n",
      " 9   BLK_NM  9436 non-null   object \n",
      " 10  area    9436 non-null   float64\n",
      "dtypes: float64(3), int64(2), object(6)\n",
      "memory usage: 811.0+ KB\n"
     ]
    }
   ],
   "source": [
    "baldal.info()"
   ]
  },
  {
   "cell_type": "code",
   "execution_count": 35,
   "id": "304b7061",
   "metadata": {},
   "outputs": [
    {
     "data": {
      "text/plain": [
       "발달_721    85\n",
       "발달_844    68\n",
       "발달_190    62\n",
       "발달_283    59\n",
       "발달_535    58\n",
       "          ..\n",
       "발달_223     1\n",
       "발달_724     1\n",
       "발달_715     1\n",
       "발달_260     1\n",
       "발달_429     1\n",
       "Name: 상권코드, Length: 857, dtype: int64"
      ]
     },
     "execution_count": 35,
     "metadata": {},
     "output_type": "execute_result"
    }
   ],
   "source": [
    "baldal['상권코드'].value_counts()"
   ]
  },
  {
   "cell_type": "markdown",
   "id": "7a03d229",
   "metadata": {},
   "source": [
    "총 9436개의 데이터와 857개의 상권이 존재함을 확인"
   ]
  },
  {
   "cell_type": "code",
   "execution_count": 36,
   "id": "aaad45cc",
   "metadata": {
    "scrolled": true
   },
   "outputs": [],
   "source": [
    "# 상권에 따른 area_sum(면적 합계)\n",
    "baldal_area_sum = pd.DataFrame(baldal.groupby('상권코드')['area'].sum()) #한 상권의 면적 = area_sum\n",
    "baldal_area_sum.reset_index(level=['상권코드'], inplace = True) \n",
    "baldal_area_sum.rename(columns={'area':'area_sum'},inplace=True)\n",
    "\n",
    "# 발달상권 데이터에 area_sum 붙이기\n",
    "baldal_merge=pd.merge(left=baldal, right=baldal_area_sum, how='left', on='상권코드')\n",
    "\n",
    "# 상권 내에서 해당 조각의 면적 비율\n",
    "baldal_merge['area_ratio'] = (baldal_merge['area']/baldal_merge['area_sum'])*100"
   ]
  },
  {
   "cell_type": "code",
   "execution_count": 37,
   "id": "3f7686a5",
   "metadata": {},
   "outputs": [
    {
     "data": {
      "text/html": [
       "<div>\n",
       "<style scoped>\n",
       "    .dataframe tbody tr th:only-of-type {\n",
       "        vertical-align: middle;\n",
       "    }\n",
       "\n",
       "    .dataframe tbody tr th {\n",
       "        vertical-align: top;\n",
       "    }\n",
       "\n",
       "    .dataframe thead th {\n",
       "        text-align: right;\n",
       "    }\n",
       "</style>\n",
       "<table border=\"1\" class=\"dataframe\">\n",
       "  <thead>\n",
       "    <tr style=\"text-align: right;\">\n",
       "      <th></th>\n",
       "      <th>wkt</th>\n",
       "      <th>상권명</th>\n",
       "      <th>다중지역정보</th>\n",
       "      <th>업종정보</th>\n",
       "      <th>점포수</th>\n",
       "      <th>위도</th>\n",
       "      <th>경도</th>\n",
       "      <th>상권코드</th>\n",
       "      <th>BLK_CD</th>\n",
       "      <th>BLK_NM</th>\n",
       "      <th>area</th>\n",
       "      <th>area_sum</th>\n",
       "      <th>area_ratio</th>\n",
       "    </tr>\n",
       "  </thead>\n",
       "  <tbody>\n",
       "    <tr>\n",
       "      <th>0</th>\n",
       "      <td>POLYGON ((126.7692787850 37.6609634390, 126.76...</td>\n",
       "      <td>라페스타라페스타</td>\n",
       "      <td>{\"type\":\"Polygon\",\"coordinates\":[[[126.7692787...</td>\n",
       "      <td>전자상거래 소매업/한식 일반 음식점업/커피 전문점/기타 주점업/화장품  비누 및 방...</td>\n",
       "      <td>703</td>\n",
       "      <td>37.660365</td>\n",
       "      <td>126.767849</td>\n",
       "      <td>발달_1</td>\n",
       "      <td>293357</td>\n",
       "      <td>경기고양 라페스타</td>\n",
       "      <td>18490.461</td>\n",
       "      <td>108244.146</td>\n",
       "      <td>17.082181</td>\n",
       "    </tr>\n",
       "    <tr>\n",
       "      <th>1</th>\n",
       "      <td>POLYGON ((126.7692787850 37.6609634390, 126.76...</td>\n",
       "      <td>라페스타라페스타</td>\n",
       "      <td>{\"type\":\"Polygon\",\"coordinates\":[[[126.7692787...</td>\n",
       "      <td>전자상거래 소매업/한식 일반 음식점업/커피 전문점/기타 주점업/화장품  비누 및 방...</td>\n",
       "      <td>703</td>\n",
       "      <td>37.660365</td>\n",
       "      <td>126.767849</td>\n",
       "      <td>발달_1</td>\n",
       "      <td>407624</td>\n",
       "      <td>경기고양 남정씨티프라자1차</td>\n",
       "      <td>25713.180</td>\n",
       "      <td>108244.146</td>\n",
       "      <td>23.754800</td>\n",
       "    </tr>\n",
       "  </tbody>\n",
       "</table>\n",
       "</div>"
      ],
      "text/plain": [
       "                                                 wkt       상권명  \\\n",
       "0  POLYGON ((126.7692787850 37.6609634390, 126.76...  라페스타라페스타   \n",
       "1  POLYGON ((126.7692787850 37.6609634390, 126.76...  라페스타라페스타   \n",
       "\n",
       "                                              다중지역정보  \\\n",
       "0  {\"type\":\"Polygon\",\"coordinates\":[[[126.7692787...   \n",
       "1  {\"type\":\"Polygon\",\"coordinates\":[[[126.7692787...   \n",
       "\n",
       "                                                업종정보  점포수         위도  \\\n",
       "0  전자상거래 소매업/한식 일반 음식점업/커피 전문점/기타 주점업/화장품  비누 및 방...  703  37.660365   \n",
       "1  전자상거래 소매업/한식 일반 음식점업/커피 전문점/기타 주점업/화장품  비누 및 방...  703  37.660365   \n",
       "\n",
       "           경도  상권코드  BLK_CD          BLK_NM       area    area_sum  area_ratio  \n",
       "0  126.767849  발달_1  293357       경기고양 라페스타  18490.461  108244.146   17.082181  \n",
       "1  126.767849  발달_1  407624  경기고양 남정씨티프라자1차  25713.180  108244.146   23.754800  "
      ]
     },
     "execution_count": 37,
     "metadata": {},
     "output_type": "execute_result"
    }
   ],
   "source": [
    "baldal_merge.head(2)"
   ]
  },
  {
   "cell_type": "code",
   "execution_count": 38,
   "id": "45a550e0",
   "metadata": {},
   "outputs": [],
   "source": [
    "# bc 카드 블록데이터의 면적 추출\n",
    "# 블록코드_area는 qgis를 통하여 추출한 데이터\n",
    "df_blk = pd.read_csv('C:/Users/user/Desktop/경기신용보증재단/정제/골목,발달 상권 데이터/골목_발달상권_블록매핑_전처리/골목_발달상권_블록매핑_전처리코드/블록코드_area.csv',encoding='euc-kr')\n",
    "df_blk = df_blk[['BLK_CD','area']]\n",
    "df_blk.rename(columns={'area':'blk_area'},inplace=True)\n",
    "\n",
    "# 상권 데이터와 비씨카드 상권 데이터 merge\n",
    "baldal_merge = pd.merge(left=baldal_merge, right=df_blk, how='left', on='BLK_CD') \n",
    "\n",
    "# BC카드 블록에서의 상권 블록 면적 비율\n",
    "baldal_merge['blk_area_ratio'] = (baldal_merge['area']/baldal_merge['blk_area'])*100"
   ]
  },
  {
   "cell_type": "code",
   "execution_count": 39,
   "id": "a07cbf23",
   "metadata": {},
   "outputs": [
    {
     "data": {
      "text/html": [
       "<div>\n",
       "<style scoped>\n",
       "    .dataframe tbody tr th:only-of-type {\n",
       "        vertical-align: middle;\n",
       "    }\n",
       "\n",
       "    .dataframe tbody tr th {\n",
       "        vertical-align: top;\n",
       "    }\n",
       "\n",
       "    .dataframe thead th {\n",
       "        text-align: right;\n",
       "    }\n",
       "</style>\n",
       "<table border=\"1\" class=\"dataframe\">\n",
       "  <thead>\n",
       "    <tr style=\"text-align: right;\">\n",
       "      <th></th>\n",
       "      <th>wkt</th>\n",
       "      <th>상권명</th>\n",
       "      <th>다중지역정보</th>\n",
       "      <th>업종정보</th>\n",
       "      <th>점포수</th>\n",
       "      <th>위도</th>\n",
       "      <th>경도</th>\n",
       "      <th>상권코드</th>\n",
       "      <th>BLK_CD</th>\n",
       "      <th>BLK_NM</th>\n",
       "      <th>area</th>\n",
       "      <th>area_sum</th>\n",
       "      <th>area_ratio</th>\n",
       "      <th>blk_area</th>\n",
       "      <th>blk_area_ratio</th>\n",
       "    </tr>\n",
       "  </thead>\n",
       "  <tbody>\n",
       "    <tr>\n",
       "      <th>0</th>\n",
       "      <td>POLYGON ((126.7692787850 37.6609634390, 126.76...</td>\n",
       "      <td>라페스타라페스타</td>\n",
       "      <td>{\"type\":\"Polygon\",\"coordinates\":[[[126.7692787...</td>\n",
       "      <td>전자상거래 소매업/한식 일반 음식점업/커피 전문점/기타 주점업/화장품  비누 및 방...</td>\n",
       "      <td>703</td>\n",
       "      <td>37.660365</td>\n",
       "      <td>126.767849</td>\n",
       "      <td>발달_1</td>\n",
       "      <td>293357</td>\n",
       "      <td>경기고양 라페스타</td>\n",
       "      <td>18490.461</td>\n",
       "      <td>108244.146</td>\n",
       "      <td>17.082181</td>\n",
       "      <td>24676.475</td>\n",
       "      <td>74.931533</td>\n",
       "    </tr>\n",
       "    <tr>\n",
       "      <th>1</th>\n",
       "      <td>POLYGON ((126.7692787850 37.6609634390, 126.76...</td>\n",
       "      <td>라페스타라페스타</td>\n",
       "      <td>{\"type\":\"Polygon\",\"coordinates\":[[[126.7692787...</td>\n",
       "      <td>전자상거래 소매업/한식 일반 음식점업/커피 전문점/기타 주점업/화장품  비누 및 방...</td>\n",
       "      <td>703</td>\n",
       "      <td>37.660365</td>\n",
       "      <td>126.767849</td>\n",
       "      <td>발달_1</td>\n",
       "      <td>407624</td>\n",
       "      <td>경기고양 남정씨티프라자1차</td>\n",
       "      <td>25713.180</td>\n",
       "      <td>108244.146</td>\n",
       "      <td>23.754800</td>\n",
       "      <td>28277.298</td>\n",
       "      <td>90.932238</td>\n",
       "    </tr>\n",
       "    <tr>\n",
       "      <th>2</th>\n",
       "      <td>POLYGON ((126.7692787850 37.6609634390, 126.76...</td>\n",
       "      <td>라페스타라페스타</td>\n",
       "      <td>{\"type\":\"Polygon\",\"coordinates\":[[[126.7692787...</td>\n",
       "      <td>전자상거래 소매업/한식 일반 음식점업/커피 전문점/기타 주점업/화장품  비누 및 방...</td>\n",
       "      <td>703</td>\n",
       "      <td>37.660365</td>\n",
       "      <td>126.767849</td>\n",
       "      <td>발달_1</td>\n",
       "      <td>407699</td>\n",
       "      <td>경기고양 홈플러스</td>\n",
       "      <td>20886.116</td>\n",
       "      <td>108244.146</td>\n",
       "      <td>19.295377</td>\n",
       "      <td>23326.756</td>\n",
       "      <td>89.537165</td>\n",
       "    </tr>\n",
       "    <tr>\n",
       "      <th>3</th>\n",
       "      <td>POLYGON ((126.7692787850 37.6609634390, 126.76...</td>\n",
       "      <td>라페스타라페스타</td>\n",
       "      <td>{\"type\":\"Polygon\",\"coordinates\":[[[126.7692787...</td>\n",
       "      <td>전자상거래 소매업/한식 일반 음식점업/커피 전문점/기타 주점업/화장품  비누 및 방...</td>\n",
       "      <td>703</td>\n",
       "      <td>37.660365</td>\n",
       "      <td>126.767849</td>\n",
       "      <td>발달_1</td>\n",
       "      <td>407722</td>\n",
       "      <td>경기고양 프라임웨딩문화원</td>\n",
       "      <td>14284.647</td>\n",
       "      <td>108244.146</td>\n",
       "      <td>13.196692</td>\n",
       "      <td>21511.821</td>\n",
       "      <td>66.403709</td>\n",
       "    </tr>\n",
       "    <tr>\n",
       "      <th>4</th>\n",
       "      <td>POLYGON ((126.7692787850 37.6609634390, 126.76...</td>\n",
       "      <td>라페스타라페스타</td>\n",
       "      <td>{\"type\":\"Polygon\",\"coordinates\":[[[126.7692787...</td>\n",
       "      <td>전자상거래 소매업/한식 일반 음식점업/커피 전문점/기타 주점업/화장품  비누 및 방...</td>\n",
       "      <td>703</td>\n",
       "      <td>37.660365</td>\n",
       "      <td>126.767849</td>\n",
       "      <td>발달_1</td>\n",
       "      <td>213225</td>\n",
       "      <td>경기고양 고일프라자</td>\n",
       "      <td>18301.495</td>\n",
       "      <td>108244.146</td>\n",
       "      <td>16.907607</td>\n",
       "      <td>23719.005</td>\n",
       "      <td>77.159624</td>\n",
       "    </tr>\n",
       "  </tbody>\n",
       "</table>\n",
       "</div>"
      ],
      "text/plain": [
       "                                                 wkt       상권명  \\\n",
       "0  POLYGON ((126.7692787850 37.6609634390, 126.76...  라페스타라페스타   \n",
       "1  POLYGON ((126.7692787850 37.6609634390, 126.76...  라페스타라페스타   \n",
       "2  POLYGON ((126.7692787850 37.6609634390, 126.76...  라페스타라페스타   \n",
       "3  POLYGON ((126.7692787850 37.6609634390, 126.76...  라페스타라페스타   \n",
       "4  POLYGON ((126.7692787850 37.6609634390, 126.76...  라페스타라페스타   \n",
       "\n",
       "                                              다중지역정보  \\\n",
       "0  {\"type\":\"Polygon\",\"coordinates\":[[[126.7692787...   \n",
       "1  {\"type\":\"Polygon\",\"coordinates\":[[[126.7692787...   \n",
       "2  {\"type\":\"Polygon\",\"coordinates\":[[[126.7692787...   \n",
       "3  {\"type\":\"Polygon\",\"coordinates\":[[[126.7692787...   \n",
       "4  {\"type\":\"Polygon\",\"coordinates\":[[[126.7692787...   \n",
       "\n",
       "                                                업종정보  점포수         위도  \\\n",
       "0  전자상거래 소매업/한식 일반 음식점업/커피 전문점/기타 주점업/화장품  비누 및 방...  703  37.660365   \n",
       "1  전자상거래 소매업/한식 일반 음식점업/커피 전문점/기타 주점업/화장품  비누 및 방...  703  37.660365   \n",
       "2  전자상거래 소매업/한식 일반 음식점업/커피 전문점/기타 주점업/화장품  비누 및 방...  703  37.660365   \n",
       "3  전자상거래 소매업/한식 일반 음식점업/커피 전문점/기타 주점업/화장품  비누 및 방...  703  37.660365   \n",
       "4  전자상거래 소매업/한식 일반 음식점업/커피 전문점/기타 주점업/화장품  비누 및 방...  703  37.660365   \n",
       "\n",
       "           경도  상권코드  BLK_CD          BLK_NM       area    area_sum  \\\n",
       "0  126.767849  발달_1  293357       경기고양 라페스타  18490.461  108244.146   \n",
       "1  126.767849  발달_1  407624  경기고양 남정씨티프라자1차  25713.180  108244.146   \n",
       "2  126.767849  발달_1  407699       경기고양 홈플러스  20886.116  108244.146   \n",
       "3  126.767849  발달_1  407722   경기고양 프라임웨딩문화원  14284.647  108244.146   \n",
       "4  126.767849  발달_1  213225      경기고양 고일프라자  18301.495  108244.146   \n",
       "\n",
       "   area_ratio   blk_area  blk_area_ratio  \n",
       "0   17.082181  24676.475       74.931533  \n",
       "1   23.754800  28277.298       90.932238  \n",
       "2   19.295377  23326.756       89.537165  \n",
       "3   13.196692  21511.821       66.403709  \n",
       "4   16.907607  23719.005       77.159624  "
      ]
     },
     "execution_count": 39,
     "metadata": {},
     "output_type": "execute_result"
    }
   ],
   "source": [
    "baldal_merge.head()"
   ]
  },
  {
   "cell_type": "markdown",
   "id": "2f8219b4",
   "metadata": {},
   "source": [
    "area : 상권 블록 면적  \n",
    "area_sum: 상권 면적의 합  \n",
    "area_ratio: 상권 면적에서 상권 블록의 면적 비율  \n",
    "blk_area: 블록 면적  \n",
    "blk_area_ratio: 블록 면적에서 상권 블록의 면적 비율"
   ]
  },
  {
   "cell_type": "code",
   "execution_count": 40,
   "id": "eed7d056",
   "metadata": {},
   "outputs": [
    {
     "data": {
      "text/plain": [
       "(9436, 15)"
      ]
     },
     "execution_count": 40,
     "metadata": {},
     "output_type": "execute_result"
    }
   ],
   "source": [
    "# 데이터 개수 보존 체크 9436\n",
    "baldal_merge.shape"
   ]
  },
  {
   "cell_type": "code",
   "execution_count": 41,
   "id": "71af9cdf",
   "metadata": {},
   "outputs": [
    {
     "name": "stdout",
     "output_type": "stream",
     "text": [
      "<class 'pandas.core.frame.DataFrame'>\n",
      "Int64Index: 9436 entries, 0 to 9435\n",
      "Data columns (total 15 columns):\n",
      " #   Column          Non-Null Count  Dtype  \n",
      "---  ------          --------------  -----  \n",
      " 0   wkt             9436 non-null   object \n",
      " 1   상권명             9436 non-null   object \n",
      " 2   다중지역정보          9436 non-null   object \n",
      " 3   업종정보            9436 non-null   object \n",
      " 4   점포수             9436 non-null   int64  \n",
      " 5   위도              9436 non-null   float64\n",
      " 6   경도              9436 non-null   float64\n",
      " 7   상권코드            9436 non-null   object \n",
      " 8   BLK_CD          9436 non-null   int64  \n",
      " 9   BLK_NM          9436 non-null   object \n",
      " 10  area            9436 non-null   float64\n",
      " 11  area_sum        9436 non-null   float64\n",
      " 12  area_ratio      9436 non-null   float64\n",
      " 13  blk_area        9436 non-null   float64\n",
      " 14  blk_area_ratio  9436 non-null   float64\n",
      "dtypes: float64(7), int64(2), object(6)\n",
      "memory usage: 1.2+ MB\n"
     ]
    }
   ],
   "source": [
    "baldal_merge.info()"
   ]
  },
  {
   "cell_type": "code",
   "execution_count": 42,
   "id": "ae296929",
   "metadata": {},
   "outputs": [
    {
     "data": {
      "text/html": [
       "<div>\n",
       "<style scoped>\n",
       "    .dataframe tbody tr th:only-of-type {\n",
       "        vertical-align: middle;\n",
       "    }\n",
       "\n",
       "    .dataframe tbody tr th {\n",
       "        vertical-align: top;\n",
       "    }\n",
       "\n",
       "    .dataframe thead th {\n",
       "        text-align: right;\n",
       "    }\n",
       "</style>\n",
       "<table border=\"1\" class=\"dataframe\">\n",
       "  <thead>\n",
       "    <tr style=\"text-align: right;\">\n",
       "      <th></th>\n",
       "      <th>상권코드</th>\n",
       "    </tr>\n",
       "  </thead>\n",
       "  <tbody>\n",
       "    <tr>\n",
       "      <th>발달_844</th>\n",
       "      <td>51</td>\n",
       "    </tr>\n",
       "    <tr>\n",
       "      <th>발달_283</th>\n",
       "      <td>49</td>\n",
       "    </tr>\n",
       "    <tr>\n",
       "      <th>발달_721</th>\n",
       "      <td>49</td>\n",
       "    </tr>\n",
       "    <tr>\n",
       "      <th>발달_285</th>\n",
       "      <td>44</td>\n",
       "    </tr>\n",
       "    <tr>\n",
       "      <th>발달_190</th>\n",
       "      <td>42</td>\n",
       "    </tr>\n",
       "    <tr>\n",
       "      <th>...</th>\n",
       "      <td>...</td>\n",
       "    </tr>\n",
       "    <tr>\n",
       "      <th>발달_625</th>\n",
       "      <td>1</td>\n",
       "    </tr>\n",
       "    <tr>\n",
       "      <th>발달_752</th>\n",
       "      <td>1</td>\n",
       "    </tr>\n",
       "    <tr>\n",
       "      <th>발달_400</th>\n",
       "      <td>1</td>\n",
       "    </tr>\n",
       "    <tr>\n",
       "      <th>발달_179</th>\n",
       "      <td>1</td>\n",
       "    </tr>\n",
       "    <tr>\n",
       "      <th>발달_539</th>\n",
       "      <td>1</td>\n",
       "    </tr>\n",
       "  </tbody>\n",
       "</table>\n",
       "<p>856 rows × 1 columns</p>\n",
       "</div>"
      ],
      "text/plain": [
       "        상권코드\n",
       "발달_844    51\n",
       "발달_283    49\n",
       "발달_721    49\n",
       "발달_285    44\n",
       "발달_190    42\n",
       "...      ...\n",
       "발달_625     1\n",
       "발달_752     1\n",
       "발달_400     1\n",
       "발달_179     1\n",
       "발달_539     1\n",
       "\n",
       "[856 rows x 1 columns]"
      ]
     },
     "execution_count": 42,
     "metadata": {},
     "output_type": "execute_result"
    }
   ],
   "source": [
    "# 블록 면적에서 상권 블록의 면적 비율(blk_area_ratio)이 20(%) 이상일 때 상권 하나가 소실 됨\n",
    "temp = baldal_merge[baldal_merge['blk_area_ratio'] >= 20]\n",
    "pd.DataFrame(temp['상권코드'].value_counts())"
   ]
  },
  {
   "cell_type": "markdown",
   "id": "3f50b0a6",
   "metadata": {},
   "source": [
    "856개로 하나 소실"
   ]
  },
  {
   "cell_type": "code",
   "execution_count": 43,
   "id": "311528af",
   "metadata": {},
   "outputs": [
    {
     "name": "stdout",
     "output_type": "stream",
     "text": [
      "0\n",
      "1\n",
      "1\n"
     ]
    }
   ],
   "source": [
    "# 블록 면적에서 상권 블록의 면적 비율(blk_area_ratio)에 따른 상권 소실 개수 체크\n",
    "\n",
    "temp1 = baldal_merge[baldal_merge['blk_area_ratio'] >= 10] # 상권 유지\n",
    "temp2 = baldal_merge[baldal_merge['blk_area_ratio'] >= 15] # 상권 유지\n",
    "temp3 = baldal_merge[baldal_merge['blk_area_ratio'] >= 20] # 상권 한 개 소실\n",
    "temp4 = baldal_merge[baldal_merge['blk_area_ratio'] >= 30] # 상권 두 개 소실\n",
    "\n",
    "print(len(set(temp1['다중지역정보'])^set(temp2['다중지역정보'])))\n",
    "print(len(set(temp2['다중지역정보'])^set(temp3['다중지역정보'])))\n",
    "print(len(set(temp3['다중지역정보'])^set(temp4['다중지역정보'])))"
   ]
  },
  {
   "cell_type": "code",
   "execution_count": 44,
   "id": "c69f061c",
   "metadata": {},
   "outputs": [
    {
     "name": "stdout",
     "output_type": "stream",
     "text": [
      "0\n",
      "1\n",
      "1\n"
     ]
    }
   ],
   "source": [
    "print(len(set(temp1['상권코드'])^set(temp2['상권코드'])))\n",
    "print(len(set(temp2['상권코드'])^set(temp3['상권코드'])))\n",
    "print(len(set(temp3['상권코드'])^set(temp4['상권코드'])))"
   ]
  },
  {
   "cell_type": "markdown",
   "id": "a52cb546",
   "metadata": {},
   "source": [
    "블록 내 상권 블록의 비율이 15% 이상인 것을 보았을 때 상권 1개 소실  \n",
    "블록 내 상권 블록의 비율이 20% 이상인 것을 보았을 때 상권 2개 소실"
   ]
  },
  {
   "cell_type": "code",
   "execution_count": 45,
   "id": "c8052a1a",
   "metadata": {},
   "outputs": [
    {
     "data": {
      "text/plain": [
       "(5399, 15)"
      ]
     },
     "execution_count": 45,
     "metadata": {},
     "output_type": "execute_result"
    }
   ],
   "source": [
    "# blk_area_ratio >= 30(%)일 때 데이터 개수\n",
    "temp4.shape"
   ]
  },
  {
   "cell_type": "code",
   "execution_count": 46,
   "id": "b156abaa",
   "metadata": {},
   "outputs": [
    {
     "data": {
      "text/html": [
       "<div>\n",
       "<style scoped>\n",
       "    .dataframe tbody tr th:only-of-type {\n",
       "        vertical-align: middle;\n",
       "    }\n",
       "\n",
       "    .dataframe tbody tr th {\n",
       "        vertical-align: top;\n",
       "    }\n",
       "\n",
       "    .dataframe thead th {\n",
       "        text-align: right;\n",
       "    }\n",
       "</style>\n",
       "<table border=\"1\" class=\"dataframe\">\n",
       "  <thead>\n",
       "    <tr style=\"text-align: right;\">\n",
       "      <th></th>\n",
       "      <th>상권명</th>\n",
       "      <th>area</th>\n",
       "      <th>area_ratio</th>\n",
       "      <th>blk_area_ratio</th>\n",
       "    </tr>\n",
       "  </thead>\n",
       "  <tbody>\n",
       "    <tr>\n",
       "      <th>941</th>\n",
       "      <td>원곡성당길</td>\n",
       "      <td>12331.578</td>\n",
       "      <td>100.0</td>\n",
       "      <td>16.851537</td>\n",
       "    </tr>\n",
       "    <tr>\n",
       "      <th>1030</th>\n",
       "      <td>홈플러스의전부점</td>\n",
       "      <td>11878.249</td>\n",
       "      <td>100.0</td>\n",
       "      <td>29.021852</td>\n",
       "    </tr>\n",
       "  </tbody>\n",
       "</table>\n",
       "</div>"
      ],
      "text/plain": [
       "           상권명       area  area_ratio  blk_area_ratio\n",
       "941      원곡성당길  12331.578       100.0       16.851537\n",
       "1030  홈플러스의전부점  11878.249       100.0       29.021852"
      ]
     },
     "execution_count": 46,
     "metadata": {},
     "output_type": "execute_result"
    }
   ],
   "source": [
    "baldal_merge.loc[~baldal_merge['상권코드'].isin(temp4['상권코드']), ['상권명', 'area','area_ratio', 'blk_area_ratio']]"
   ]
  },
  {
   "cell_type": "markdown",
   "id": "4dcf7a1e",
   "metadata": {},
   "source": [
    "30(%) 이상으로 했을 때 2개의 상권이 소실됨"
   ]
  },
  {
   "cell_type": "markdown",
   "id": "28a927a8",
   "metadata": {},
   "source": [
    "## 상권 내 비율"
   ]
  },
  {
   "cell_type": "code",
   "execution_count": 47,
   "id": "514a9db6",
   "metadata": {},
   "outputs": [],
   "source": [
    "# 15% 이상을 기준으로함\n",
    "temp = baldal_merge[baldal_merge['blk_area_ratio'] >= 15]"
   ]
  },
  {
   "cell_type": "code",
   "execution_count": 48,
   "id": "cb3d1b9f",
   "metadata": {},
   "outputs": [
    {
     "data": {
      "text/html": [
       "<div>\n",
       "<style scoped>\n",
       "    .dataframe tbody tr th:only-of-type {\n",
       "        vertical-align: middle;\n",
       "    }\n",
       "\n",
       "    .dataframe tbody tr th {\n",
       "        vertical-align: top;\n",
       "    }\n",
       "\n",
       "    .dataframe thead th {\n",
       "        text-align: right;\n",
       "    }\n",
       "</style>\n",
       "<table border=\"1\" class=\"dataframe\">\n",
       "  <thead>\n",
       "    <tr style=\"text-align: right;\">\n",
       "      <th></th>\n",
       "      <th>상권명</th>\n",
       "      <th>area</th>\n",
       "      <th>area_ratio</th>\n",
       "      <th>blk_area_ratio</th>\n",
       "    </tr>\n",
       "  </thead>\n",
       "  <tbody>\n",
       "  </tbody>\n",
       "</table>\n",
       "</div>"
      ],
      "text/plain": [
       "Empty DataFrame\n",
       "Columns: [상권명, area, area_ratio, blk_area_ratio]\n",
       "Index: []"
      ]
     },
     "execution_count": 48,
     "metadata": {},
     "output_type": "execute_result"
    }
   ],
   "source": [
    "baldal_merge.loc[~baldal_merge['상권코드'].isin(temp['상권코드']), ['상권명', 'area','area_ratio', 'blk_area_ratio']]"
   ]
  },
  {
   "cell_type": "markdown",
   "id": "9e789382",
   "metadata": {},
   "source": [
    "15(%) 이상으로 했을 때 소실되는 상권이 없음"
   ]
  },
  {
   "cell_type": "code",
   "execution_count": 49,
   "id": "2a4d1eb7",
   "metadata": {},
   "outputs": [
    {
     "data": {
      "text/plain": [
       "(5451, 15)"
      ]
     },
     "execution_count": 49,
     "metadata": {},
     "output_type": "execute_result"
    }
   ],
   "source": [
    "temp.shape"
   ]
  },
  {
   "cell_type": "code",
   "execution_count": 50,
   "id": "d1f2d9ab",
   "metadata": {},
   "outputs": [
    {
     "data": {
      "text/html": [
       "<div>\n",
       "<style scoped>\n",
       "    .dataframe tbody tr th:only-of-type {\n",
       "        vertical-align: middle;\n",
       "    }\n",
       "\n",
       "    .dataframe tbody tr th {\n",
       "        vertical-align: top;\n",
       "    }\n",
       "\n",
       "    .dataframe thead th {\n",
       "        text-align: right;\n",
       "    }\n",
       "</style>\n",
       "<table border=\"1\" class=\"dataframe\">\n",
       "  <thead>\n",
       "    <tr style=\"text-align: right;\">\n",
       "      <th></th>\n",
       "      <th>상권코드</th>\n",
       "    </tr>\n",
       "  </thead>\n",
       "  <tbody>\n",
       "    <tr>\n",
       "      <th>발달_844</th>\n",
       "      <td>51</td>\n",
       "    </tr>\n",
       "    <tr>\n",
       "      <th>발달_283</th>\n",
       "      <td>49</td>\n",
       "    </tr>\n",
       "    <tr>\n",
       "      <th>발달_721</th>\n",
       "      <td>49</td>\n",
       "    </tr>\n",
       "    <tr>\n",
       "      <th>발달_285</th>\n",
       "      <td>44</td>\n",
       "    </tr>\n",
       "    <tr>\n",
       "      <th>발달_190</th>\n",
       "      <td>42</td>\n",
       "    </tr>\n",
       "    <tr>\n",
       "      <th>...</th>\n",
       "      <td>...</td>\n",
       "    </tr>\n",
       "    <tr>\n",
       "      <th>발달_293</th>\n",
       "      <td>1</td>\n",
       "    </tr>\n",
       "    <tr>\n",
       "      <th>발달_274</th>\n",
       "      <td>1</td>\n",
       "    </tr>\n",
       "    <tr>\n",
       "      <th>발달_703</th>\n",
       "      <td>1</td>\n",
       "    </tr>\n",
       "    <tr>\n",
       "      <th>발달_705</th>\n",
       "      <td>1</td>\n",
       "    </tr>\n",
       "    <tr>\n",
       "      <th>발달_429</th>\n",
       "      <td>1</td>\n",
       "    </tr>\n",
       "  </tbody>\n",
       "</table>\n",
       "<p>857 rows × 1 columns</p>\n",
       "</div>"
      ],
      "text/plain": [
       "        상권코드\n",
       "발달_844    51\n",
       "발달_283    49\n",
       "발달_721    49\n",
       "발달_285    44\n",
       "발달_190    42\n",
       "...      ...\n",
       "발달_293     1\n",
       "발달_274     1\n",
       "발달_703     1\n",
       "발달_705     1\n",
       "발달_429     1\n",
       "\n",
       "[857 rows x 1 columns]"
      ]
     },
     "execution_count": 50,
     "metadata": {},
     "output_type": "execute_result"
    }
   ],
   "source": [
    "pd.DataFrame(temp['상권코드'].value_counts())"
   ]
  },
  {
   "cell_type": "markdown",
   "id": "780b4c31",
   "metadata": {},
   "source": [
    "상권이 총 857개 -> 상권 유지"
   ]
  },
  {
   "cell_type": "code",
   "execution_count": 51,
   "id": "e7c41c1f",
   "metadata": {},
   "outputs": [
    {
     "data": {
      "text/html": [
       "<div>\n",
       "<style scoped>\n",
       "    .dataframe tbody tr th:only-of-type {\n",
       "        vertical-align: middle;\n",
       "    }\n",
       "\n",
       "    .dataframe tbody tr th {\n",
       "        vertical-align: top;\n",
       "    }\n",
       "\n",
       "    .dataframe thead th {\n",
       "        text-align: right;\n",
       "    }\n",
       "</style>\n",
       "<table border=\"1\" class=\"dataframe\">\n",
       "  <thead>\n",
       "    <tr style=\"text-align: right;\">\n",
       "      <th></th>\n",
       "      <th>wkt</th>\n",
       "      <th>상권명</th>\n",
       "      <th>다중지역정보</th>\n",
       "      <th>업종정보</th>\n",
       "      <th>점포수</th>\n",
       "      <th>위도</th>\n",
       "      <th>경도</th>\n",
       "      <th>상권코드</th>\n",
       "      <th>BLK_CD</th>\n",
       "      <th>BLK_NM</th>\n",
       "      <th>area</th>\n",
       "      <th>area_sum</th>\n",
       "      <th>area_ratio</th>\n",
       "      <th>blk_area</th>\n",
       "      <th>blk_area_ratio</th>\n",
       "    </tr>\n",
       "  </thead>\n",
       "  <tbody>\n",
       "  </tbody>\n",
       "</table>\n",
       "</div>"
      ],
      "text/plain": [
       "Empty DataFrame\n",
       "Columns: [wkt, 상권명, 다중지역정보, 업종정보, 점포수, 위도, 경도, 상권코드, BLK_CD, BLK_NM, area, area_sum, area_ratio, blk_area, blk_area_ratio]\n",
       "Index: []"
      ]
     },
     "execution_count": 51,
     "metadata": {},
     "output_type": "execute_result"
    }
   ],
   "source": [
    "# 소실되는 상권이 없으므로 나타나는 것이 없는 게 맞음\n",
    "temp2 = baldal_merge[~baldal_merge['상권코드'].isin(temp['상권코드'])]\n",
    "temp2 = temp2[temp2['area_ratio'] >= 90]\n",
    "temp2"
   ]
  },
  {
   "cell_type": "code",
   "execution_count": 52,
   "id": "1d2113bd",
   "metadata": {},
   "outputs": [
    {
     "data": {
      "text/plain": [
       "(5451, 15)"
      ]
     },
     "execution_count": 52,
     "metadata": {},
     "output_type": "execute_result"
    }
   ],
   "source": [
    "temp.shape"
   ]
  },
  {
   "cell_type": "code",
   "execution_count": 53,
   "id": "261509c4",
   "metadata": {},
   "outputs": [
    {
     "data": {
      "text/plain": [
       "발달_844    51\n",
       "발달_283    49\n",
       "발달_721    49\n",
       "발달_285    44\n",
       "발달_190    42\n",
       "          ..\n",
       "발달_293     1\n",
       "발달_274     1\n",
       "발달_703     1\n",
       "발달_705     1\n",
       "발달_429     1\n",
       "Name: 상권코드, Length: 857, dtype: int64"
      ]
     },
     "execution_count": 53,
     "metadata": {},
     "output_type": "execute_result"
    }
   ],
   "source": [
    "temp['상권코드'].value_counts()"
   ]
  },
  {
   "cell_type": "code",
   "execution_count": 54,
   "id": "c2fbc32b",
   "metadata": {},
   "outputs": [
    {
     "data": {
      "text/plain": [
       "Series([], Name: 상권코드, dtype: int64)"
      ]
     },
     "execution_count": 54,
     "metadata": {},
     "output_type": "execute_result"
    }
   ],
   "source": [
    "temp2['상권코드'].value_counts()"
   ]
  },
  {
   "cell_type": "code",
   "execution_count": 55,
   "id": "45eb6792",
   "metadata": {},
   "outputs": [],
   "source": [
    "baldal_cut = pd.concat([temp, temp2])"
   ]
  },
  {
   "cell_type": "code",
   "execution_count": 56,
   "id": "f51f2ebc",
   "metadata": {},
   "outputs": [
    {
     "data": {
      "text/plain": [
       "(5451, 15)"
      ]
     },
     "execution_count": 56,
     "metadata": {},
     "output_type": "execute_result"
    }
   ],
   "source": [
    "baldal_cut.shape"
   ]
  },
  {
   "cell_type": "code",
   "execution_count": 57,
   "id": "2ca4f50e",
   "metadata": {},
   "outputs": [
    {
     "data": {
      "text/html": [
       "<div>\n",
       "<style scoped>\n",
       "    .dataframe tbody tr th:only-of-type {\n",
       "        vertical-align: middle;\n",
       "    }\n",
       "\n",
       "    .dataframe tbody tr th {\n",
       "        vertical-align: top;\n",
       "    }\n",
       "\n",
       "    .dataframe thead th {\n",
       "        text-align: right;\n",
       "    }\n",
       "</style>\n",
       "<table border=\"1\" class=\"dataframe\">\n",
       "  <thead>\n",
       "    <tr style=\"text-align: right;\">\n",
       "      <th></th>\n",
       "      <th>상권명</th>\n",
       "      <th>area</th>\n",
       "      <th>area_ratio</th>\n",
       "      <th>blk_area_ratio</th>\n",
       "    </tr>\n",
       "  </thead>\n",
       "  <tbody>\n",
       "  </tbody>\n",
       "</table>\n",
       "</div>"
      ],
      "text/plain": [
       "Empty DataFrame\n",
       "Columns: [상권명, area, area_ratio, blk_area_ratio]\n",
       "Index: []"
      ]
     },
     "execution_count": 57,
     "metadata": {},
     "output_type": "execute_result"
    }
   ],
   "source": [
    "# 모든 상권이 포함되어있는지 확인\n",
    "# 다 포함되어 있을 경우 안보이는 것이 맞음\n",
    "baldal_merge.loc[~baldal_merge['상권코드'].isin(baldal_cut['상권코드']), ['상권명', 'area','area_ratio', 'blk_area_ratio']]"
   ]
  },
  {
   "cell_type": "code",
   "execution_count": 58,
   "id": "093900db",
   "metadata": {},
   "outputs": [
    {
     "data": {
      "text/html": [
       "<div>\n",
       "<style scoped>\n",
       "    .dataframe tbody tr th:only-of-type {\n",
       "        vertical-align: middle;\n",
       "    }\n",
       "\n",
       "    .dataframe tbody tr th {\n",
       "        vertical-align: top;\n",
       "    }\n",
       "\n",
       "    .dataframe thead th {\n",
       "        text-align: right;\n",
       "    }\n",
       "</style>\n",
       "<table border=\"1\" class=\"dataframe\">\n",
       "  <thead>\n",
       "    <tr style=\"text-align: right;\">\n",
       "      <th></th>\n",
       "      <th>상권코드</th>\n",
       "    </tr>\n",
       "  </thead>\n",
       "  <tbody>\n",
       "    <tr>\n",
       "      <th>발달_844</th>\n",
       "      <td>51</td>\n",
       "    </tr>\n",
       "    <tr>\n",
       "      <th>발달_283</th>\n",
       "      <td>49</td>\n",
       "    </tr>\n",
       "    <tr>\n",
       "      <th>발달_721</th>\n",
       "      <td>49</td>\n",
       "    </tr>\n",
       "    <tr>\n",
       "      <th>발달_285</th>\n",
       "      <td>44</td>\n",
       "    </tr>\n",
       "    <tr>\n",
       "      <th>발달_190</th>\n",
       "      <td>42</td>\n",
       "    </tr>\n",
       "    <tr>\n",
       "      <th>...</th>\n",
       "      <td>...</td>\n",
       "    </tr>\n",
       "    <tr>\n",
       "      <th>발달_293</th>\n",
       "      <td>1</td>\n",
       "    </tr>\n",
       "    <tr>\n",
       "      <th>발달_274</th>\n",
       "      <td>1</td>\n",
       "    </tr>\n",
       "    <tr>\n",
       "      <th>발달_703</th>\n",
       "      <td>1</td>\n",
       "    </tr>\n",
       "    <tr>\n",
       "      <th>발달_705</th>\n",
       "      <td>1</td>\n",
       "    </tr>\n",
       "    <tr>\n",
       "      <th>발달_429</th>\n",
       "      <td>1</td>\n",
       "    </tr>\n",
       "  </tbody>\n",
       "</table>\n",
       "<p>857 rows × 1 columns</p>\n",
       "</div>"
      ],
      "text/plain": [
       "        상권코드\n",
       "발달_844    51\n",
       "발달_283    49\n",
       "발달_721    49\n",
       "발달_285    44\n",
       "발달_190    42\n",
       "...      ...\n",
       "발달_293     1\n",
       "발달_274     1\n",
       "발달_703     1\n",
       "발달_705     1\n",
       "발달_429     1\n",
       "\n",
       "[857 rows x 1 columns]"
      ]
     },
     "execution_count": 58,
     "metadata": {},
     "output_type": "execute_result"
    }
   ],
   "source": [
    "pd.DataFrame(baldal_cut['상권코드'].value_counts())"
   ]
  },
  {
   "cell_type": "markdown",
   "id": "bb1685b7",
   "metadata": {},
   "source": [
    "## 최종 전처리"
   ]
  },
  {
   "cell_type": "code",
   "execution_count": 59,
   "id": "5f7841fc",
   "metadata": {},
   "outputs": [],
   "source": [
    "# 비율설정\n",
    "# blok_area_ratio >= 15 : 조각이 포함된 블록내에서 조각의 비율이 15% 이상\n",
    "temp = baldal_merge[baldal_merge['blk_area_ratio'] >= 15]\n",
    "\n",
    "# 사라진 상권을 포함(15% 이상일 때는 없음)\n",
    "temp2 = baldal_merge[~baldal_merge['상권코드'].isin(temp['상권코드'])]\n",
    "temp2 = temp2[temp2['area_ratio'] >= 90]\n",
    "\n",
    "# merge\n",
    "baldal_cut = pd.concat([temp, temp2])"
   ]
  },
  {
   "cell_type": "code",
   "execution_count": 60,
   "id": "bc9bf547",
   "metadata": {},
   "outputs": [],
   "source": [
    "# 필요한 컬럼만 추출\n",
    "baldal_cut = baldal_cut[['wkt', '상권명', '다중지역정보', '업종정보', '점포수', '위도', '경도', '상권코드', 'BLK_CD', \"BLK_NM\"]]"
   ]
  },
  {
   "cell_type": "code",
   "execution_count": 61,
   "id": "b711d17b",
   "metadata": {},
   "outputs": [
    {
     "name": "stdout",
     "output_type": "stream",
     "text": [
      "<class 'pandas.core.frame.DataFrame'>\n",
      "Int64Index: 5451 entries, 0 to 9435\n",
      "Data columns (total 10 columns):\n",
      " #   Column  Non-Null Count  Dtype  \n",
      "---  ------  --------------  -----  \n",
      " 0   wkt     5451 non-null   object \n",
      " 1   상권명     5451 non-null   object \n",
      " 2   다중지역정보  5451 non-null   object \n",
      " 3   업종정보    5451 non-null   object \n",
      " 4   점포수     5451 non-null   int64  \n",
      " 5   위도      5451 non-null   float64\n",
      " 6   경도      5451 non-null   float64\n",
      " 7   상권코드    5451 non-null   object \n",
      " 8   BLK_CD  5451 non-null   int64  \n",
      " 9   BLK_NM  5451 non-null   object \n",
      "dtypes: float64(2), int64(2), object(6)\n",
      "memory usage: 468.4+ KB\n"
     ]
    }
   ],
   "source": [
    "baldal_cut.info()"
   ]
  },
  {
   "cell_type": "markdown",
   "id": "a2991e0c",
   "metadata": {},
   "source": [
    "## 데이터 저장"
   ]
  },
  {
   "cell_type": "code",
   "execution_count": 62,
   "id": "b883aeae",
   "metadata": {},
   "outputs": [],
   "source": [
    "# baldal_cut.to_csv('C:/Users/user/Desktop/경기신용보증재단/정제/골목,발달 상권 데이터/골목_발달상권_블록매핑_전처리/발달상권_블록매핑_전처리.csv',encoding='euc-kr',index=False)"
   ]
  }
 ],
 "metadata": {
  "kernelspec": {
   "display_name": "Python 3 (ipykernel)",
   "language": "python",
   "name": "python3"
  },
  "language_info": {
   "codemirror_mode": {
    "name": "ipython",
    "version": 3
   },
   "file_extension": ".py",
   "mimetype": "text/x-python",
   "name": "python",
   "nbconvert_exporter": "python",
   "pygments_lexer": "ipython3",
   "version": "3.9.12"
  },
  "latex_envs": {
   "LaTeX_envs_menu_present": true,
   "autoclose": false,
   "autocomplete": true,
   "bibliofile": "biblio.bib",
   "cite_by": "apalike",
   "current_citInitial": 1,
   "eqLabelWithNumbers": true,
   "eqNumInitial": 1,
   "hotkeys": {
    "equation": "Ctrl-E",
    "itemize": "Ctrl-I"
   },
   "labels_anchors": false,
   "latex_user_defs": false,
   "report_style_numbering": false,
   "user_envs_cfg": false
  },
  "toc": {
   "base_numbering": 1,
   "nav_menu": {},
   "number_sections": true,
   "sideBar": true,
   "skip_h1_title": false,
   "title_cell": "Table of Contents",
   "title_sidebar": "Contents",
   "toc_cell": false,
   "toc_position": {
    "height": "calc(100% - 180px)",
    "left": "10px",
    "top": "150px",
    "width": "349.091px"
   },
   "toc_section_display": true,
   "toc_window_display": true
  },
  "varInspector": {
   "cols": {
    "lenName": 16,
    "lenType": 16,
    "lenVar": 40
   },
   "kernels_config": {
    "python": {
     "delete_cmd_postfix": "",
     "delete_cmd_prefix": "del ",
     "library": "var_list.py",
     "varRefreshCmd": "print(var_dic_list())"
    },
    "r": {
     "delete_cmd_postfix": ") ",
     "delete_cmd_prefix": "rm(",
     "library": "var_list.r",
     "varRefreshCmd": "cat(var_dic_list()) "
    }
   },
   "types_to_exclude": [
    "module",
    "function",
    "builtin_function_or_method",
    "instance",
    "_Feature"
   ],
   "window_display": false
  }
 },
 "nbformat": 4,
 "nbformat_minor": 5
}
