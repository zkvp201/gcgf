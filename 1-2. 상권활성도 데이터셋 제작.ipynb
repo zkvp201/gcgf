{
 "cells": [
  {
   "cell_type": "markdown",
   "id": "a814eb15",
   "metadata": {},
   "source": [
    "* 공시지가\n",
    "* 201612"
   ]
  },
  {
   "cell_type": "code",
   "execution_count": 1,
   "id": "6e227fbd",
   "metadata": {},
   "outputs": [],
   "source": [
    "import geopandas as gpd\n",
    "import matplotlib.pyplot as plt\n",
    "import pandas as pd"
   ]
  },
  {
   "cell_type": "markdown",
   "id": "026de222",
   "metadata": {},
   "source": [
    "* 필요한 격자는 상권 인근의 격자들이기 때문에 qgis를 활용, 상권데이터와 공간결합을 통해 격자를 추출하였고 이 데이터를 활용하여 기준 격자를 만듬"
   ]
  },
  {
   "cell_type": "markdown",
   "id": "9d9d5dfa",
   "metadata": {},
   "source": [
    "# 상권인근 격자 단위로 병합"
   ]
  },
  {
   "cell_type": "code",
   "execution_count": 2,
   "id": "11c46308",
   "metadata": {},
   "outputs": [],
   "source": [
    "price_grid = pd.read_csv('C:/gbig/GCGF/신용보증지도프로젝트/상권활성도/상권인근격자데이터/상권인근격자데이터.csv', encoding='euc-kr')"
   ]
  },
  {
   "cell_type": "code",
   "execution_count": 3,
   "id": "b8a0a83a",
   "metadata": {},
   "outputs": [
    {
     "data": {
      "text/plain": [
       "['100M_경기도_공시지가201612.csv',\n",
       " '100M_경기도_공시지가201706.csv',\n",
       " '100M_경기도_공시지가201712.csv',\n",
       " '100M_경기도_공시지가201806.csv',\n",
       " '100M_경기도_공시지가201812.csv',\n",
       " '100M_경기도_공시지가201906.csv',\n",
       " '100M_경기도_공시지가201912.csv',\n",
       " '100M_경기도_공시지가202006.csv',\n",
       " '100M_경기도_공시지가202012.csv',\n",
       " '100M_경기도_공시지가202106.csv']"
      ]
     },
     "execution_count": 3,
     "metadata": {},
     "output_type": "execute_result"
    }
   ],
   "source": [
    "import os\n",
    "file_list_price = os.listdir('C:/gbig/GCGF/전처리/100m격자_공시지가')\n",
    "file_list_price.sort()\n",
    "file_list_price"
   ]
  },
  {
   "cell_type": "code",
   "execution_count": 4,
   "id": "8a2db525",
   "metadata": {},
   "outputs": [],
   "source": [
    "for i in range(len(file_list_price)):\n",
    "    globals()['price_{}'.format(file_list_price[i][-10:-4])] = pd.read_csv('C:/gbig/GCGF/전처리/100m격자_공시지가/'+file_list_price[i],encoding='euc-kr')"
   ]
  },
  {
   "cell_type": "code",
   "execution_count": 5,
   "id": "27b16777",
   "metadata": {},
   "outputs": [],
   "source": [
    "a = []\n",
    "id = [201612,201706,201712,201806,201812,201906,201912,202006,202012,202106]\n",
    "a.append(len(pd.merge(left=price_grid, right=price_201612 ,how='inner', on=['gid','geometry'])))\n",
    "a.append(len(pd.merge(left=price_grid, right=price_201706 ,how='inner', on=['gid','geometry'])))\n",
    "a.append(len(pd.merge(left=price_grid, right=price_201712 ,how='inner', on=['gid','geometry'])))\n",
    "a.append(len(pd.merge(left=price_grid, right=price_201806 ,how='inner', on=['gid','geometry'])))\n",
    "a.append(len(pd.merge(left=price_grid, right=price_201812 ,how='inner', on=['gid','geometry'])))\n",
    "a.append(len(pd.merge(left=price_grid, right=price_201906 ,how='inner', on=['gid','geometry'])))\n",
    "a.append(len(pd.merge(left=price_grid, right=price_201912 ,how='inner', on=['gid','geometry'])))\n",
    "a.append(len(pd.merge(left=price_grid, right=price_202006 ,how='inner', on=['gid','geometry'])))\n",
    "a.append(len(pd.merge(left=price_grid, right=price_202012 ,how='inner', on=['gid','geometry'])))\n",
    "a.append(len(pd.merge(left=price_grid, right=price_202106 ,how='inner', on=['gid','geometry'])))"
   ]
  },
  {
   "cell_type": "code",
   "execution_count": 6,
   "id": "47c2ecde",
   "metadata": {},
   "outputs": [],
   "source": [
    "df1=pd.merge(left=price_grid, right=price_201612 ,how='inner', on=['gid','geometry'])\n",
    "df2=pd.merge(left=price_grid, right=price_201706 ,how='inner', on=['gid','geometry'])\n",
    "df3=pd.merge(left=price_grid, right=price_201712 ,how='inner', on=['gid','geometry'])\n",
    "df4=pd.merge(left=price_grid, right=price_201806 ,how='inner', on=['gid','geometry'])\n",
    "df5=pd.merge(left=price_grid, right=price_201812 ,how='inner', on=['gid','geometry'])\n",
    "df6=pd.merge(left=price_grid, right=price_201906 ,how='inner', on=['gid','geometry'])\n",
    "df7=pd.merge(left=price_grid, right=price_201912 ,how='inner', on=['gid','geometry'])\n",
    "df8=pd.merge(left=price_grid, right=price_202006 ,how='inner', on=['gid','geometry'])\n",
    "df9=pd.merge(left=price_grid, right=price_202012 ,how='inner', on=['gid','geometry'])\n",
    "df10=pd.merge(left=price_grid, right=price_202106 ,how='inner', on=['gid','geometry'])"
   ]
  },
  {
   "cell_type": "code",
   "execution_count": 7,
   "id": "32657487",
   "metadata": {
    "scrolled": true
   },
   "outputs": [
    {
     "data": {
      "text/html": [
       "<div>\n",
       "<style scoped>\n",
       "    .dataframe tbody tr th:only-of-type {\n",
       "        vertical-align: middle;\n",
       "    }\n",
       "\n",
       "    .dataframe tbody tr th {\n",
       "        vertical-align: top;\n",
       "    }\n",
       "\n",
       "    .dataframe thead th {\n",
       "        text-align: right;\n",
       "    }\n",
       "</style>\n",
       "<table border=\"1\" class=\"dataframe\">\n",
       "  <thead>\n",
       "    <tr style=\"text-align: right;\">\n",
       "      <th></th>\n",
       "      <th>201612</th>\n",
       "      <th>201706</th>\n",
       "      <th>201712</th>\n",
       "      <th>201806</th>\n",
       "      <th>201812</th>\n",
       "      <th>201906</th>\n",
       "      <th>201912</th>\n",
       "      <th>202006</th>\n",
       "      <th>202012</th>\n",
       "      <th>202106</th>\n",
       "    </tr>\n",
       "  </thead>\n",
       "  <tbody>\n",
       "    <tr>\n",
       "      <th>격자수</th>\n",
       "      <td>25977</td>\n",
       "      <td>25977</td>\n",
       "      <td>25977</td>\n",
       "      <td>25977</td>\n",
       "      <td>25977</td>\n",
       "      <td>25977</td>\n",
       "      <td>25977</td>\n",
       "      <td>25976</td>\n",
       "      <td>25976</td>\n",
       "      <td>25976</td>\n",
       "    </tr>\n",
       "  </tbody>\n",
       "</table>\n",
       "</div>"
      ],
      "text/plain": [
       "     201612  201706  201712  201806  201812  201906  201912  202006  202012  \\\n",
       "격자수   25977   25977   25977   25977   25977   25977   25977   25976   25976   \n",
       "\n",
       "     202106  \n",
       "격자수   25976  "
      ]
     },
     "execution_count": 7,
     "metadata": {},
     "output_type": "execute_result"
    }
   ],
   "source": [
    "pd.DataFrame([a],columns=id,index=['격자수'])"
   ]
  },
  {
   "cell_type": "markdown",
   "id": "1b82c5ae",
   "metadata": {},
   "source": [
    "* 격자 개수가 맞지 않는 격자를 확인"
   ]
  },
  {
   "cell_type": "code",
   "execution_count": 8,
   "id": "30472b96",
   "metadata": {},
   "outputs": [],
   "source": [
    "def GetDifferences(df1, df2):\n",
    "  df = pd.concat([df1, df2]).reset_index(drop=True)\n",
    "  idx = [diff[0] for diff in df.groupby(list(df.columns)).groups.values() if len(diff) == 1]\n",
    "  return df.reindex(idx)"
   ]
  },
  {
   "cell_type": "code",
   "execution_count": 9,
   "id": "5a59c98e",
   "metadata": {
    "scrolled": false
   },
   "outputs": [
    {
     "data": {
      "text/html": [
       "<div>\n",
       "<style scoped>\n",
       "    .dataframe tbody tr th:only-of-type {\n",
       "        vertical-align: middle;\n",
       "    }\n",
       "\n",
       "    .dataframe tbody tr th {\n",
       "        vertical-align: top;\n",
       "    }\n",
       "\n",
       "    .dataframe thead th {\n",
       "        text-align: right;\n",
       "    }\n",
       "</style>\n",
       "<table border=\"1\" class=\"dataframe\">\n",
       "  <thead>\n",
       "    <tr style=\"text-align: right;\">\n",
       "      <th></th>\n",
       "      <th>gid</th>\n",
       "    </tr>\n",
       "  </thead>\n",
       "  <tbody>\n",
       "    <tr>\n",
       "      <th>2291</th>\n",
       "      <td>다사217071</td>\n",
       "    </tr>\n",
       "  </tbody>\n",
       "</table>\n",
       "</div>"
      ],
      "text/plain": [
       "           gid\n",
       "2291  다사217071"
      ]
     },
     "execution_count": 9,
     "metadata": {},
     "output_type": "execute_result"
    }
   ],
   "source": [
    "GetDifferences(df2[['gid']],df10[['gid']])"
   ]
  },
  {
   "cell_type": "code",
   "execution_count": 10,
   "id": "acedd69d",
   "metadata": {},
   "outputs": [],
   "source": [
    "df1.to_csv('C:/gbig/GCGF/전처리/100m격자_공시지가/공시지가_201612.csv',encoding='euc-kr',index=False)\n",
    "df2.to_csv('C:/gbig/GCGF/전처리/100m격자_공시지가/공시지가_201706.csv',encoding='euc-kr',index=False)\n",
    "df3.to_csv('C:/gbig/GCGF/전처리/100m격자_공시지가/공시지가_201712.csv',encoding='euc-kr',index=False)\n",
    "df4.to_csv('C:/gbig/GCGF/전처리/100m격자_공시지가/공시지가_201806.csv',encoding='euc-kr',index=False)\n",
    "df5.to_csv('C:/gbig/GCGF/전처리/100m격자_공시지가/공시지가_201812.csv',encoding='euc-kr',index=False)\n",
    "df6.to_csv('C:/gbig/GCGF/전처리/100m격자_공시지가/공시지가_201906.csv',encoding='euc-kr',index=False)\n",
    "df7.to_csv('C:/gbig/GCGF/전처리/100m격자_공시지가/공시지가_201912.csv',encoding='euc-kr',index=False)\n",
    "df8.to_csv('C:/gbig/GCGF/전처리/100m격자_공시지가/공시지가_202006.csv',encoding='euc-kr',index=False)\n",
    "df9.to_csv('C:/gbig/GCGF/전처리/100m격자_공시지가/공시지가_202012.csv',encoding='euc-kr',index=False)\n",
    "df10.to_csv('C:/gbig/GCGF/전처리/100m격자_공시지가/공시지가_202106.csv',encoding='euc-kr',index=False)"
   ]
  },
  {
   "cell_type": "markdown",
   "id": "2cc2a000",
   "metadata": {},
   "source": [
    "* 해당격자는 NULL값이고, 바닷가에 위치한 격자이기 때문에 상권활성도에 영향을 주지 않음"
   ]
  },
  {
   "cell_type": "code",
   "execution_count": 11,
   "id": "8be631e7",
   "metadata": {},
   "outputs": [],
   "source": [
    "del(df1,df2,df3,df4,df5,df6,df7,df8,df9,df10) #데이터해제"
   ]
  },
  {
   "cell_type": "markdown",
   "id": "e5fe40e8",
   "metadata": {},
   "source": [
    "### 건축물,총인구수도 위와 같은 방법으로 진행하였음"
   ]
  },
  {
   "cell_type": "markdown",
   "id": "bfe61a6f",
   "metadata": {},
   "source": [
    "# 건축물,총인구수,공시지가 년월별 격자 비교"
   ]
  },
  {
   "cell_type": "code",
   "execution_count": 12,
   "id": "3c63f9ab",
   "metadata": {},
   "outputs": [],
   "source": [
    "file_path='C:/gbig/GCGF/신용보증지도프로젝트/상권활성도/상권인근격자데이터'"
   ]
  },
  {
   "cell_type": "code",
   "execution_count": 13,
   "id": "3edfed14",
   "metadata": {},
   "outputs": [],
   "source": [
    "import os\n",
    "\n",
    "file_list_strc = os.listdir(file_path+'/건축물')\n",
    "file_list_strc.sort()"
   ]
  },
  {
   "cell_type": "code",
   "execution_count": 14,
   "id": "0fed96b6",
   "metadata": {},
   "outputs": [],
   "source": [
    "for i in range(len(file_list_strc)):\n",
    "    globals()['strc_{}'.format(file_list_strc[i][-10:-4])] = \\\n",
    "    pd.read_csv(file_path+'/건축물/'+file_list_strc[i],encoding='euc-kr')"
   ]
  },
  {
   "cell_type": "code",
   "execution_count": 15,
   "id": "13298f61",
   "metadata": {},
   "outputs": [],
   "source": [
    "strc_len = []\n",
    "for i in [strc_201712, strc_201812, strc_201906, strc_201912, strc_202006, strc_202012, strc_202106]:\n",
    "    strc_len.append(len(i))"
   ]
  },
  {
   "cell_type": "code",
   "execution_count": 16,
   "id": "96f76d7f",
   "metadata": {},
   "outputs": [
    {
     "data": {
      "text/plain": [
       "[25977, 25977, 25977, 25977, 25977, 25976, 25976]"
      ]
     },
     "execution_count": 16,
     "metadata": {},
     "output_type": "execute_result"
    }
   ],
   "source": [
    "strc_len"
   ]
  },
  {
   "cell_type": "code",
   "execution_count": 17,
   "id": "21fe45c7",
   "metadata": {},
   "outputs": [],
   "source": [
    "file_list_pop = os.listdir(file_path+'/총인구수')\n",
    "file_list_pop.sort()"
   ]
  },
  {
   "cell_type": "code",
   "execution_count": 18,
   "id": "a846b86c",
   "metadata": {},
   "outputs": [],
   "source": [
    "for i in range(len(file_list_pop)):\n",
    "    globals()['pop_{}'.format(file_list_pop[i][-10:-4])] = \\\n",
    "    pd.read_csv(file_path+'/총인구수/'+file_list_pop[i],encoding='euc-kr')"
   ]
  },
  {
   "cell_type": "code",
   "execution_count": 19,
   "id": "72c1073f",
   "metadata": {},
   "outputs": [],
   "source": [
    "pop_len = []\n",
    "for i in [pop_201706, pop_201712, pop_201812, pop_201906, pop_201912, pop_202006, pop_202012, pop_202106]:\n",
    "    pop_len.append(len(i))"
   ]
  },
  {
   "cell_type": "code",
   "execution_count": 20,
   "id": "9f1428a9",
   "metadata": {},
   "outputs": [
    {
     "data": {
      "text/plain": [
       "[25977, 25977, 25977, 25977, 25977, 25977, 25976, 25976]"
      ]
     },
     "execution_count": 20,
     "metadata": {},
     "output_type": "execute_result"
    }
   ],
   "source": [
    "pop_len"
   ]
  },
  {
   "cell_type": "code",
   "execution_count": 21,
   "id": "28f9ac98",
   "metadata": {},
   "outputs": [],
   "source": [
    "file_list_price = os.listdir(file_path+'/공시지가')\n",
    "file_list_price.sort()"
   ]
  },
  {
   "cell_type": "code",
   "execution_count": 22,
   "id": "f600aef3",
   "metadata": {},
   "outputs": [],
   "source": [
    "for i in range(len(file_list_price)):\n",
    "    globals()['price_{}'.format(file_list_price[i][-10:-4])] = \\\n",
    "    pd.read_csv(file_path+'/공시지가/'+file_list_price[i],encoding='euc-kr')"
   ]
  },
  {
   "cell_type": "code",
   "execution_count": 23,
   "id": "4ab338ca",
   "metadata": {},
   "outputs": [],
   "source": [
    "price_len = []\n",
    "for i in [price_201612,price_201706,price_201712, price_201812, price_201906, price_201912, price_202006, price_202012, price_202106]:\n",
    "    price_len.append(len(i))"
   ]
  },
  {
   "cell_type": "code",
   "execution_count": 24,
   "id": "a6bc2fe5",
   "metadata": {},
   "outputs": [
    {
     "data": {
      "text/plain": [
       "[25977, 25977, 25977, 25977, 25977, 25977, 25976, 25976, 25976]"
      ]
     },
     "execution_count": 24,
     "metadata": {},
     "output_type": "execute_result"
    }
   ],
   "source": [
    "price_len"
   ]
  },
  {
   "cell_type": "markdown",
   "id": "40a89ae0",
   "metadata": {},
   "source": [
    "* 격자 개수를 통일하고 분석을 위한 기초 데이터 셋 제작"
   ]
  },
  {
   "cell_type": "code",
   "execution_count": 25,
   "id": "cdb6b07c",
   "metadata": {},
   "outputs": [],
   "source": [
    "total_201706 = pd.merge(left =price_201706 , right =pop_201706, how = 'inner',on=['gid','geometry'])\n",
    "total_201706['strc_201706']=None"
   ]
  },
  {
   "cell_type": "code",
   "execution_count": 26,
   "id": "585d36de",
   "metadata": {},
   "outputs": [],
   "source": [
    "total_201712 = pd.merge(left =price_201712 , right =pop_201712, how = 'inner',on=['gid','geometry'])\n",
    "total_201712 = pd.merge(left =total_201712 , right =strc_201712, how = 'inner',on=['gid','geometry'])"
   ]
  },
  {
   "cell_type": "code",
   "execution_count": 27,
   "id": "debd661c",
   "metadata": {},
   "outputs": [],
   "source": [
    "total_201806 = pd.merge(left =price_201806 , right =pop_201806, how = 'inner',on=['gid','geometry'])\n",
    "total_201806 = pd.merge(left =total_201806 , right =strc_201806, how = 'inner',on=['gid','geometry'])"
   ]
  },
  {
   "cell_type": "code",
   "execution_count": 28,
   "id": "cf3574ab",
   "metadata": {},
   "outputs": [],
   "source": [
    "total_201812 = pd.merge(left =price_201812 , right =pop_201812, how = 'inner',on=['gid','geometry'])\n",
    "total_201812 = pd.merge(left =total_201812 , right =strc_201812, how = 'inner',on=['gid','geometry'])"
   ]
  },
  {
   "cell_type": "code",
   "execution_count": 29,
   "id": "b0c6a258",
   "metadata": {},
   "outputs": [],
   "source": [
    "total_201906 = pd.merge(left =price_201906 , right =pop_201906, how = 'inner',on=['gid','geometry'])\n",
    "total_201906 = pd.merge(left =total_201906 , right =strc_201906, how = 'inner',on=['gid','geometry'])"
   ]
  },
  {
   "cell_type": "code",
   "execution_count": 30,
   "id": "05bcc926",
   "metadata": {},
   "outputs": [],
   "source": [
    "total_201912 = pd.merge(left =price_201912 , right =pop_201912, how = 'inner',on=['gid','geometry'])\n",
    "total_201912 = pd.merge(left =total_201912 , right =strc_201912, how = 'inner',on=['gid','geometry'])"
   ]
  },
  {
   "cell_type": "code",
   "execution_count": 31,
   "id": "d2ea6774",
   "metadata": {},
   "outputs": [],
   "source": [
    "total_202006 = pd.merge(left =price_202006 , right =pop_202006, how = 'inner',on=['gid','geometry'])\n",
    "total_202006 = pd.merge(left =total_202006 , right =strc_202006, how = 'inner',on=['gid','geometry'])"
   ]
  },
  {
   "cell_type": "code",
   "execution_count": 32,
   "id": "b65a3a35",
   "metadata": {},
   "outputs": [],
   "source": [
    "total_202012 = pd.merge(left =price_202012 , right =pop_202012, how = 'inner',on=['gid','geometry'])\n",
    "total_202012 = pd.merge(left =total_202012 , right =strc_202012, how = 'inner',on=['gid','geometry'])"
   ]
  },
  {
   "cell_type": "code",
   "execution_count": 33,
   "id": "da2b81a1",
   "metadata": {},
   "outputs": [],
   "source": [
    "total_202106 = pd.merge(left =pop_202106 , right =strc_202106, how = 'inner',on=['gid','geometry'])\n",
    "total_202106 = pd.merge(left =total_202106 , right =price_202106, how = 'inner',on=['gid','geometry'])"
   ]
  },
  {
   "cell_type": "code",
   "execution_count": 34,
   "id": "bb357884",
   "metadata": {},
   "outputs": [],
   "source": [
    "total_202112 = pd.merge(left =pop_202112 , right =strc_202112, how = 'inner',on=['gid','geometry'])\n",
    "total_202112['price_202112']=None"
   ]
  },
  {
   "cell_type": "code",
   "execution_count": 35,
   "id": "b2189059",
   "metadata": {},
   "outputs": [],
   "source": [
    "total_201706.to_csv('C:/gbig/GCGF/신용보증지도프로젝트/상권활성도/total_201706.csv',encoding='euc-kr',index=False)\n",
    "total_201712.to_csv('C:/gbig/GCGF/신용보증지도프로젝트/상권활성도/total_201712.csv',encoding='euc-kr',index=False)\n",
    "total_201806.to_csv('C:/gbig/GCGF/신용보증지도프로젝트/상권활성도/total_201806.csv',encoding='euc-kr',index=False)\n",
    "total_201812.to_csv('C:/gbig/GCGF/신용보증지도프로젝트/상권활성도/total_201812.csv',encoding='euc-kr',index=False)\n",
    "total_201906.to_csv('C:/gbig/GCGF/신용보증지도프로젝트/상권활성도/total_201906.csv',encoding='euc-kr',index=False)\n",
    "total_201912.to_csv('C:/gbig/GCGF/신용보증지도프로젝트/상권활성도/total_201912.csv',encoding='euc-kr',index=False)\n",
    "total_202006.to_csv('C:/gbig/GCGF/신용보증지도프로젝트/상권활성도/total_202006.csv',encoding='euc-kr',index=False)\n",
    "total_202012.to_csv('C:/gbig/GCGF/신용보증지도프로젝트/상권활성도/total_202012.csv',encoding='euc-kr',index=False)\n",
    "total_202106.to_csv('C:/gbig/GCGF/신용보증지도프로젝트/상권활성도/total_202106.csv',encoding='euc-kr',index=False)\n",
    "total_202112.to_csv('C:/gbig/GCGF/신용보증지도프로젝트/상권활성도/total_202112.csv',encoding='euc-kr',index=False)\n"
   ]
  },
  {
   "cell_type": "markdown",
   "id": "dfff14a2",
   "metadata": {},
   "source": [
    "# 일자별 PRICE,POP,STRC 값 구하기\n",
    "\n",
    "* 데이터 수집 범위가 격자단위 or 포인트 단위 에 따라 값이 바뀌기 때문에 두가지 값 모두 수집할 필요가 있다.\n",
    "* 격자단위의 경우 값이 과대평가 되는 경향이 있고\n",
    "* 포인트단위의 경우 값이 과소 평가 되는 경향이 있다\n",
    "* 따라서 일단 모두 수집한 후에 필요에 따라 선택하기로 함"
   ]
  },
  {
   "cell_type": "code",
   "execution_count": 15,
   "id": "69835ea0",
   "metadata": {},
   "outputs": [],
   "source": [
    "ta_base = pd.read_csv('C:/gbig/GCGF/신용보증지도프로젝트/변환_골목상권현황.csv',encoding='euc-kr')"
   ]
  },
  {
   "cell_type": "code",
   "execution_count": 16,
   "id": "3862a6d0",
   "metadata": {},
   "outputs": [],
   "source": [
    "golmok_201712_min = pd.read_csv('C:/gbig/GCGF/신용보증지도프로젝트/상권활성도/골목_Min_201712.csv',encoding='euc-kr')\n",
    "golmok_201712_max = pd.read_csv('C:/gbig/GCGF/신용보증지도프로젝트/상권활성도/골목_max_201712.csv',encoding='euc-kr')\n",
    "golmok_201712_min.rename(columns={\"price_2017\":\"price_201712\",\"strc_20171\":\"strc_201712\"},inplace=True) #라이브러리 이슈로 컬럼추출오류 보정"
   ]
  },
  {
   "cell_type": "code",
   "execution_count": 18,
   "id": "4209e6eb",
   "metadata": {},
   "outputs": [],
   "source": [
    "golmok_201712_max = golmok_201712_max.groupby(by=['상권명','위도','경도'],as_index=False)[['price_201712','pop_201712','strc_201712']].sum()\n",
    "golmok_201712_min = golmok_201712_min.groupby(by=['상권명','위도','경도'],as_index=False)[['price_201712','pop_201712','strc_201712']].sum()"
   ]
  },
  {
   "cell_type": "code",
   "execution_count": 19,
   "id": "005b48bd",
   "metadata": {},
   "outputs": [],
   "source": [
    "golmok_201712_max.rename(columns={\"price_201712\":\"price_201712_max\",\"pop_201712\":\"pop_201712_max\",\"strc_201712\":\"strc_201712_max\"},inplace=True)\n",
    "golmok_201712_min.rename(columns={\"price_201712\":\"price_201712_min\",\"pop_201712\":\"pop_201712_min\",\"strc_201712\":\"strc_201712_min\"},inplace=True)"
   ]
  },
  {
   "cell_type": "code",
   "execution_count": 20,
   "id": "3dc4dc23",
   "metadata": {
    "scrolled": true
   },
   "outputs": [],
   "source": [
    "golmok_201712_fin=pd.merge(left=ta_base,right=golmok_201712_max,how='inner',on=['상권명','위도','경도'])\n",
    "golmok_201712_fin=pd.merge(left=golmok_201712_fin,right=golmok_201712_min,how='inner',on=['상권명','위도','경도'])\n",
    "\n",
    "#격자단위(max값) 포인트단위(min)값에 대한 평균 산출\n",
    "golmok_201712_fin['price_201712_mean']=( golmok_201712_fin['price_201712_max']+golmok_201712_fin['price_201712_min'] ) / 2\n",
    "golmok_201712_fin['pop_201712_mean']=( golmok_201712_fin['pop_201712_max']+golmok_201712_fin['pop_201712_min'] ) / 2\n",
    "golmok_201712_fin['strc_201712_mean']=( golmok_201712_fin['strc_201712_max']+golmok_201712_fin['strc_201712_min'] ) / 2 "
   ]
  },
  {
   "cell_type": "code",
   "execution_count": 21,
   "id": "850855a8",
   "metadata": {},
   "outputs": [],
   "source": [
    "golmok_201712_fin.to_csv(\"C:/gbig/GCGF/신용보증지도프로젝트/상권활성도/golmok_201712_fin.csv\",index=False,encoding='euc-kr')"
   ]
  },
  {
   "cell_type": "markdown",
   "id": "c9e86f5c",
   "metadata": {},
   "source": [
    "# 위의 방법을 일자별로 반복"
   ]
  },
  {
   "cell_type": "code",
   "execution_count": 24,
   "id": "3ea724b7",
   "metadata": {},
   "outputs": [],
   "source": [
    "golmok_201706_min = pd.read_csv('C:/gbig/GCGF/신용보증지도프로젝트/상권활성도/골목_Min_201706.csv',encoding='euc-kr')\n",
    "golmok_201706_max = pd.read_csv('C:/gbig/GCGF/신용보증지도프로젝트/상권활성도/골목_max_201706.csv',encoding='euc-kr')\n",
    "golmok_201706_min.rename(columns={\"price_2017\":\"price_201706\",\"strc_20170\":\"strc_201706\"},inplace=True)\n",
    "\n",
    "golmok_201706_max = golmok_201706_max.groupby(by=['상권명','위도','경도'],as_index=False)[['price_201706','pop_201706','strc_201706']].sum()\n",
    "golmok_201706_min = golmok_201706_min.groupby(by=['상권명','위도','경도'],as_index=False)[['price_201706','pop_201706','strc_201706']].sum()\n",
    "\n",
    "golmok_201706_max.rename(columns={\"price_201706\":\"price_201706_max\",\"pop_201706\":\"pop_201706_max\",\"strc_201706\":\"strc_201706_max\"},inplace=True)\n",
    "golmok_201706_min.rename(columns={\"price_201706\":\"price_201706_min\",\"pop_201706\":\"pop_201706_min\",\"strc_201706\":\"strc_201706_min\"},inplace=True)\n",
    "\n",
    "golmok_201706_fin=pd.merge(left=ta_base,right=golmok_201706_max,how='inner',on=['상권명','위도','경도'])\n",
    "golmok_201706_fin=pd.merge(left=golmok_201706_fin,right=golmok_201706_min,how='inner',on=['상권명','위도','경도'])\n",
    "golmok_201706_fin['price_201706_mean']=( golmok_201706_fin['price_201706_max']+golmok_201706_fin['price_201706_min'] ) / 2\n",
    "golmok_201706_fin['pop_201706_mean']=( golmok_201706_fin['pop_201706_max']+golmok_201706_fin['pop_201706_min'] ) / 2\n",
    "golmok_201706_fin['strc_201706_mean']=( golmok_201706_fin['strc_201706_max']+golmok_201706_fin['strc_201706_min'] ) / 2\n",
    "\n",
    "golmok_201706_fin.to_csv(\"C:/gbig/GCGF/신용보증지도프로젝트/상권활성도/golmok_201706_fin.csv\",index=False,encoding='euc-kr')"
   ]
  },
  {
   "cell_type": "code",
   "execution_count": 23,
   "id": "8d59518a",
   "metadata": {},
   "outputs": [],
   "source": [
    "golmok_201806_min = pd.read_csv('C:/gbig/GCGF/신용보증지도프로젝트/상권활성도/골목_Min_201806.csv',encoding='euc-kr')\n",
    "golmok_201806_max = pd.read_csv('C:/gbig/GCGF/신용보증지도프로젝트/상권활성도/골목_max_201806.csv',encoding='euc-kr')\n",
    "golmok_201806_min.rename(columns={\"price_2018\":\"price_201806\",\"strc_20180\":\"strc_201806\"},inplace=True)\n",
    "\n",
    "golmok_201806_max = golmok_201806_max.groupby(by=['상권명','위도','경도'],as_index=False)[['price_201806','pop_201806','strc_201806']].sum()\n",
    "golmok_201806_min = golmok_201806_min.groupby(by=['상권명','위도','경도'],as_index=False)[['price_201806','pop_201806','strc_201806']].sum()\n",
    "\n",
    "golmok_201806_max.rename(columns={\"price_201806\":\"price_201806_max\",\"pop_201806\":\"pop_201806_max\",\"strc_201806\":\"strc_201806_max\"},inplace=True)\n",
    "golmok_201806_min.rename(columns={\"price_201806\":\"price_201806_min\",\"pop_201806\":\"pop_201806_min\",\"strc_201806\":\"strc_201806_min\"},inplace=True)\n",
    "\n",
    "golmok_201806_fin=pd.merge(left=ta_base,right=golmok_201806_max,how='inner',on=['상권명','위도','경도'])\n",
    "golmok_201806_fin=pd.merge(left=golmok_201806_fin,right=golmok_201806_min,how='inner',on=['상권명','위도','경도'])\n",
    "golmok_201806_fin['price_201806_mean']=( golmok_201806_fin['price_201806_max']+golmok_201806_fin['price_201806_min'] ) / 2\n",
    "golmok_201806_fin['pop_201806_mean']=( golmok_201806_fin['pop_201806_max']+golmok_201806_fin['pop_201806_min'] ) / 2\n",
    "golmok_201806_fin['strc_201806_mean']=( golmok_201806_fin['strc_201806_max']+golmok_201806_fin['strc_201806_min'] ) / 2\n",
    "\n",
    "golmok_201806_fin.to_csv(\"C:/gbig/GCGF/신용보증지도프로젝트/상권활성도/golmok_201806_fin.csv\",index=False,encoding='euc-kr')"
   ]
  },
  {
   "cell_type": "code",
   "execution_count": 26,
   "id": "c8d3f2ee",
   "metadata": {},
   "outputs": [],
   "source": [
    "golmok_201812_min = pd.read_csv('C:/gbig/GCGF/신용보증지도프로젝트/상권활성도/골목_Min_201812.csv',encoding='euc-kr')\n",
    "golmok_201812_max = pd.read_csv('C:/gbig/GCGF/신용보증지도프로젝트/상권활성도/골목_max_201812.csv',encoding='euc-kr')\n",
    "golmok_201812_min.rename(columns={\"price_2018\":\"price_201812\",\"strc_20181\":\"strc_201812\"},inplace=True)\n",
    "\n",
    "golmok_201812_max = golmok_201812_max.groupby(by=['상권명','위도','경도'],as_index=False)[['price_201812','pop_201812','strc_201812']].sum()\n",
    "golmok_201812_min = golmok_201812_min.groupby(by=['상권명','위도','경도'],as_index=False)[['price_201812','pop_201812','strc_201812']].sum()\n",
    "\n",
    "golmok_201812_max.rename(columns={\"price_201812\":\"price_201812_max\",\"pop_201812\":\"pop_201812_max\",\"strc_201812\":\"strc_201812_max\"},inplace=True)\n",
    "golmok_201812_min.rename(columns={\"price_201812\":\"price_201812_min\",\"pop_201812\":\"pop_201812_min\",\"strc_201812\":\"strc_201812_min\"},inplace=True)\n",
    "\n",
    "golmok_201812_fin=pd.merge(left=ta_base,right=golmok_201812_max,how='inner',on=['상권명','위도','경도'])\n",
    "golmok_201812_fin=pd.merge(left=golmok_201812_fin,right=golmok_201812_min,how='inner',on=['상권명','위도','경도'])\n",
    "golmok_201812_fin['price_201812_mean']=( golmok_201812_fin['price_201812_max']+golmok_201812_fin['price_201812_min'] ) / 2\n",
    "golmok_201812_fin['pop_201812_mean']=( golmok_201812_fin['pop_201812_max']+golmok_201812_fin['pop_201812_min'] ) / 2\n",
    "golmok_201812_fin['strc_201812_mean']=( golmok_201812_fin['strc_201812_max']+golmok_201812_fin['strc_201812_min'] ) / 2\n",
    "\n",
    "golmok_201812_fin.to_csv(\"C:/gbig/GCGF/신용보증지도프로젝트/상권활성도/golmok_201812_fin.csv\",index=False,encoding='euc-kr')"
   ]
  },
  {
   "cell_type": "code",
   "execution_count": 35,
   "id": "a0596b6e",
   "metadata": {},
   "outputs": [],
   "source": [
    "golmok_201906_min = pd.read_csv('C:/gbig/GCGF/신용보증지도프로젝트/상권활성도/골목_Min_201906.csv',encoding='euc-kr')\n",
    "golmok_201906_max = pd.read_csv('C:/gbig/GCGF/신용보증지도프로젝트/상권활성도/골목_max_201906.csv',encoding='euc-kr')\n",
    "golmok_201906_min.rename(columns={\"price_2019\":\"price_201906\",\"strc_20190\":\"strc_201906\"},inplace=True)\n",
    "\n",
    "golmok_201906_max = golmok_201906_max.groupby(by=['상권명','위도','경도'],as_index=False)[['price_201906','pop_201906','strc_201906']].sum()\n",
    "golmok_201906_min = golmok_201906_min.groupby(by=['상권명','위도','경도'],as_index=False)[['price_201906','pop_201906','strc_201906']].sum()\n",
    "\n",
    "golmok_201906_max.rename(columns={\"price_201906\":\"price_201906_max\",\"pop_201906\":\"pop_201906_max\",\"strc_201906\":\"strc_201906_max\"},inplace=True)\n",
    "golmok_201906_min.rename(columns={\"price_201906\":\"price_201906_min\",\"pop_201906\":\"pop_201906_min\",\"strc_201906\":\"strc_201906_min\"},inplace=True)\n",
    "\n",
    "golmok_201906_fin=pd.merge(left=ta_base,right=golmok_201906_max,how='inner',on=['상권명','위도','경도'])\n",
    "golmok_201906_fin=pd.merge(left=golmok_201906_fin,right=golmok_201906_min,how='inner',on=['상권명','위도','경도'])\n",
    "golmok_201906_fin['price_201906_mean']=( golmok_201906_fin['price_201906_max']+golmok_201906_fin['price_201906_min'] ) / 2\n",
    "golmok_201906_fin['pop_201906_mean']=( golmok_201906_fin['pop_201906_max']+golmok_201906_fin['pop_201906_min'] ) / 2\n",
    "golmok_201906_fin['strc_201906_mean']=( golmok_201906_fin['strc_201906_max']+golmok_201906_fin['strc_201906_min'] ) / 2\n",
    "\n",
    "golmok_201906_fin.to_csv(\"C:/gbig/GCGF/신용보증지도프로젝트/상권활성도/golmok_201906_fin.csv\",index=False,encoding='euc-kr')"
   ]
  },
  {
   "cell_type": "code",
   "execution_count": 34,
   "id": "f1bd4d32",
   "metadata": {},
   "outputs": [],
   "source": [
    "golmok_201912_min = pd.read_csv('C:/gbig/GCGF/신용보증지도프로젝트/상권활성도/골목_Min_201912.csv',encoding='euc-kr')\n",
    "golmok_201912_max = pd.read_csv('C:/gbig/GCGF/신용보증지도프로젝트/상권활성도/골목_max_201912.csv',encoding='euc-kr')\n",
    "golmok_201912_min.rename(columns={\"price_2019\":\"price_201912\",\"strc_20191\":\"strc_201912\"},inplace=True)\n",
    "\n",
    "golmok_201912_max = golmok_201912_max.groupby(by=['상권명','위도','경도'],as_index=False)[['price_201912','pop_201912','strc_201912']].sum()\n",
    "golmok_201912_min = golmok_201912_min.groupby(by=['상권명','위도','경도'],as_index=False)[['price_201912','pop_201912','strc_201912']].sum()\n",
    "\n",
    "golmok_201912_max.rename(columns={\"price_201912\":\"price_201912_max\",\"pop_201912\":\"pop_201912_max\",\"strc_201912\":\"strc_201912_max\"},inplace=True)\n",
    "golmok_201912_min.rename(columns={\"price_201912\":\"price_201912_min\",\"pop_201912\":\"pop_201912_min\",\"strc_201912\":\"strc_201912_min\"},inplace=True)\n",
    "\n",
    "golmok_201912_fin=pd.merge(left=ta_base,right=golmok_201912_max,how='inner',on=['상권명','위도','경도'])\n",
    "golmok_201912_fin=pd.merge(left=golmok_201912_fin,right=golmok_201912_min,how='inner',on=['상권명','위도','경도'])\n",
    "golmok_201912_fin['price_201912_mean']=( golmok_201912_fin['price_201912_max']+golmok_201912_fin['price_201912_min'] ) / 2\n",
    "golmok_201912_fin['pop_201912_mean']=( golmok_201912_fin['pop_201912_max']+golmok_201912_fin['pop_201912_min'] ) / 2\n",
    "golmok_201912_fin['strc_201912_mean']=( golmok_201912_fin['strc_201912_max']+golmok_201912_fin['strc_201912_min'] ) / 2\n",
    "\n",
    "golmok_201912_fin.to_csv(\"C:/gbig/GCGF/신용보증지도프로젝트/상권활성도/golmok_201912_fin.csv\",index=False,encoding='euc-kr')"
   ]
  },
  {
   "cell_type": "code",
   "execution_count": 33,
   "id": "c56420a8",
   "metadata": {},
   "outputs": [],
   "source": [
    "golmok_202006_min = pd.read_csv('C:/gbig/GCGF/신용보증지도프로젝트/상권활성도/골목_Min_202006.csv',encoding='euc-kr')\n",
    "golmok_202006_max = pd.read_csv('C:/gbig/GCGF/신용보증지도프로젝트/상권활성도/골목_max_202006.csv',encoding='euc-kr')\n",
    "golmok_202006_min.rename(columns={\"price_2020\":\"price_202006\",\"strc_20200\":\"strc_202006\"},inplace=True)\n",
    "\n",
    "golmok_202006_max = golmok_202006_max.groupby(by=['상권명','위도','경도'],as_index=False)[['price_202006','pop_202006','strc_202006']].sum()\n",
    "golmok_202006_min = golmok_202006_min.groupby(by=['상권명','위도','경도'],as_index=False)[['price_202006','pop_202006','strc_202006']].sum()\n",
    "\n",
    "golmok_202006_max.rename(columns={\"price_202006\":\"price_202006_max\",\"pop_202006\":\"pop_202006_max\",\"strc_202006\":\"strc_202006_max\"},inplace=True)\n",
    "golmok_202006_min.rename(columns={\"price_202006\":\"price_202006_min\",\"pop_202006\":\"pop_202006_min\",\"strc_202006\":\"strc_202006_min\"},inplace=True)\n",
    "\n",
    "golmok_202006_fin=pd.merge(left=ta_base,right=golmok_202006_max,how='inner',on=['상권명','위도','경도'])\n",
    "golmok_202006_fin=pd.merge(left=golmok_202006_fin,right=golmok_202006_min,how='inner',on=['상권명','위도','경도'])\n",
    "golmok_202006_fin['price_202006_mean']=( golmok_202006_fin['price_202006_max']+golmok_202006_fin['price_202006_min'] ) / 2\n",
    "golmok_202006_fin['pop_202006_mean']=( golmok_202006_fin['pop_202006_max']+golmok_202006_fin['pop_202006_min'] ) / 2\n",
    "golmok_202006_fin['strc_202006_mean']=( golmok_202006_fin['strc_202006_max']+golmok_202006_fin['strc_202006_min'] ) / 2\n",
    "\n",
    "golmok_202006_fin.to_csv(\"C:/gbig/GCGF/신용보증지도프로젝트/상권활성도/golmok_202006_fin.csv\",index=False,encoding='euc-kr')"
   ]
  },
  {
   "cell_type": "code",
   "execution_count": 37,
   "id": "aeba7faf",
   "metadata": {},
   "outputs": [],
   "source": [
    "golmok_202012_min = pd.read_csv('C:/gbig/GCGF/신용보증지도프로젝트/상권활성도/골목_Min_202012.csv',encoding='euc-kr')\n",
    "golmok_202012_max = pd.read_csv('C:/gbig/GCGF/신용보증지도프로젝트/상권활성도/골목_max_202012.csv',encoding='euc-kr')\n",
    "golmok_202012_min.rename(columns={\"price_2020\":\"price_202012\",\"strc_20201\":\"strc_202012\"},inplace=True)\n",
    "\n",
    "golmok_202012_max = golmok_202012_max.groupby(by=['상권명','위도','경도'],as_index=False)[['price_202012','pop_202012','strc_202012']].sum()\n",
    "golmok_202012_min = golmok_202012_min.groupby(by=['상권명','위도','경도'],as_index=False)[['price_202012','pop_202012','strc_202012']].sum()\n",
    "\n",
    "golmok_202012_max.rename(columns={\"price_202012\":\"price_202012_max\",\"pop_202012\":\"pop_202012_max\",\"strc_202012\":\"strc_202012_max\"},inplace=True)\n",
    "golmok_202012_min.rename(columns={\"price_202012\":\"price_202012_min\",\"pop_202012\":\"pop_202012_min\",\"strc_202012\":\"strc_202012_min\"},inplace=True)\n",
    "\n",
    "golmok_202012_fin=pd.merge(left=ta_base,right=golmok_202012_max,how='inner',on=['상권명','위도','경도'])\n",
    "golmok_202012_fin=pd.merge(left=golmok_202012_fin,right=golmok_202012_min,how='inner',on=['상권명','위도','경도'])\n",
    "golmok_202012_fin['price_202012_mean']=( golmok_202012_fin['price_202012_max']+golmok_202012_fin['price_202012_min'] ) / 2\n",
    "golmok_202012_fin['pop_202012_mean']=( golmok_202012_fin['pop_202012_max']+golmok_202012_fin['pop_202012_min'] ) / 2\n",
    "golmok_202012_fin['strc_202012_mean']=( golmok_202012_fin['strc_202012_max']+golmok_202012_fin['strc_202012_min'] ) / 2\n",
    "\n",
    "golmok_202012_fin.to_csv(\"C:/gbig/GCGF/신용보증지도프로젝트/상권활성도/golmok_202012_fin.csv\",index=False,encoding='euc-kr')"
   ]
  },
  {
   "cell_type": "code",
   "execution_count": 38,
   "id": "1b8f9dca",
   "metadata": {},
   "outputs": [],
   "source": [
    "golmok_202106_min = pd.read_csv('C:/gbig/GCGF/신용보증지도프로젝트/상권활성도/골목_Min_202106.csv',encoding='euc-kr')\n",
    "golmok_202106_max = pd.read_csv('C:/gbig/GCGF/신용보증지도프로젝트/상권활성도/골목_max_202106.csv',encoding='euc-kr')\n",
    "golmok_202106_min.rename(columns={\"price_2021\":\"price_202106\",\"strc_20210\":\"strc_202106\"},inplace=True)\n",
    "\n",
    "golmok_202106_max = golmok_202106_max.groupby(by=['상권명','위도','경도'],as_index=False)[['price_202106','pop_202106','strc_202106']].sum()\n",
    "golmok_202106_min = golmok_202106_min.groupby(by=['상권명','위도','경도'],as_index=False)[['price_202106','pop_202106','strc_202106']].sum()\n",
    "\n",
    "golmok_202106_max.rename(columns={\"price_202106\":\"price_202106_max\",\"pop_202106\":\"pop_202106_max\",\"strc_202106\":\"strc_202106_max\"},inplace=True)\n",
    "golmok_202106_min.rename(columns={\"price_202106\":\"price_202106_min\",\"pop_202106\":\"pop_202106_min\",\"strc_202106\":\"strc_202106_min\"},inplace=True)\n",
    "\n",
    "golmok_202106_fin=pd.merge(left=ta_base,right=golmok_202106_max,how='inner',on=['상권명','위도','경도'])\n",
    "golmok_202106_fin=pd.merge(left=golmok_202106_fin,right=golmok_202106_min,how='inner',on=['상권명','위도','경도'])\n",
    "golmok_202106_fin['price_202106_mean']=( golmok_202106_fin['price_202106_max']+golmok_202106_fin['price_202106_min'] ) / 2\n",
    "golmok_202106_fin['pop_202106_mean']=( golmok_202106_fin['pop_202106_max']+golmok_202106_fin['pop_202106_min'] ) / 2\n",
    "golmok_202106_fin['strc_202106_mean']=( golmok_202106_fin['strc_202106_max']+golmok_202106_fin['strc_202106_min'] ) / 2\n",
    "\n",
    "golmok_202106_fin.to_csv(\"C:/gbig/GCGF/신용보증지도프로젝트/상권활성도/golmok_202106_fin.csv\",index=False,encoding='euc-kr')"
   ]
  },
  {
   "cell_type": "code",
   "execution_count": 39,
   "id": "14e08a4f",
   "metadata": {},
   "outputs": [],
   "source": [
    "golmok_202112_min = pd.read_csv('C:/gbig/GCGF/신용보증지도프로젝트/상권활성도/골목_Min_202112.csv',encoding='euc-kr')\n",
    "golmok_202112_max = pd.read_csv('C:/gbig/GCGF/신용보증지도프로젝트/상권활성도/골목_max_202112.csv',encoding='euc-kr')\n",
    "golmok_202112_min.rename(columns={\"price_2021\":\"price_202112\",\"strc_20211\":\"strc_202112\"},inplace=True)\n",
    "\n",
    "golmok_202112_max = golmok_202112_max.groupby(by=['상권명','위도','경도'],as_index=False)[['price_202112','pop_202112','strc_202112']].sum()\n",
    "golmok_202112_min = golmok_202112_min.groupby(by=['상권명','위도','경도'],as_index=False)[['price_202112','pop_202112','strc_202112']].sum()\n",
    "\n",
    "golmok_202112_max.rename(columns={\"price_202112\":\"price_202112_max\",\"pop_202112\":\"pop_202112_max\",\"strc_202112\":\"strc_202112_max\"},inplace=True)\n",
    "golmok_202112_min.rename(columns={\"price_202112\":\"price_202112_min\",\"pop_202112\":\"pop_202112_min\",\"strc_202112\":\"strc_202112_min\"},inplace=True)\n",
    "\n",
    "golmok_202112_fin=pd.merge(left=ta_base,right=golmok_202112_max,how='inner',on=['상권명','위도','경도'])\n",
    "golmok_202112_fin=pd.merge(left=golmok_202112_fin,right=golmok_202112_min,how='inner',on=['상권명','위도','경도'])\n",
    "golmok_202112_fin['price_202112_mean']=( golmok_202112_fin['price_202112_max']+golmok_202112_fin['price_202112_min'] ) / 2\n",
    "golmok_202112_fin['pop_202112_mean']=( golmok_202112_fin['pop_202112_max']+golmok_202112_fin['pop_202112_min'] ) / 2\n",
    "golmok_202112_fin['strc_202112_mean']=( golmok_202112_fin['strc_202112_max']+golmok_202112_fin['strc_202112_min'] ) / 2\n",
    "\n",
    "golmok_202112_fin.to_csv(\"C:/gbig/GCGF/신용보증지도프로젝트/상권활성도/golmok_202112_fin.csv\",index=False,encoding='euc-kr')"
   ]
  },
  {
   "cell_type": "markdown",
   "id": "61da3bd2",
   "metadata": {},
   "source": [
    "# 발달상권"
   ]
  },
  {
   "cell_type": "code",
   "execution_count": 40,
   "id": "7baed4dd",
   "metadata": {},
   "outputs": [],
   "source": [
    "ta_base = pd.read_csv('C:/gbig/GCGF/신용보증지도프로젝트/변환_발달상권현황.csv',encoding='euc-kr')"
   ]
  },
  {
   "cell_type": "code",
   "execution_count": 41,
   "id": "1e044825",
   "metadata": {},
   "outputs": [],
   "source": [
    "baldal_201706_min = pd.read_csv('C:/gbig/GCGF/신용보증지도프로젝트/상권활성도/발달_Min_201706.csv',encoding='euc-kr')\n",
    "baldal_201706_max = pd.read_csv('C:/gbig/GCGF/신용보증지도프로젝트/상권활성도/발달_max_201706.csv',encoding='euc-kr')\n",
    "baldal_201706_min.rename(columns={\"price_2017\":\"price_201706\",\"strc_20170\":\"strc_201706\"},inplace=True)\n",
    "\n",
    "baldal_201706_max = baldal_201706_max.groupby(by=['상권명','위도','경도'],as_index=False)[['price_201706','pop_201706','strc_201706']].sum()\n",
    "baldal_201706_min = baldal_201706_min.groupby(by=['상권명','위도','경도'],as_index=False)[['price_201706','pop_201706','strc_201706']].sum()\n",
    "\n",
    "baldal_201706_max.rename(columns={\"price_201706\":\"price_201706_max\",\"pop_201706\":\"pop_201706_max\",\"strc_201706\":\"strc_201706_max\"},inplace=True)\n",
    "baldal_201706_min.rename(columns={\"price_201706\":\"price_201706_min\",\"pop_201706\":\"pop_201706_min\",\"strc_201706\":\"strc_201706_min\"},inplace=True)\n",
    "\n",
    "baldal_201706_fin=pd.merge(left=ta_base,right=baldal_201706_max,how='inner',on=['상권명','위도','경도'])\n",
    "baldal_201706_fin=pd.merge(left=baldal_201706_fin,right=baldal_201706_min,how='inner',on=['상권명','위도','경도'])\n",
    "baldal_201706_fin['price_201706_mean']=( baldal_201706_fin['price_201706_max']+baldal_201706_fin['price_201706_min'] ) / 2\n",
    "baldal_201706_fin['pop_201706_mean']=( baldal_201706_fin['pop_201706_max']+baldal_201706_fin['pop_201706_min'] ) / 2\n",
    "baldal_201706_fin['strc_201706_mean']=( baldal_201706_fin['strc_201706_max']+baldal_201706_fin['strc_201706_min'] ) / 2\n",
    "\n",
    "baldal_201706_fin.to_csv(\"C:/gbig/GCGF/신용보증지도프로젝트/상권활성도/baldal_201706_fin.csv\",index=False,encoding='euc-kr')"
   ]
  },
  {
   "cell_type": "code",
   "execution_count": 43,
   "id": "246dbaa5",
   "metadata": {},
   "outputs": [],
   "source": [
    "baldal_201712_min = pd.read_csv('C:/gbig/GCGF/신용보증지도프로젝트/상권활성도/발달_Min_201712.csv',encoding='euc-kr')\n",
    "baldal_201712_max = pd.read_csv('C:/gbig/GCGF/신용보증지도프로젝트/상권활성도/발달_max_201712.csv',encoding='euc-kr')\n",
    "baldal_201712_min.rename(columns={\"price_2017\":\"price_201712\",\"strc_20171\":\"strc_201712\"},inplace=True) #라이브러리 이슈로 컬럼추출오류 보정\n",
    "\n",
    "baldal_201712_max = baldal_201712_max.groupby(by=['상권명','위도','경도'],as_index=False)[['price_201712','pop_201712','strc_201712']].sum()\n",
    "baldal_201712_min = baldal_201712_min.groupby(by=['상권명','위도','경도'],as_index=False)[['price_201712','pop_201712','strc_201712']].sum()\n",
    "\n",
    "baldal_201712_max.rename(columns={\"price_201712\":\"price_201712_max\",\"pop_201712\":\"pop_201712_max\",\"strc_201712\":\"strc_201712_max\"},inplace=True)\n",
    "baldal_201712_min.rename(columns={\"price_201712\":\"price_201712_min\",\"pop_201712\":\"pop_201712_min\",\"strc_201712\":\"strc_201712_min\"},inplace=True)\n",
    "\n",
    "baldal_201712_fin=pd.merge(left=ta_base,right=baldal_201712_max,how='inner',on=['상권명','위도','경도'])\n",
    "baldal_201712_fin=pd.merge(left=baldal_201712_fin,right=baldal_201712_min,how='inner',on=['상권명','위도','경도'])\n",
    "baldal_201712_fin['price_201712_mean']=( baldal_201712_fin['price_201712_max']+baldal_201712_fin['price_201712_min'] ) / 2\n",
    "baldal_201712_fin['pop_201712_mean']=( baldal_201712_fin['pop_201712_max']+baldal_201712_fin['pop_201712_min'] ) / 2\n",
    "baldal_201712_fin['strc_201712_mean']=( baldal_201712_fin['strc_201712_max']+baldal_201712_fin['strc_201712_min'] ) / 2 \n",
    "\n",
    "baldal_201712_fin.to_csv(\"C:/gbig/GCGF/신용보증지도프로젝트/상권활성도/baldal_201712_fin.csv\",index=False,encoding='euc-kr')"
   ]
  },
  {
   "cell_type": "code",
   "execution_count": 46,
   "id": "e99a827b",
   "metadata": {},
   "outputs": [],
   "source": [
    "baldal_201806_min = pd.read_csv('C:/gbig/GCGF/신용보증지도프로젝트/상권활성도/발달_Min_201806.csv',encoding='euc-kr')\n",
    "baldal_201806_max = pd.read_csv('C:/gbig/GCGF/신용보증지도프로젝트/상권활성도/발달_max_201806.csv',encoding='euc-kr')\n",
    "baldal_201806_min.rename(columns={\"price_2018\":\"price_201806\",\"strc_20180\":\"strc_201806\"},inplace=True)\n",
    "\n",
    "baldal_201806_max = baldal_201806_max.groupby(by=['상권명','위도','경도'],as_index=False)[['price_201806','pop_201806','strc_201806']].sum()\n",
    "baldal_201806_min = baldal_201806_min.groupby(by=['상권명','위도','경도'],as_index=False)[['price_201806','pop_201806','strc_201806']].sum()\n",
    "\n",
    "baldal_201806_max.rename(columns={\"price_201806\":\"price_201806_max\",\"pop_201806\":\"pop_201806_max\",\"strc_201806\":\"strc_201806_max\"},inplace=True)\n",
    "baldal_201806_min.rename(columns={\"price_201806\":\"price_201806_min\",\"pop_201806\":\"pop_201806_min\",\"strc_201806\":\"strc_201806_min\"},inplace=True)\n",
    "\n",
    "baldal_201806_fin=pd.merge(left=ta_base,right=baldal_201806_max,how='inner',on=['상권명','위도','경도'])\n",
    "baldal_201806_fin=pd.merge(left=baldal_201806_fin,right=baldal_201806_min,how='inner',on=['상권명','위도','경도'])\n",
    "baldal_201806_fin['price_201806_mean']=( baldal_201806_fin['price_201806_max']+baldal_201806_fin['price_201806_min'] ) / 2\n",
    "baldal_201806_fin['pop_201806_mean']=( baldal_201806_fin['pop_201806_max']+baldal_201806_fin['pop_201806_min'] ) / 2\n",
    "baldal_201806_fin['strc_201806_mean']=( baldal_201806_fin['strc_201806_max']+baldal_201806_fin['strc_201806_min'] ) / 2\n",
    "\n",
    "baldal_201806_fin.to_csv(\"C:/gbig/GCGF/신용보증지도프로젝트/상권활성도/baldal_201806_fin.csv\",index=False,encoding='euc-kr')"
   ]
  },
  {
   "cell_type": "code",
   "execution_count": 47,
   "id": "47da34af",
   "metadata": {},
   "outputs": [],
   "source": [
    "baldal_201812_min = pd.read_csv('C:/gbig/GCGF/신용보증지도프로젝트/상권활성도/발달_Min_201812.csv',encoding='euc-kr')\n",
    "baldal_201812_max = pd.read_csv('C:/gbig/GCGF/신용보증지도프로젝트/상권활성도/발달_max_201812.csv',encoding='euc-kr')\n",
    "baldal_201812_min.rename(columns={\"price_2018\":\"price_201812\",\"strc_20181\":\"strc_201812\"},inplace=True)\n",
    "\n",
    "baldal_201812_max = baldal_201812_max.groupby(by=['상권명','위도','경도'],as_index=False)[['price_201812','pop_201812','strc_201812']].sum()\n",
    "baldal_201812_min = baldal_201812_min.groupby(by=['상권명','위도','경도'],as_index=False)[['price_201812','pop_201812','strc_201812']].sum()\n",
    "\n",
    "baldal_201812_max.rename(columns={\"price_201812\":\"price_201812_max\",\"pop_201812\":\"pop_201812_max\",\"strc_201812\":\"strc_201812_max\"},inplace=True)\n",
    "baldal_201812_min.rename(columns={\"price_201812\":\"price_201812_min\",\"pop_201812\":\"pop_201812_min\",\"strc_201812\":\"strc_201812_min\"},inplace=True)\n",
    "\n",
    "baldal_201812_fin=pd.merge(left=ta_base,right=baldal_201812_max,how='inner',on=['상권명','위도','경도'])\n",
    "baldal_201812_fin=pd.merge(left=baldal_201812_fin,right=baldal_201812_min,how='inner',on=['상권명','위도','경도'])\n",
    "baldal_201812_fin['price_201812_mean']=( baldal_201812_fin['price_201812_max']+baldal_201812_fin['price_201812_min'] ) / 2\n",
    "baldal_201812_fin['pop_201812_mean']=( baldal_201812_fin['pop_201812_max']+golmok_201812_fin['pop_201812_min'] ) / 2\n",
    "baldal_201812_fin['strc_201812_mean']=( baldal_201812_fin['strc_201812_max']+baldal_201812_fin['strc_201812_min'] ) / 2\n",
    "\n",
    "baldal_201812_fin.to_csv(\"C:/gbig/GCGF/신용보증지도프로젝트/상권활성도/baldal_201812_fin.csv\",index=False,encoding='euc-kr')"
   ]
  },
  {
   "cell_type": "code",
   "execution_count": 48,
   "id": "7b9b5b3d",
   "metadata": {},
   "outputs": [],
   "source": [
    "baldal_201906_min = pd.read_csv('C:/gbig/GCGF/신용보증지도프로젝트/상권활성도/발달_Min_201906.csv',encoding='euc-kr')\n",
    "baldal_201906_max = pd.read_csv('C:/gbig/GCGF/신용보증지도프로젝트/상권활성도/발달_max_201906.csv',encoding='euc-kr')\n",
    "baldal_201906_min.rename(columns={\"price_2019\":\"price_201906\",\"strc_20190\":\"strc_201906\"},inplace=True)\n",
    "\n",
    "baldal_201906_max = baldal_201906_max.groupby(by=['상권명','위도','경도'],as_index=False)[['price_201906','pop_201906','strc_201906']].sum()\n",
    "baldal_201906_min = baldal_201906_min.groupby(by=['상권명','위도','경도'],as_index=False)[['price_201906','pop_201906','strc_201906']].sum()\n",
    "\n",
    "baldal_201906_max.rename(columns={\"price_201906\":\"price_201906_max\",\"pop_201906\":\"pop_201906_max\",\"strc_201906\":\"strc_201906_max\"},inplace=True)\n",
    "baldal_201906_min.rename(columns={\"price_201906\":\"price_201906_min\",\"pop_201906\":\"pop_201906_min\",\"strc_201906\":\"strc_201906_min\"},inplace=True)\n",
    "\n",
    "baldal_201906_fin=pd.merge(left=ta_base,right=baldal_201906_max,how='inner',on=['상권명','위도','경도'])\n",
    "baldal_201906_fin=pd.merge(left=baldal_201906_fin,right=baldal_201906_min,how='inner',on=['상권명','위도','경도'])\n",
    "baldal_201906_fin['price_201906_mean']=( baldal_201906_fin['price_201906_max']+baldal_201906_fin['price_201906_min'] ) / 2\n",
    "baldal_201906_fin['pop_201906_mean']=( baldal_201906_fin['pop_201906_max']+baldal_201906_fin['pop_201906_min'] ) / 2\n",
    "baldal_201906_fin['strc_201906_mean']=( baldal_201906_fin['strc_201906_max']+baldal_201906_fin['strc_201906_min'] ) / 2\n",
    "\n",
    "baldal_201906_fin.to_csv(\"C:/gbig/GCGF/신용보증지도프로젝트/상권활성도/baldal_201906_fin.csv\",index=False,encoding='euc-kr')"
   ]
  },
  {
   "cell_type": "code",
   "execution_count": 51,
   "id": "e59ccf94",
   "metadata": {},
   "outputs": [],
   "source": [
    "baldal_201912_min = pd.read_csv('C:/gbig/GCGF/신용보증지도프로젝트/상권활성도/발달_Min_201912.csv',encoding='euc-kr')\n",
    "baldal_201912_max = pd.read_csv('C:/gbig/GCGF/신용보증지도프로젝트/상권활성도/발달_max_201912.csv',encoding='euc-kr')\n",
    "baldal_201912_min.rename(columns={\"price_2019\":\"price_201912\",\"strc_20191\":\"strc_201912\"},inplace=True)\n",
    "\n",
    "baldal_201912_max = baldal_201912_max.groupby(by=['상권명','위도','경도'],as_index=False)[['price_201912','pop_201912','strc_201912']].sum()\n",
    "baldal_201912_min = baldal_201912_min.groupby(by=['상권명','위도','경도'],as_index=False)[['price_201912','pop_201912','strc_201912']].sum()\n",
    "\n",
    "baldal_201912_max.rename(columns={\"price_201912\":\"price_201912_max\",\"pop_201912\":\"pop_201912_max\",\"strc_201912\":\"strc_201912_max\"},inplace=True)\n",
    "baldal_201912_min.rename(columns={\"price_201912\":\"price_201912_min\",\"pop_201912\":\"pop_201912_min\",\"strc_201912\":\"strc_201912_min\"},inplace=True)\n",
    "\n",
    "baldal_201912_fin=pd.merge(left=ta_base,right=baldal_201912_max,how='inner',on=['상권명','위도','경도'])\n",
    "baldal_201912_fin=pd.merge(left=baldal_201912_fin,right=baldal_201912_min,how='inner',on=['상권명','위도','경도'])\n",
    "baldal_201912_fin['price_201912_mean']=( baldal_201912_fin['price_201912_max']+baldal_201912_fin['price_201912_min'] ) / 2\n",
    "baldal_201912_fin['pop_201912_mean']=( baldal_201912_fin['pop_201912_max']+baldal_201912_fin['pop_201912_min'] ) / 2\n",
    "baldal_201912_fin['strc_201912_mean']=( baldal_201912_fin['strc_201912_max']+baldal_201912_fin['strc_201912_min'] ) / 2\n",
    "\n",
    "baldal_201912_fin.to_csv(\"C:/gbig/GCGF/신용보증지도프로젝트/상권활성도/baldal_201912_fin.csv\",index=False,encoding='euc-kr')"
   ]
  },
  {
   "cell_type": "code",
   "execution_count": 52,
   "id": "350f9782",
   "metadata": {},
   "outputs": [],
   "source": [
    "baldal_202006_min = pd.read_csv('C:/gbig/GCGF/신용보증지도프로젝트/상권활성도/발달_Min_202006.csv',encoding='euc-kr')\n",
    "baldal_202006_max = pd.read_csv('C:/gbig/GCGF/신용보증지도프로젝트/상권활성도/발달_max_202006.csv',encoding='euc-kr')\n",
    "baldal_202006_min.rename(columns={\"price_2020\":\"price_202006\",\"strc_20200\":\"strc_202006\"},inplace=True)\n",
    "\n",
    "baldal_202006_max = baldal_202006_max.groupby(by=['상권명','위도','경도'],as_index=False)[['price_202006','pop_202006','strc_202006']].sum()\n",
    "baldal_202006_min = baldal_202006_min.groupby(by=['상권명','위도','경도'],as_index=False)[['price_202006','pop_202006','strc_202006']].sum()\n",
    "\n",
    "baldal_202006_max.rename(columns={\"price_202006\":\"price_202006_max\",\"pop_202006\":\"pop_202006_max\",\"strc_202006\":\"strc_202006_max\"},inplace=True)\n",
    "baldal_202006_min.rename(columns={\"price_202006\":\"price_202006_min\",\"pop_202006\":\"pop_202006_min\",\"strc_202006\":\"strc_202006_min\"},inplace=True)\n",
    "\n",
    "baldal_202006_fin=pd.merge(left=ta_base,right=baldal_202006_max,how='inner',on=['상권명','위도','경도'])\n",
    "baldal_202006_fin=pd.merge(left=baldal_202006_fin,right=baldal_202006_min,how='inner',on=['상권명','위도','경도'])\n",
    "baldal_202006_fin['price_202006_mean']=( baldal_202006_fin['price_202006_max']+baldal_202006_fin['price_202006_min'] ) / 2\n",
    "baldal_202006_fin['pop_202006_mean']=( baldal_202006_fin['pop_202006_max']+baldal_202006_fin['pop_202006_min'] ) / 2\n",
    "baldal_202006_fin['strc_202006_mean']=( baldal_202006_fin['strc_202006_max']+baldal_202006_fin['strc_202006_min'] ) / 2\n",
    "\n",
    "baldal_202006_fin.to_csv(\"C:/gbig/GCGF/신용보증지도프로젝트/상권활성도/baldal_202006_fin.csv\",index=False,encoding='euc-kr')"
   ]
  },
  {
   "cell_type": "code",
   "execution_count": 53,
   "id": "ecaf5fa0",
   "metadata": {},
   "outputs": [],
   "source": [
    "baldal_202012_min = pd.read_csv('C:/gbig/GCGF/신용보증지도프로젝트/상권활성도/발달_Min_202012.csv',encoding='euc-kr')\n",
    "baldal_202012_max = pd.read_csv('C:/gbig/GCGF/신용보증지도프로젝트/상권활성도/발달_max_202012.csv',encoding='euc-kr')\n",
    "baldal_202012_min.rename(columns={\"price_2020\":\"price_202012\",\"strc_20201\":\"strc_202012\"},inplace=True)\n",
    "\n",
    "baldal_202012_max = baldal_202012_max.groupby(by=['상권명','위도','경도'],as_index=False)[['price_202012','pop_202012','strc_202012']].sum()\n",
    "baldal_202012_min = baldal_202012_min.groupby(by=['상권명','위도','경도'],as_index=False)[['price_202012','pop_202012','strc_202012']].sum()\n",
    "\n",
    "baldal_202012_max.rename(columns={\"price_202012\":\"price_202012_max\",\"pop_202012\":\"pop_202012_max\",\"strc_202012\":\"strc_202012_max\"},inplace=True)\n",
    "baldal_202012_min.rename(columns={\"price_202012\":\"price_202012_min\",\"pop_202012\":\"pop_202012_min\",\"strc_202012\":\"strc_202012_min\"},inplace=True)\n",
    "\n",
    "baldal_202012_fin=pd.merge(left=ta_base,right=baldal_202012_max,how='inner',on=['상권명','위도','경도'])\n",
    "baldal_202012_fin=pd.merge(left=baldal_202012_fin,right=baldal_202012_min,how='inner',on=['상권명','위도','경도'])\n",
    "baldal_202012_fin['price_202012_mean']=( baldal_202012_fin['price_202012_max']+baldal_202012_fin['price_202012_min'] ) / 2\n",
    "baldal_202012_fin['pop_202012_mean']=( baldal_202012_fin['pop_202012_max']+baldal_202012_fin['pop_202012_min'] ) / 2\n",
    "baldal_202012_fin['strc_202012_mean']=( baldal_202012_fin['strc_202012_max']+baldal_202012_fin['strc_202012_min'] ) / 2\n",
    "\n",
    "baldal_202012_fin.to_csv(\"C:/gbig/GCGF/신용보증지도프로젝트/상권활성도/baldal_202012_fin.csv\",index=False,encoding='euc-kr')"
   ]
  },
  {
   "cell_type": "code",
   "execution_count": 56,
   "id": "18f86335",
   "metadata": {},
   "outputs": [],
   "source": [
    "baldal_202106_min = pd.read_csv('C:/gbig/GCGF/신용보증지도프로젝트/상권활성도/발달_Min_202106.csv',encoding='euc-kr')\n",
    "baldal_202106_max = pd.read_csv('C:/gbig/GCGF/신용보증지도프로젝트/상권활성도/발달_max_202106.csv',encoding='euc-kr')\n",
    "baldal_202106_min.rename(columns={\"price_2021\":\"price_202106\",\"strc_20210\":\"strc_202106\"},inplace=True)\n",
    "\n",
    "baldal_202106_max = baldal_202106_max.groupby(by=['상권명','위도','경도'],as_index=False)[['price_202106','pop_202106','strc_202106']].sum()\n",
    "baldal_202106_min = baldal_202106_min.groupby(by=['상권명','위도','경도'],as_index=False)[['price_202106','pop_202106','strc_202106']].sum()\n",
    "\n",
    "baldal_202106_max.rename(columns={\"price_202106\":\"price_202106_max\",\"pop_202106\":\"pop_202106_max\",\"strc_202106\":\"strc_202106_max\"},inplace=True)\n",
    "baldal_202106_min.rename(columns={\"price_202106\":\"price_202106_min\",\"pop_202106\":\"pop_202106_min\",\"strc_202106\":\"strc_202106_min\"},inplace=True)\n",
    "\n",
    "baldal_202106_fin=pd.merge(left=ta_base,right=baldal_202106_max,how='inner',on=['상권명','위도','경도'])\n",
    "baldal_202106_fin=pd.merge(left=baldal_202106_fin,right=baldal_202106_min,how='inner',on=['상권명','위도','경도'])\n",
    "baldal_202106_fin['price_202106_mean']=( baldal_202106_fin['price_202106_max']+baldal_202106_fin['price_202106_min'] ) / 2\n",
    "baldal_202106_fin['pop_202106_mean']=( baldal_202106_fin['pop_202106_max']+baldal_202106_fin['pop_202106_min'] ) / 2\n",
    "baldal_202106_fin['strc_202106_mean']=( baldal_202106_fin['strc_202106_max']+baldal_202106_fin['strc_202106_min'] ) / 2\n",
    "\n",
    "baldal_202106_fin.to_csv(\"C:/gbig/GCGF/신용보증지도프로젝트/상권활성도/baldal_202106_fin.csv\",index=False,encoding='euc-kr')"
   ]
  },
  {
   "cell_type": "code",
   "execution_count": 58,
   "id": "626db02a",
   "metadata": {},
   "outputs": [],
   "source": [
    "baldal_202112_min = pd.read_csv('C:/gbig/GCGF/신용보증지도프로젝트/상권활성도/발달_Min_202112.csv',encoding='euc-kr')\n",
    "baldal_202112_max = pd.read_csv('C:/gbig/GCGF/신용보증지도프로젝트/상권활성도/발달_max_202112.csv',encoding='euc-kr')\n",
    "baldal_202112_min.rename(columns={\"price_2021\":\"price_202112\",\"strc_20211\":\"strc_202112\"},inplace=True)\n",
    "\n",
    "baldal_202112_max = baldal_202112_max.groupby(by=['상권명','위도','경도'],as_index=False)[['price_202112','pop_202112','strc_202112']].sum()\n",
    "baldal_202112_min = baldal_202112_min.groupby(by=['상권명','위도','경도'],as_index=False)[['price_202112','pop_202112','strc_202112']].sum()\n",
    "\n",
    "baldal_202112_max.rename(columns={\"price_202112\":\"price_202112_max\",\"pop_202112\":\"pop_202112_max\",\"strc_202112\":\"strc_202112_max\"},inplace=True)\n",
    "baldal_202112_min.rename(columns={\"price_202112\":\"price_202112_min\",\"pop_202112\":\"pop_202112_min\",\"strc_202112\":\"strc_202112_min\"},inplace=True)\n",
    "\n",
    "baldal_202112_fin=pd.merge(left=ta_base,right=baldal_202112_max,how='inner',on=['상권명','위도','경도'])\n",
    "baldal_202112_fin=pd.merge(left=baldal_202112_fin,right=baldal_202112_min,how='inner',on=['상권명','위도','경도'])\n",
    "baldal_202112_fin['price_202112_mean']=( baldal_202112_fin['price_202112_max']+baldal_202112_fin['price_202112_min'] ) / 2\n",
    "baldal_202112_fin['pop_202112_mean']=( baldal_202112_fin['pop_202112_max']+baldal_202112_fin['pop_202112_min'] ) / 2\n",
    "baldal_202112_fin['strc_202112_mean']=( baldal_202112_fin['strc_202112_max']+baldal_202112_fin['strc_202112_min'] ) / 2\n",
    "\n",
    "baldal_202112_fin.to_csv(\"C:/gbig/GCGF/신용보증지도프로젝트/상권활성도/baldal_202112_fin.csv\",index=False,encoding='euc-kr')"
   ]
  },
  {
   "cell_type": "code",
   "execution_count": null,
   "id": "e3bc7705",
   "metadata": {},
   "outputs": [],
   "source": []
  }
 ],
 "metadata": {
  "kernelspec": {
   "display_name": "Python 3 (ipykernel)",
   "language": "python",
   "name": "python3"
  },
  "language_info": {
   "codemirror_mode": {
    "name": "ipython",
    "version": 3
   },
   "file_extension": ".py",
   "mimetype": "text/x-python",
   "name": "python",
   "nbconvert_exporter": "python",
   "pygments_lexer": "ipython3",
   "version": "3.9.12"
  }
 },
 "nbformat": 4,
 "nbformat_minor": 5
}
