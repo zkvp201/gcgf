{
 "cells": [
  {
   "cell_type": "code",
   "execution_count": 1,
   "id": "5c24ba62",
   "metadata": {},
   "outputs": [],
   "source": [
    "import pandas as pd\n",
    "import os"
   ]
  },
  {
   "cell_type": "code",
   "execution_count": 2,
   "id": "01701963",
   "metadata": {},
   "outputs": [],
   "source": [
    "df = pd.read_csv('상권_요인분석/sum_fa_list.csv',encoding='euc-kr')\n",
    "from sklearn.preprocessing import StandardScaler\n",
    "scaler = StandardScaler()\n",
    "df_scaled_standard = scaler.fit_transform(df.iloc[:,-10:])\n",
    "score_set = pd.DataFrame(df_scaled_standard,columns=df.iloc[:,-10:].columns)"
   ]
  },
  {
   "cell_type": "code",
   "execution_count": 3,
   "id": "6f90c01b",
   "metadata": {},
   "outputs": [],
   "source": [
    "bins=[]\n",
    "for i in reversed(range(1,11)):\n",
    "    #bins.append(str(i)+'등급')\n",
    "    bins.append(i)"
   ]
  },
  {
   "cell_type": "code",
   "execution_count": 4,
   "id": "67ac2121",
   "metadata": {},
   "outputs": [],
   "source": [
    "#표준화 계수에 따라 상권의 활성화 정도를 구분\n",
    "def split_type(x):\n",
    "    answer = ''\n",
    "    if x >= 0.5 : answer = '활성화상권'\n",
    "    elif x<=-0.5 : answer = '비활성화상권'\n",
    "    else : answer = '현상유지상권'\n",
    "    return answer"
   ]
  },
  {
   "cell_type": "code",
   "execution_count": 5,
   "id": "3c161bd9",
   "metadata": {},
   "outputs": [
    {
     "data": {
      "text/plain": [
       "0        활성화상권\n",
       "1       현상유지상권\n",
       "2       현상유지상권\n",
       "3       비활성화상권\n",
       "4       현상유지상권\n",
       "         ...  \n",
       "1672    현상유지상권\n",
       "1673    비활성화상권\n",
       "1674    현상유지상권\n",
       "1675    현상유지상권\n",
       "1676    비활성화상권\n",
       "Name: 1912_score, Length: 1677, dtype: object"
      ]
     },
     "execution_count": 5,
     "metadata": {},
     "output_type": "execute_result"
    }
   ],
   "source": [
    "score_set['1912_score'].apply(lambda x : split_type(x))"
   ]
  },
  {
   "cell_type": "code",
   "execution_count": 6,
   "id": "f0f3a37f",
   "metadata": {},
   "outputs": [],
   "source": [
    "df['표준화 지수'] = df['2206_score']-df['1912_score']\n",
    "df['증감'] = df['2206_score']-df['1912_score']\n",
    "df['경제회복도'] = pd.cut(df['표준화 지수'],10,labels=bins)"
   ]
  },
  {
   "cell_type": "code",
   "execution_count": 7,
   "id": "ec5383bf",
   "metadata": {},
   "outputs": [],
   "source": [
    "score_set['표준화 지수'] = score_set['2206_score']-score_set['1912_score']\n",
    "score_set['경제회복도'] = pd.cut(score_set['표준화 지수'],10,labels=bins)"
   ]
  },
  {
   "cell_type": "code",
   "execution_count": 8,
   "id": "a353f0d6",
   "metadata": {},
   "outputs": [
    {
     "data": {
      "text/html": [
       "<div>\n",
       "<style scoped>\n",
       "    .dataframe tbody tr th:only-of-type {\n",
       "        vertical-align: middle;\n",
       "    }\n",
       "\n",
       "    .dataframe tbody tr th {\n",
       "        vertical-align: top;\n",
       "    }\n",
       "\n",
       "    .dataframe thead th {\n",
       "        text-align: right;\n",
       "    }\n",
       "</style>\n",
       "<table border=\"1\" class=\"dataframe\">\n",
       "  <thead>\n",
       "    <tr style=\"text-align: right;\">\n",
       "      <th></th>\n",
       "      <th>1806_score</th>\n",
       "      <th>1812_score</th>\n",
       "      <th>1906_score</th>\n",
       "      <th>1912_score</th>\n",
       "      <th>2006_score</th>\n",
       "      <th>2012_score</th>\n",
       "      <th>2106_score</th>\n",
       "      <th>2112_score</th>\n",
       "      <th>2206_score</th>\n",
       "      <th>2106_score.1</th>\n",
       "      <th>표준화 지수</th>\n",
       "      <th>경제회복도</th>\n",
       "    </tr>\n",
       "  </thead>\n",
       "  <tbody>\n",
       "  </tbody>\n",
       "</table>\n",
       "</div>"
      ],
      "text/plain": [
       "Empty DataFrame\n",
       "Columns: [1806_score, 1812_score, 1906_score, 1912_score, 2006_score, 2012_score, 2106_score, 2112_score, 2206_score, 2106_score.1, 표준화 지수, 경제회복도]\n",
       "Index: []"
      ]
     },
     "execution_count": 8,
     "metadata": {},
     "output_type": "execute_result"
    }
   ],
   "source": [
    "score_set[score_set['경제회복도']=='4등급']"
   ]
  },
  {
   "cell_type": "code",
   "execution_count": 9,
   "id": "c95005f4",
   "metadata": {},
   "outputs": [],
   "source": [
    "score_set = pd.concat([df.iloc[:,:7],score_set],axis=1)"
   ]
  },
  {
   "cell_type": "code",
   "execution_count": 10,
   "id": "d36cbbf0",
   "metadata": {},
   "outputs": [
    {
     "data": {
      "text/html": [
       "<div>\n",
       "<style scoped>\n",
       "    .dataframe tbody tr th:only-of-type {\n",
       "        vertical-align: middle;\n",
       "    }\n",
       "\n",
       "    .dataframe tbody tr th {\n",
       "        vertical-align: top;\n",
       "    }\n",
       "\n",
       "    .dataframe thead th {\n",
       "        text-align: right;\n",
       "    }\n",
       "</style>\n",
       "<table border=\"1\" class=\"dataframe\">\n",
       "  <thead>\n",
       "    <tr style=\"text-align: right;\">\n",
       "      <th></th>\n",
       "      <th>상권코드</th>\n",
       "      <th>경제회복도</th>\n",
       "    </tr>\n",
       "  </thead>\n",
       "  <tbody>\n",
       "    <tr>\n",
       "      <th>0</th>\n",
       "      <td>골목_1</td>\n",
       "      <td>5</td>\n",
       "    </tr>\n",
       "    <tr>\n",
       "      <th>1</th>\n",
       "      <td>골목_2</td>\n",
       "      <td>5</td>\n",
       "    </tr>\n",
       "  </tbody>\n",
       "</table>\n",
       "</div>"
      ],
      "text/plain": [
       "   상권코드 경제회복도\n",
       "0  골목_1     5\n",
       "1  골목_2     5"
      ]
     },
     "execution_count": 10,
     "metadata": {},
     "output_type": "execute_result"
    }
   ],
   "source": [
    "score_set=score_set[['상권코드','경제회복도']]\n",
    "\n",
    "score_set.head(2)"
   ]
  },
  {
   "cell_type": "code",
   "execution_count": 11,
   "id": "3116bd31",
   "metadata": {},
   "outputs": [],
   "source": [
    "score_set.to_csv('상권_컬럼/상권_경제회복도.csv',encoding='euc-kr',index=False)"
   ]
  },
  {
   "cell_type": "code",
   "execution_count": null,
   "id": "46fe74d6",
   "metadata": {},
   "outputs": [],
   "source": []
  }
 ],
 "metadata": {
  "kernelspec": {
   "display_name": "Python 3 (ipykernel)",
   "language": "python",
   "name": "python3"
  },
  "language_info": {
   "codemirror_mode": {
    "name": "ipython",
    "version": 3
   },
   "file_extension": ".py",
   "mimetype": "text/x-python",
   "name": "python",
   "nbconvert_exporter": "python",
   "pygments_lexer": "ipython3",
   "version": "3.9.12"
  }
 },
 "nbformat": 4,
 "nbformat_minor": 5
}
