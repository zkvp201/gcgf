{
 "cells": [
  {
   "cell_type": "markdown",
   "id": "de023bd4",
   "metadata": {},
   "source": [
    "## 간이분석 및 프로토타입 제작 후 변경사항\n",
    "\n",
    "* 거주인구 데이터를 상권 인근 250m 격자를 활용하는게 더 좋을 것이라고 판단\n",
    "* max,min,mean 세가지 기준 중 max 데이터(격자기준 결합)가 가장 유의할 것이라고 판단\n",
    "* 골목상권,발달상권에 고유 코드 번호 부여\n",
    "\n",
    "### 변경사항을 적용하여 데이터셋을 제작"
   ]
  },
  {
   "cell_type": "code",
   "execution_count": 1,
   "id": "fa82353a",
   "metadata": {},
   "outputs": [],
   "source": [
    "import pandas as pd\n",
    "import os"
   ]
  },
  {
   "cell_type": "code",
   "execution_count": 2,
   "id": "e8355824",
   "metadata": {},
   "outputs": [],
   "source": [
    "path = 'C:/gbig/GCGF/신용보증지도프로젝트/상권활성도'"
   ]
  },
  {
   "cell_type": "markdown",
   "id": "c5444e96",
   "metadata": {},
   "source": [
    "## 골목상권"
   ]
  },
  {
   "cell_type": "code",
   "execution_count": 30,
   "id": "862d8e0d",
   "metadata": {},
   "outputs": [],
   "source": [
    "golmok_201706 = pd.read_csv(path+'/골목상권/golmok_201706_fin.csv',encoding='euc-kr')\n",
    "golmok_pop_201706 = pd.read_csv(path+'/거주인구_250/골목상권/골목상권_인구_250m_상권결합_201706.csv',encoding='euc-kr')\n",
    "golmok_pop_201706 = golmok_pop_201706.groupby(['다중지역정보'],as_index=False)['val'].sum()\n",
    "golmok_201706 = pd.merge(left=golmok_201706[golmok_201706.columns[:10]],right=golmok_pop_201706,how='inner',on=['다중지역정보'])\n",
    "golmok_201706.drop('pop_201706_max',axis=1,inplace=True)\n",
    "golmok_201706.rename(columns={'val':'pop_201706_max'},inplace=True)\n",
    "golmok_201706.to_csv(path+'/골목상권_201706.csv',encoding='euc-kr',index=False)"
   ]
  },
  {
   "cell_type": "code",
   "execution_count": 31,
   "id": "f88abc79",
   "metadata": {},
   "outputs": [],
   "source": [
    "golmok_201712 = pd.read_csv(path+'/골목상권/golmok_201712_fin.csv',encoding='euc-kr')\n",
    "golmok_pop_201712 = pd.read_csv(path+'/거주인구_250/골목상권/골목상권_인구_250m_상권결합_201712.csv',encoding='euc-kr')\n",
    "golmok_pop_201712 = golmok_pop_201712.groupby(['다중지역정보'],as_index=False)['val'].sum()\n",
    "golmok_201712 = pd.merge(left=golmok_201712[golmok_201712.columns[:10]],right=golmok_pop_201712,how='inner',on=['다중지역정보'])\n",
    "golmok_201712.drop('pop_201712_max',axis=1,inplace=True)\n",
    "golmok_201712.rename(columns={'val':'pop_201712_max'},inplace=True)\n",
    "golmok_201712.to_csv(path+'/골목상권_201712.csv',encoding='euc-kr',index=False)"
   ]
  },
  {
   "cell_type": "code",
   "execution_count": 32,
   "id": "23d7d44e",
   "metadata": {},
   "outputs": [],
   "source": [
    "golmok_201806 = pd.read_csv(path+'/골목상권/golmok_201806_fin.csv',encoding='euc-kr')\n",
    "golmok_pop_201806 = pd.read_csv(path+'/거주인구_250/골목상권/골목상권_인구_250m_상권결합_201806.csv',encoding='euc-kr')\n",
    "golmok_pop_201806 = golmok_pop_201806.groupby(['다중지역정보'],as_index=False)['val'].sum()\n",
    "golmok_201806 = pd.merge(left=golmok_201806[golmok_201806.columns[:10]],right=golmok_pop_201806,how='inner',on=['다중지역정보'])\n",
    "golmok_201806.drop('pop_201806_max',axis=1,inplace=True)\n",
    "golmok_201806.rename(columns={'val':'pop_201806_max'},inplace=True)\n",
    "golmok_201806.to_csv(path+'/골목상권_201806.csv',encoding='euc-kr',index=False)"
   ]
  },
  {
   "cell_type": "code",
   "execution_count": 33,
   "id": "302147b7",
   "metadata": {},
   "outputs": [],
   "source": [
    "golmok_201812 = pd.read_csv(path+'/골목상권/golmok_201812_fin.csv',encoding='euc-kr')\n",
    "golmok_pop_201812 = pd.read_csv(path+'/거주인구_250/골목상권/골목상권_인구_250m_상권결합_201812.csv',encoding='euc-kr')\n",
    "golmok_pop_201812 = golmok_pop_201812.groupby(['다중지역정보'],as_index=False)['val'].sum()\n",
    "golmok_201812 = pd.merge(left=golmok_201812[golmok_201812.columns[:10]],right=golmok_pop_201812,how='inner',on=['다중지역정보'])\n",
    "golmok_201812.drop('pop_201812_max',axis=1,inplace=True)\n",
    "golmok_201812.rename(columns={'val':'pop_201812_max'},inplace=True)\n",
    "golmok_201812.to_csv(path+'/골목상권_201812.csv',encoding='euc-kr',index=False)"
   ]
  },
  {
   "cell_type": "code",
   "execution_count": 34,
   "id": "c9866bfe",
   "metadata": {},
   "outputs": [],
   "source": [
    "golmok_201906 = pd.read_csv(path+'/골목상권/golmok_201906_fin.csv',encoding='euc-kr')\n",
    "golmok_pop_201906 = pd.read_csv(path+'/거주인구_250/골목상권/골목상권_인구_250m_상권결합_201906.csv',encoding='euc-kr')\n",
    "golmok_pop_201906 = golmok_pop_201906.groupby(['다중지역정보'],as_index=False)['val'].sum()\n",
    "golmok_201906 = pd.merge(left=golmok_201906[golmok_201906.columns[:10]],right=golmok_pop_201906,how='inner',on=['다중지역정보'])\n",
    "golmok_201906.drop('pop_201906_max',axis=1,inplace=True)\n",
    "golmok_201906.rename(columns={'val':'pop_201906_max'},inplace=True)\n",
    "golmok_201906.to_csv(path+'/골목상권_201906.csv',encoding='euc-kr',index=False)"
   ]
  },
  {
   "cell_type": "code",
   "execution_count": 35,
   "id": "1001e9a0",
   "metadata": {},
   "outputs": [],
   "source": [
    "golmok_201912 = pd.read_csv(path+'/골목상권/golmok_201912_fin.csv',encoding='euc-kr')\n",
    "golmok_pop_201912 = pd.read_csv(path+'/거주인구_250/골목상권/골목상권_인구_250m_상권결합_201912.csv',encoding='euc-kr')\n",
    "golmok_pop_201912 = golmok_pop_201912.groupby(['다중지역정보'],as_index=False)['val'].sum()\n",
    "golmok_201912 = pd.merge(left=golmok_201912[golmok_201912.columns[:10]],right=golmok_pop_201912,how='inner',on=['다중지역정보'])\n",
    "golmok_201912.drop('pop_201912_max',axis=1,inplace=True)\n",
    "golmok_201912.rename(columns={'val':'pop_201912_max'},inplace=True)\n",
    "golmok_201912.to_csv(path+'/골목상권_201912.csv',encoding='euc-kr',index=False)"
   ]
  },
  {
   "cell_type": "code",
   "execution_count": 36,
   "id": "84cfd68d",
   "metadata": {},
   "outputs": [],
   "source": [
    "golmok_202006 = pd.read_csv(path+'/골목상권/golmok_202006_fin.csv',encoding='euc-kr')\n",
    "golmok_pop_202006 = pd.read_csv(path+'/거주인구_250/골목상권/골목상권_인구_250m_상권결합_202006.csv',encoding='euc-kr')\n",
    "golmok_pop_202006 = golmok_pop_202006.groupby(['다중지역정보'],as_index=False)['val'].sum()\n",
    "golmok_202006 = pd.merge(left=golmok_202006[golmok_202006.columns[:10]],right=golmok_pop_202006,how='inner',on=['다중지역정보'])\n",
    "golmok_202006.drop('pop_202006_max',axis=1,inplace=True)\n",
    "golmok_202006.rename(columns={'val':'pop_202006_max'},inplace=True)\n",
    "golmok_202006.to_csv(path+'/골목상권_202006.csv',encoding='euc-kr',index=False)"
   ]
  },
  {
   "cell_type": "code",
   "execution_count": 37,
   "id": "57fce5bf",
   "metadata": {},
   "outputs": [],
   "source": [
    "golmok_202012 = pd.read_csv(path+'/골목상권/golmok_202012_fin.csv',encoding='euc-kr')\n",
    "golmok_pop_202012 = pd.read_csv(path+'/거주인구_250/골목상권/골목상권_인구_250m_상권결합_202012.csv',encoding='euc-kr')\n",
    "golmok_pop_202012 = golmok_pop_202012.groupby(['다중지역정보'],as_index=False)['val'].sum()\n",
    "golmok_202012 = pd.merge(left=golmok_202012[golmok_202012.columns[:10]],right=golmok_pop_202012,how='inner',on=['다중지역정보'])\n",
    "golmok_202012.drop('pop_202012_max',axis=1,inplace=True)\n",
    "golmok_202012.rename(columns={'val':'pop_202012_max'},inplace=True)\n",
    "golmok_202012.to_csv(path+'/골목상권_202012.csv',encoding='euc-kr',index=False)"
   ]
  },
  {
   "cell_type": "code",
   "execution_count": 38,
   "id": "1badee3b",
   "metadata": {},
   "outputs": [],
   "source": [
    "golmok_202106 = pd.read_csv(path+'/골목상권/golmok_202106_fin.csv',encoding='euc-kr')\n",
    "golmok_pop_202106 = pd.read_csv(path+'/거주인구_250/골목상권/골목상권_인구_250m_상권결합_202106.csv',encoding='euc-kr')\n",
    "golmok_pop_202106 = golmok_pop_202106.groupby(['다중지역정보'],as_index=False)['val'].sum()\n",
    "golmok_202106 = pd.merge(left=golmok_202106[golmok_202106.columns[:10]],right=golmok_pop_202106,how='inner',on=['다중지역정보'])\n",
    "golmok_202106.drop('pop_202106_max',axis=1,inplace=True)\n",
    "golmok_202106.rename(columns={'val':'pop_202106_max'},inplace=True)\n",
    "golmok_202106.to_csv(path+'/골목상권_202106.csv',encoding='euc-kr',index=False)"
   ]
  },
  {
   "cell_type": "code",
   "execution_count": 39,
   "id": "34e18260",
   "metadata": {},
   "outputs": [],
   "source": [
    "golmok_202112 = pd.read_csv(path+'/골목상권/golmok_202112_fin.csv',encoding='euc-kr')\n",
    "golmok_pop_202112 = pd.read_csv(path+'/거주인구_250/골목상권/골목상권_인구_250m_상권결합_202112.csv',encoding='euc-kr')\n",
    "golmok_pop_202112 = golmok_pop_202112.groupby(['다중지역정보'],as_index=False)['val'].sum()\n",
    "golmok_202112 = pd.merge(left=golmok_202112[golmok_202112.columns[:10]],right=golmok_pop_202112,how='inner',on=['다중지역정보'])\n",
    "golmok_202112.drop('pop_202112_max',axis=1,inplace=True)\n",
    "golmok_202112.rename(columns={'val':'pop_202112_max'},inplace=True)\n",
    "golmok_202112.to_csv(path+'/골목상권_202112.csv',encoding='euc-kr',index=False)"
   ]
  },
  {
   "cell_type": "markdown",
   "id": "5ee308ed",
   "metadata": {},
   "source": [
    "## 발달상권\n",
    "\n",
    "* 코드를 좀 짧게 간추린 버전\n",
    "* 참고"
   ]
  },
  {
   "cell_type": "code",
   "execution_count": 207,
   "id": "3f60f9f5",
   "metadata": {},
   "outputs": [],
   "source": [
    "baldal_pop_list = os.listdir(path+'/거주인구_250/발달상권')\n",
    "ym_list=[]\n",
    "for i in range(len(baldal_pop_list)):\n",
    "    globals()['pop_{}'.format(baldal_pop_list[i][-10:-4])] = \\\n",
    "    pd.read_csv(path+'/거주인구_250/발달상권/'+baldal_pop_list[i],encoding='euc-kr')\n",
    "    globals()['pop_{}'.format(baldal_pop_list[i][-10:-4])] = globals()['pop_{}'.format(baldal_pop_list[i][-10:-4])].groupby(['다중지역정보'],as_index=False)['val'].sum()\n",
    "    ym_list.append(baldal_pop_list[i][-10:-4])"
   ]
  },
  {
   "cell_type": "code",
   "execution_count": 208,
   "id": "28d7da69",
   "metadata": {},
   "outputs": [],
   "source": [
    "baldal_list = os.listdir(path+'/발달상권')\n",
    "for i in range(len(baldal_list)):\n",
    "    globals()['baldal_{}'.format(baldal_list[i][-14:-8])] = \\\n",
    "    pd.read_csv(path+'/발달상권/'+baldal_list[i],encoding='euc-kr')   "
   ]
  },
  {
   "cell_type": "code",
   "execution_count": 209,
   "id": "cf2d8bad",
   "metadata": {},
   "outputs": [],
   "source": [
    "name_list = [baldal_201706,baldal_201712,baldal_201806,baldal_201812,baldal_201906,baldal_201912,baldal_202006,baldal_202012,baldal_202106,baldal_202112]\n",
    "pop_list = [pop_201706,pop_201712,pop_201806,pop_201812,pop_201906,pop_201912,pop_202006,pop_202012,pop_202106,pop_202112]"
   ]
  },
  {
   "cell_type": "code",
   "execution_count": 211,
   "id": "ad76ed97",
   "metadata": {},
   "outputs": [],
   "source": [
    "for i in range(len(name_list)):\n",
    "    name_list[i]=pd.merge(left=name_list[i][name_list[i].columns[:10]],right=pop_list[i],how='inner',on='다중지역정보')\n",
    "    name_list[i].drop('pop_{}'.format(ym_list[i])+'_max',inplace=True ,axis=1)\n",
    "    name_list[i].rename(columns={'val':'pop_{}'.format(ym_list[i])+'_max'},inplace=True)\n",
    "    name_list[i].to_csv(path+'/발달상권_{}'.format(ym_list[i])+'.csv',encoding='euc-kr',index=False)"
   ]
  },
  {
   "cell_type": "code",
   "execution_count": null,
   "id": "d1205230",
   "metadata": {},
   "outputs": [],
   "source": []
  }
 ],
 "metadata": {
  "kernelspec": {
   "display_name": "Python 3 (ipykernel)",
   "language": "python",
   "name": "python3"
  },
  "language_info": {
   "codemirror_mode": {
    "name": "ipython",
    "version": 3
   },
   "file_extension": ".py",
   "mimetype": "text/x-python",
   "name": "python",
   "nbconvert_exporter": "python",
   "pygments_lexer": "ipython3",
   "version": "3.9.12"
  }
 },
 "nbformat": 4,
 "nbformat_minor": 5
}
