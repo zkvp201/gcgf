{
 "cells": [
  {
   "cell_type": "code",
   "execution_count": 6,
   "id": "f2cc3671",
   "metadata": {},
   "outputs": [],
   "source": [
    "import pandas as pd\n",
    "\n",
    "import os\n",
    "from sklearn.preprocessing import MinMaxScaler\n",
    "from factor_analyzer.factor_analyzer import calculate_kmo\n",
    "from factor_analyzer.factor_analyzer import FactorAnalyzer\n",
    "import warnings\n",
    "warnings.filterwarnings('ignore')\n",
    "\n",
    "csv_list=[]\n",
    "file =os.listdir()\n",
    "for i in file:\n",
    "    if ( i[-3:]=='csv'):\n",
    "        csv_list.append(i)"
   ]
  },
  {
   "cell_type": "code",
   "execution_count": 7,
   "id": "95f61cd9",
   "metadata": {},
   "outputs": [],
   "source": [
    "def make_fa_score(csv_list):\n",
    "    #파일을 하나씩 읽어오면서 진행\n",
    "    for i in csv_list:\n",
    "        print('###'+i+'파일실행')\n",
    "        df = pd.read_csv(i,encoding='euc-kr')\n",
    "        df_col=df[['상권코드','price_'+i[7:13]+'_max','strc_'+i[7:13]+'_max','pop_'+i[7:13]+'_max','상가수','area','유동인구 평균','매출금액 평균','폐업수']]\n",
    "\n",
    "        #스케일링\n",
    "        scaler = MinMaxScaler()\n",
    "        df_minmax_scaled = scaler.fit_transform(df_col.iloc[:,1:-1])\n",
    "        df_minmax_scaled = pd.DataFrame(df_minmax_scaled,columns=df_col.iloc[:,1:-1].columns)\n",
    "        #폐업수 cost 스케일링\n",
    "        cob = (df_col[['폐업수']].max()-df_col[['폐업수']]) / ( df_col[['폐업수']].max()-df_col[['폐업수']].min() )\n",
    "\n",
    "        #요인분석 데이터셋 생성\n",
    "        data_set = pd.concat([df_minmax_scaled,cob],axis=1)\n",
    "        \n",
    "        #kmo 테스트\n",
    "        kmo_all,kmo_model=calculate_kmo(data_set)\n",
    "\n",
    "        print('kmo test value:' ,kmo_model)\n",
    "        #요인분석\n",
    "        data_set.pop('area')\n",
    "        fa = FactorAnalyzer(n_factors=7,rotation=None)\n",
    "        fa.fit(data_set)\n",
    "\n",
    "        ev,v=fa.get_eigenvalues()\n",
    "        print('eignvalue 값:',ev)\n",
    "        \n",
    "        fa=FactorAnalyzer(n_factors=2,rotation='varimax')\n",
    "        fa.fit(data_set)\n",
    "        fa.get_factor_variance()\n",
    "        \n",
    "        #가중치 제작\n",
    "        pd.DataFrame(fa.loadings_,columns=['fa1','fa2'])\n",
    "\n",
    "        data_fa = pd.DataFrame(fa.loadings_,columns=['fa1','fa2'],index=data_set.columns)\n",
    "        data_fa = data_fa.apply(lambda x:x*x)\n",
    "        data_fa['sum'] = data_fa.sum(axis=1)\n",
    "        data_fa['가중치'] = data_fa['sum']/data_fa['sum'].sum()\n",
    "        \n",
    "        data_fa.to_csv('상권_가중치/'+i[7:13]+'_가중치.csv',encoding='euc-kr')\n",
    "        #스코어 제작\n",
    "        data_score = pd.DataFrame()\n",
    "        \n",
    "        for j in range(len(data_fa)):\n",
    "            data_score=pd.concat([data_score,(data_set.iloc[:,j] * data_fa.iloc[j,3])],axis=1)\n",
    "        data_score[i[9:13]+'_score']=data_score.sum(axis=1)\n",
    "        \n",
    "        #점수와 위치정보 결합\n",
    "        a = df[df.columns[:7]]\n",
    "        a = pd.concat([a,data_score],axis=1)\n",
    "        \n",
    "        #등급 산출\n",
    "        bins=[]\n",
    "        for k in reversed(range(1,11)):\n",
    "            #등급이라는 접미사를 붙이고 떼고\n",
    "            #bins.append(str(k)+'등급')\n",
    "            bins.append(k)\n",
    "        a[i[9:13]+'_절대등급'] = pd.cut(a[i[9:13]+'_score'],10,labels=bins)\n",
    "        a[i[9:13]+'_상대등급'] = pd.qcut(a[i[9:13]+'_score'],10,labels=bins)\n",
    "        \n",
    "        #저장\n",
    "        a.to_csv('상권_요인분석/FA_'+i,encoding='euc-kr',index=False)"
   ]
  },
  {
   "cell_type": "code",
   "execution_count": 8,
   "id": "4f7c8cbd",
   "metadata": {},
   "outputs": [
    {
     "name": "stdout",
     "output_type": "stream",
     "text": [
      "###market_201712_pre.csv파일실행\n",
      "kmo test value: 0.808905341056021\n",
      "eignvalue 값: [4.20775477 1.3927058  0.47127092 0.37432015 0.26698582 0.18799906\n",
      " 0.09896347]\n",
      "###market_201806_pre.csv파일실행\n",
      "kmo test value: 0.8081608105532341\n",
      "eignvalue 값: [4.21195264 1.38840581 0.47058177 0.37557237 0.26331448 0.19165003\n",
      " 0.09852291]\n",
      "###market_201812_pre.csv파일실행\n",
      "kmo test value: 0.8153702817526287\n",
      "eignvalue 값: [4.2203991  1.41672613 0.45961656 0.34708324 0.27007043 0.19083377\n",
      " 0.09527077]\n",
      "###market_201906_pre.csv파일실행\n",
      "kmo test value: 0.8191234199085127\n",
      "eignvalue 값: [4.14839285 1.45843733 0.4537704  0.33970876 0.30361736 0.20290868\n",
      " 0.09316462]\n",
      "###market_201912_pre.csv파일실행\n",
      "kmo test value: 0.8121794254202479\n",
      "eignvalue 값: [4.05921307 1.41586901 0.47388335 0.38669332 0.34044156 0.20943458\n",
      " 0.11446512]\n",
      "###market_202006_pre.csv파일실행\n",
      "kmo test value: 0.8015409031345728\n",
      "eignvalue 값: [4.00244907 1.37941413 0.500138   0.42593495 0.3608264  0.22261302\n",
      " 0.10862443]\n",
      "###market_202012_pre.csv파일실행\n",
      "kmo test value: 0.7848580443859066\n",
      "eignvalue 값: [3.80018346 1.33976375 0.59566788 0.47060862 0.42505231 0.23432347\n",
      " 0.13440051]\n",
      "###market_202106_pre.csv파일실행\n",
      "kmo test value: 0.7787929266824145\n",
      "eignvalue 값: [3.78422028 1.27514617 0.62182456 0.5062035  0.43004836 0.25100182\n",
      " 0.13155531]\n",
      "###market_202112_pre.csv파일실행\n",
      "kmo test value: 0.7701066642784815\n",
      "eignvalue 값: [3.7439394  1.25772249 0.6509057  0.51828477 0.45120494 0.26215413\n",
      " 0.11578857]\n",
      "###market_202206_pre.csv파일실행\n",
      "kmo test value: 0.7749636666907811\n",
      "eignvalue 값: [3.75171837 1.27386833 0.65301068 0.49696742 0.44626386 0.2719897\n",
      " 0.10618165]\n",
      "###상권(등급포함)_sum_fa_list.csv파일실행\n"
     ]
    },
    {
     "ename": "KeyError",
     "evalue": "\"['price_)_sum__max', 'strc_)_sum__max', 'pop_)_sum__max', '상가수', 'area', '유동인구 평균', '매출금액 평균', '폐업수'] not in index\"",
     "output_type": "error",
     "traceback": [
      "\u001b[1;31m---------------------------------------------------------------------------\u001b[0m",
      "\u001b[1;31mKeyError\u001b[0m                                  Traceback (most recent call last)",
      "Input \u001b[1;32mIn [8]\u001b[0m, in \u001b[0;36m<cell line: 1>\u001b[1;34m()\u001b[0m\n\u001b[1;32m----> 1\u001b[0m \u001b[43mmake_fa_score\u001b[49m\u001b[43m(\u001b[49m\u001b[43mcsv_list\u001b[49m\u001b[43m)\u001b[49m\n",
      "Input \u001b[1;32mIn [7]\u001b[0m, in \u001b[0;36mmake_fa_score\u001b[1;34m(csv_list)\u001b[0m\n\u001b[0;32m      4\u001b[0m \u001b[38;5;28mprint\u001b[39m(\u001b[38;5;124m'\u001b[39m\u001b[38;5;124m###\u001b[39m\u001b[38;5;124m'\u001b[39m\u001b[38;5;241m+\u001b[39mi\u001b[38;5;241m+\u001b[39m\u001b[38;5;124m'\u001b[39m\u001b[38;5;124m파일실행\u001b[39m\u001b[38;5;124m'\u001b[39m)\n\u001b[0;32m      5\u001b[0m df \u001b[38;5;241m=\u001b[39m pd\u001b[38;5;241m.\u001b[39mread_csv(i,encoding\u001b[38;5;241m=\u001b[39m\u001b[38;5;124m'\u001b[39m\u001b[38;5;124meuc-kr\u001b[39m\u001b[38;5;124m'\u001b[39m)\n\u001b[1;32m----> 6\u001b[0m df_col\u001b[38;5;241m=\u001b[39m\u001b[43mdf\u001b[49m\u001b[43m[\u001b[49m\u001b[43m[\u001b[49m\u001b[38;5;124;43m'\u001b[39;49m\u001b[38;5;124;43m상권코드\u001b[39;49m\u001b[38;5;124;43m'\u001b[39;49m\u001b[43m,\u001b[49m\u001b[38;5;124;43m'\u001b[39;49m\u001b[38;5;124;43mprice_\u001b[39;49m\u001b[38;5;124;43m'\u001b[39;49m\u001b[38;5;241;43m+\u001b[39;49m\u001b[43mi\u001b[49m\u001b[43m[\u001b[49m\u001b[38;5;241;43m7\u001b[39;49m\u001b[43m:\u001b[49m\u001b[38;5;241;43m13\u001b[39;49m\u001b[43m]\u001b[49m\u001b[38;5;241;43m+\u001b[39;49m\u001b[38;5;124;43m'\u001b[39;49m\u001b[38;5;124;43m_max\u001b[39;49m\u001b[38;5;124;43m'\u001b[39;49m\u001b[43m,\u001b[49m\u001b[38;5;124;43m'\u001b[39;49m\u001b[38;5;124;43mstrc_\u001b[39;49m\u001b[38;5;124;43m'\u001b[39;49m\u001b[38;5;241;43m+\u001b[39;49m\u001b[43mi\u001b[49m\u001b[43m[\u001b[49m\u001b[38;5;241;43m7\u001b[39;49m\u001b[43m:\u001b[49m\u001b[38;5;241;43m13\u001b[39;49m\u001b[43m]\u001b[49m\u001b[38;5;241;43m+\u001b[39;49m\u001b[38;5;124;43m'\u001b[39;49m\u001b[38;5;124;43m_max\u001b[39;49m\u001b[38;5;124;43m'\u001b[39;49m\u001b[43m,\u001b[49m\u001b[38;5;124;43m'\u001b[39;49m\u001b[38;5;124;43mpop_\u001b[39;49m\u001b[38;5;124;43m'\u001b[39;49m\u001b[38;5;241;43m+\u001b[39;49m\u001b[43mi\u001b[49m\u001b[43m[\u001b[49m\u001b[38;5;241;43m7\u001b[39;49m\u001b[43m:\u001b[49m\u001b[38;5;241;43m13\u001b[39;49m\u001b[43m]\u001b[49m\u001b[38;5;241;43m+\u001b[39;49m\u001b[38;5;124;43m'\u001b[39;49m\u001b[38;5;124;43m_max\u001b[39;49m\u001b[38;5;124;43m'\u001b[39;49m\u001b[43m,\u001b[49m\u001b[38;5;124;43m'\u001b[39;49m\u001b[38;5;124;43m상가수\u001b[39;49m\u001b[38;5;124;43m'\u001b[39;49m\u001b[43m,\u001b[49m\u001b[38;5;124;43m'\u001b[39;49m\u001b[38;5;124;43marea\u001b[39;49m\u001b[38;5;124;43m'\u001b[39;49m\u001b[43m,\u001b[49m\u001b[38;5;124;43m'\u001b[39;49m\u001b[38;5;124;43m유동인구 평균\u001b[39;49m\u001b[38;5;124;43m'\u001b[39;49m\u001b[43m,\u001b[49m\u001b[38;5;124;43m'\u001b[39;49m\u001b[38;5;124;43m매출금액 평균\u001b[39;49m\u001b[38;5;124;43m'\u001b[39;49m\u001b[43m,\u001b[49m\u001b[38;5;124;43m'\u001b[39;49m\u001b[38;5;124;43m폐업수\u001b[39;49m\u001b[38;5;124;43m'\u001b[39;49m\u001b[43m]\u001b[49m\u001b[43m]\u001b[49m\n\u001b[0;32m      8\u001b[0m \u001b[38;5;66;03m#스케일링\u001b[39;00m\n\u001b[0;32m      9\u001b[0m scaler \u001b[38;5;241m=\u001b[39m MinMaxScaler()\n",
      "File \u001b[1;32m~\\anaconda3\\lib\\site-packages\\pandas\\core\\frame.py:3511\u001b[0m, in \u001b[0;36mDataFrame.__getitem__\u001b[1;34m(self, key)\u001b[0m\n\u001b[0;32m   3509\u001b[0m     \u001b[38;5;28;01mif\u001b[39;00m is_iterator(key):\n\u001b[0;32m   3510\u001b[0m         key \u001b[38;5;241m=\u001b[39m \u001b[38;5;28mlist\u001b[39m(key)\n\u001b[1;32m-> 3511\u001b[0m     indexer \u001b[38;5;241m=\u001b[39m \u001b[38;5;28;43mself\u001b[39;49m\u001b[38;5;241;43m.\u001b[39;49m\u001b[43mcolumns\u001b[49m\u001b[38;5;241;43m.\u001b[39;49m\u001b[43m_get_indexer_strict\u001b[49m\u001b[43m(\u001b[49m\u001b[43mkey\u001b[49m\u001b[43m,\u001b[49m\u001b[43m \u001b[49m\u001b[38;5;124;43m\"\u001b[39;49m\u001b[38;5;124;43mcolumns\u001b[39;49m\u001b[38;5;124;43m\"\u001b[39;49m\u001b[43m)\u001b[49m[\u001b[38;5;241m1\u001b[39m]\n\u001b[0;32m   3513\u001b[0m \u001b[38;5;66;03m# take() does not accept boolean indexers\u001b[39;00m\n\u001b[0;32m   3514\u001b[0m \u001b[38;5;28;01mif\u001b[39;00m \u001b[38;5;28mgetattr\u001b[39m(indexer, \u001b[38;5;124m\"\u001b[39m\u001b[38;5;124mdtype\u001b[39m\u001b[38;5;124m\"\u001b[39m, \u001b[38;5;28;01mNone\u001b[39;00m) \u001b[38;5;241m==\u001b[39m \u001b[38;5;28mbool\u001b[39m:\n",
      "File \u001b[1;32m~\\anaconda3\\lib\\site-packages\\pandas\\core\\indexes\\base.py:5782\u001b[0m, in \u001b[0;36mIndex._get_indexer_strict\u001b[1;34m(self, key, axis_name)\u001b[0m\n\u001b[0;32m   5779\u001b[0m \u001b[38;5;28;01melse\u001b[39;00m:\n\u001b[0;32m   5780\u001b[0m     keyarr, indexer, new_indexer \u001b[38;5;241m=\u001b[39m \u001b[38;5;28mself\u001b[39m\u001b[38;5;241m.\u001b[39m_reindex_non_unique(keyarr)\n\u001b[1;32m-> 5782\u001b[0m \u001b[38;5;28;43mself\u001b[39;49m\u001b[38;5;241;43m.\u001b[39;49m\u001b[43m_raise_if_missing\u001b[49m\u001b[43m(\u001b[49m\u001b[43mkeyarr\u001b[49m\u001b[43m,\u001b[49m\u001b[43m \u001b[49m\u001b[43mindexer\u001b[49m\u001b[43m,\u001b[49m\u001b[43m \u001b[49m\u001b[43maxis_name\u001b[49m\u001b[43m)\u001b[49m\n\u001b[0;32m   5784\u001b[0m keyarr \u001b[38;5;241m=\u001b[39m \u001b[38;5;28mself\u001b[39m\u001b[38;5;241m.\u001b[39mtake(indexer)\n\u001b[0;32m   5785\u001b[0m \u001b[38;5;28;01mif\u001b[39;00m \u001b[38;5;28misinstance\u001b[39m(key, Index):\n\u001b[0;32m   5786\u001b[0m     \u001b[38;5;66;03m# GH 42790 - Preserve name from an Index\u001b[39;00m\n",
      "File \u001b[1;32m~\\anaconda3\\lib\\site-packages\\pandas\\core\\indexes\\base.py:5845\u001b[0m, in \u001b[0;36mIndex._raise_if_missing\u001b[1;34m(self, key, indexer, axis_name)\u001b[0m\n\u001b[0;32m   5842\u001b[0m     \u001b[38;5;28;01mraise\u001b[39;00m \u001b[38;5;167;01mKeyError\u001b[39;00m(\u001b[38;5;124mf\u001b[39m\u001b[38;5;124m\"\u001b[39m\u001b[38;5;124mNone of [\u001b[39m\u001b[38;5;132;01m{\u001b[39;00mkey\u001b[38;5;132;01m}\u001b[39;00m\u001b[38;5;124m] are in the [\u001b[39m\u001b[38;5;132;01m{\u001b[39;00maxis_name\u001b[38;5;132;01m}\u001b[39;00m\u001b[38;5;124m]\u001b[39m\u001b[38;5;124m\"\u001b[39m)\n\u001b[0;32m   5844\u001b[0m not_found \u001b[38;5;241m=\u001b[39m \u001b[38;5;28mlist\u001b[39m(ensure_index(key)[missing_mask\u001b[38;5;241m.\u001b[39mnonzero()[\u001b[38;5;241m0\u001b[39m]]\u001b[38;5;241m.\u001b[39munique())\n\u001b[1;32m-> 5845\u001b[0m \u001b[38;5;28;01mraise\u001b[39;00m \u001b[38;5;167;01mKeyError\u001b[39;00m(\u001b[38;5;124mf\u001b[39m\u001b[38;5;124m\"\u001b[39m\u001b[38;5;132;01m{\u001b[39;00mnot_found\u001b[38;5;132;01m}\u001b[39;00m\u001b[38;5;124m not in index\u001b[39m\u001b[38;5;124m\"\u001b[39m)\n",
      "\u001b[1;31mKeyError\u001b[0m: \"['price_)_sum__max', 'strc_)_sum__max', 'pop_)_sum__max', '상가수', 'area', '유동인구 평균', '매출금액 평균', '폐업수'] not in index\""
     ]
    }
   ],
   "source": [
    "make_fa_score(csv_list)"
   ]
  },
  {
   "cell_type": "markdown",
   "id": "1b414fa9",
   "metadata": {},
   "source": [
    "### 병합\n",
    "\n"
   ]
  },
  {
   "cell_type": "code",
   "execution_count": 18,
   "id": "667daee4",
   "metadata": {},
   "outputs": [],
   "source": [
    "fa_list = os.listdir('상권_요인분석/')\n",
    "\n",
    "sum_fa_list = pd.DataFrame()\n",
    "sum_fa_list= pd.read_csv('상권_요인분석/'+fa_list[0],encoding='euc-kr').iloc[:,:7]\n",
    "for i in fa_list:\n",
    "    df=pd.read_csv('상권_요인분석/'+i,encoding='euc-kr')\n",
    "    sum_fa_list = pd.concat([sum_fa_list,df[df.columns[-3]]],axis=1)\n",
    "    \n",
    "sum_fa_list.to_csv('상권_요인분석/sum_fa_list.csv',encoding='euc-kr',index=False)"
   ]
  },
  {
   "cell_type": "code",
   "execution_count": null,
   "id": "a28beb54",
   "metadata": {},
   "outputs": [],
   "source": [
    "#등급포함데이터 따로\n",
    "sum_fa_list = pd.DataFrame()\n",
    "sum_fa_list= pd.read_csv('상권_요인분석/'+fa_list[0],encoding='euc-kr').iloc[:,:7]\n",
    "for i in fa_list:\n",
    "    df=pd.read_csv('상권_요인분석/'+i,encoding='euc-kr')\n",
    "    sum_fa_list = pd.concat([sum_fa_list,df[df.columns[-3:]]],axis=1)\n",
    "    \n",
    "sum_fa_list.to_csv('상권(등급포함)_sum_fa_list.csv',encoding='euc-kr',index=False)"
   ]
  },
  {
   "cell_type": "markdown",
   "id": "cf83bd5f",
   "metadata": {},
   "source": [
    "# 한줄씩"
   ]
  },
  {
   "cell_type": "code",
   "execution_count": 7,
   "id": "090ea34b",
   "metadata": {},
   "outputs": [],
   "source": [
    "csv_list=[]\n",
    "file =os.listdir()\n",
    "for i in file:\n",
    "    if ( i[-3:]=='csv'):\n",
    "        csv_list.append(i)"
   ]
  },
  {
   "cell_type": "code",
   "execution_count": 8,
   "id": "6e42d45f",
   "metadata": {},
   "outputs": [],
   "source": [
    "df = pd.read_csv('market_201712_pre.csv',encoding='euc-kr')"
   ]
  },
  {
   "cell_type": "code",
   "execution_count": 9,
   "id": "dca2a5ae",
   "metadata": {},
   "outputs": [
    {
     "data": {
      "text/plain": [
       "['market_201712_pre.csv',\n",
       " 'market_201806_pre.csv',\n",
       " 'market_201812_pre.csv',\n",
       " 'market_201906_pre.csv',\n",
       " 'market_201912_pre.csv',\n",
       " 'market_202006_pre.csv',\n",
       " 'market_202012_pre.csv',\n",
       " 'market_202106_pre.csv',\n",
       " 'market_202112_pre.csv',\n",
       " 'market_202206_pre.csv']"
      ]
     },
     "execution_count": 9,
     "metadata": {},
     "output_type": "execute_result"
    }
   ],
   "source": [
    "csv_list"
   ]
  },
  {
   "cell_type": "code",
   "execution_count": 10,
   "id": "0f77a749",
   "metadata": {},
   "outputs": [
    {
     "data": {
      "text/html": [
       "<div>\n",
       "<style scoped>\n",
       "    .dataframe tbody tr th:only-of-type {\n",
       "        vertical-align: middle;\n",
       "    }\n",
       "\n",
       "    .dataframe tbody tr th {\n",
       "        vertical-align: top;\n",
       "    }\n",
       "\n",
       "    .dataframe thead th {\n",
       "        text-align: right;\n",
       "    }\n",
       "</style>\n",
       "<table border=\"1\" class=\"dataframe\">\n",
       "  <thead>\n",
       "    <tr style=\"text-align: right;\">\n",
       "      <th></th>\n",
       "      <th>상권명</th>\n",
       "      <th>다중지역정보</th>\n",
       "      <th>업종정보</th>\n",
       "      <th>위도</th>\n",
       "      <th>경도</th>\n",
       "      <th>wkt</th>\n",
       "      <th>상권코드</th>\n",
       "      <th>구분</th>\n",
       "      <th>price_201712_max</th>\n",
       "      <th>strc_201712_max</th>\n",
       "      <th>pop_201712_max</th>\n",
       "      <th>상가수</th>\n",
       "      <th>area</th>\n",
       "      <th>유동인구 평균</th>\n",
       "      <th>매출금액 평균</th>\n",
       "      <th>매출액_시점 개수</th>\n",
       "      <th>폐업수</th>\n",
       "      <th>폐업수_시점 개수</th>\n",
       "    </tr>\n",
       "  </thead>\n",
       "  <tbody>\n",
       "    <tr>\n",
       "      <th>0</th>\n",
       "      <td>성남은행초등학교</td>\n",
       "      <td>{\"type\":\"Polygon\",\"coordinates\":[[[127.1687262...</td>\n",
       "      <td>두발 미용업/일반 교과학원/치킨 전문점/한식 일반 음식점업/노래 연습장 운영업/기타...</td>\n",
       "      <td>37.460705</td>\n",
       "      <td>127.168758</td>\n",
       "      <td>POLYGON ((127.1687262760 37.4620601200, 127.16...</td>\n",
       "      <td>골목_1</td>\n",
       "      <td>골목상권</td>\n",
       "      <td>30659882.82</td>\n",
       "      <td>304.0</td>\n",
       "      <td>9494.0</td>\n",
       "      <td>144</td>\n",
       "      <td>74330.36627</td>\n",
       "      <td>546453.353333</td>\n",
       "      <td>2.496695e+09</td>\n",
       "      <td>6.0</td>\n",
       "      <td>10.0</td>\n",
       "      <td>6.0</td>\n",
       "    </tr>\n",
       "    <tr>\n",
       "      <th>1</th>\n",
       "      <td>가림로201번안길</td>\n",
       "      <td>{\"type\":\"Polygon\",\"coordinates\":[[[126.8617425...</td>\n",
       "      <td>전자상거래 소매업/기타 음ㆍ식료품 위주 종합 소매업/자동차 세차업/두발 미용업</td>\n",
       "      <td>37.475776</td>\n",
       "      <td>126.861436</td>\n",
       "      <td>POLYGON ((126.8617425380 37.4748298650, 126.86...</td>\n",
       "      <td>골목_2</td>\n",
       "      <td>골목상권</td>\n",
       "      <td>20246090.90</td>\n",
       "      <td>428.0</td>\n",
       "      <td>7898.0</td>\n",
       "      <td>14</td>\n",
       "      <td>44415.19650</td>\n",
       "      <td>103885.485000</td>\n",
       "      <td>9.930088e+07</td>\n",
       "      <td>6.0</td>\n",
       "      <td>1.0</td>\n",
       "      <td>6.0</td>\n",
       "    </tr>\n",
       "    <tr>\n",
       "      <th>2</th>\n",
       "      <td>내각1로73번안길</td>\n",
       "      <td>{\"type\":\"Polygon\",\"coordinates\":[[[127.1649527...</td>\n",
       "      <td>한식 일반 음식점업/두발 미용업/부동산 중개 및 대리업/한식 육류 요리 전문점/노래...</td>\n",
       "      <td>37.711797</td>\n",
       "      <td>127.161510</td>\n",
       "      <td>POLYGON ((127.1649527610 37.7043120880, 127.16...</td>\n",
       "      <td>골목_3</td>\n",
       "      <td>골목상권</td>\n",
       "      <td>13065354.89</td>\n",
       "      <td>312.0</td>\n",
       "      <td>4595.0</td>\n",
       "      <td>84</td>\n",
       "      <td>425896.39240</td>\n",
       "      <td>105892.018333</td>\n",
       "      <td>4.860243e+08</td>\n",
       "      <td>6.0</td>\n",
       "      <td>4.0</td>\n",
       "      <td>6.0</td>\n",
       "    </tr>\n",
       "    <tr>\n",
       "      <th>3</th>\n",
       "      <td>양주산성로</td>\n",
       "      <td>{\"type\":\"Polygon\",\"coordinates\":[[[126.9873577...</td>\n",
       "      <td>두발 미용업/일반 교과학원/화초 및 식물 소매업/통신기기 소매업/한식 육류 요리 전...</td>\n",
       "      <td>37.788623</td>\n",
       "      <td>126.987220</td>\n",
       "      <td>POLYGON ((126.9873577160 37.7908375740, 126.98...</td>\n",
       "      <td>골목_4</td>\n",
       "      <td>골목상권</td>\n",
       "      <td>7974797.47</td>\n",
       "      <td>30.0</td>\n",
       "      <td>384.0</td>\n",
       "      <td>28</td>\n",
       "      <td>162099.07560</td>\n",
       "      <td>131725.688333</td>\n",
       "      <td>1.316368e+08</td>\n",
       "      <td>6.0</td>\n",
       "      <td>5.0</td>\n",
       "      <td>6.0</td>\n",
       "    </tr>\n",
       "    <tr>\n",
       "      <th>4</th>\n",
       "      <td>도일로135번길</td>\n",
       "      <td>{\"type\":\"Polygon\",\"coordinates\":[[[126.7835814...</td>\n",
       "      <td>두발 미용업/치킨 전문점/체인화 편의점/한식 일반 음식점업/기타 음ㆍ식료품 위주 종...</td>\n",
       "      <td>37.343110</td>\n",
       "      <td>126.783057</td>\n",
       "      <td>POLYGON ((126.7835814060 37.3430218760, 126.78...</td>\n",
       "      <td>골목_5</td>\n",
       "      <td>골목상권</td>\n",
       "      <td>10866265.15</td>\n",
       "      <td>154.0</td>\n",
       "      <td>8596.0</td>\n",
       "      <td>31</td>\n",
       "      <td>41766.72043</td>\n",
       "      <td>102627.711667</td>\n",
       "      <td>2.952011e+08</td>\n",
       "      <td>6.0</td>\n",
       "      <td>4.0</td>\n",
       "      <td>6.0</td>\n",
       "    </tr>\n",
       "    <tr>\n",
       "      <th>...</th>\n",
       "      <td>...</td>\n",
       "      <td>...</td>\n",
       "      <td>...</td>\n",
       "      <td>...</td>\n",
       "      <td>...</td>\n",
       "      <td>...</td>\n",
       "      <td>...</td>\n",
       "      <td>...</td>\n",
       "      <td>...</td>\n",
       "      <td>...</td>\n",
       "      <td>...</td>\n",
       "      <td>...</td>\n",
       "      <td>...</td>\n",
       "      <td>...</td>\n",
       "      <td>...</td>\n",
       "      <td>...</td>\n",
       "      <td>...</td>\n",
       "      <td>...</td>\n",
       "    </tr>\n",
       "    <tr>\n",
       "      <th>1672</th>\n",
       "      <td>광명사거리역_4번출구</td>\n",
       "      <td>{\"type\":\"Polygon\",\"coordinates\":[[[126.8536079...</td>\n",
       "      <td>기타 주점업/한식 일반 음식점업/한식 육류 요리 전문점/노래 연습장 운영업/커피 전...</td>\n",
       "      <td>37.479619</td>\n",
       "      <td>126.852135</td>\n",
       "      <td>POLYGON ((126.8536079430 37.4782792810, 126.85...</td>\n",
       "      <td>발달_853</td>\n",
       "      <td>발달상권</td>\n",
       "      <td>28966019.23</td>\n",
       "      <td>277.0</td>\n",
       "      <td>7539.0</td>\n",
       "      <td>195</td>\n",
       "      <td>28388.93889</td>\n",
       "      <td>301012.606667</td>\n",
       "      <td>5.294551e+09</td>\n",
       "      <td>6.0</td>\n",
       "      <td>33.0</td>\n",
       "      <td>6.0</td>\n",
       "    </tr>\n",
       "    <tr>\n",
       "      <th>1673</th>\n",
       "      <td>성복2로</td>\n",
       "      <td>{\"type\":\"Polygon\",\"coordinates\":[[[127.0773354...</td>\n",
       "      <td>일반의원/두발 미용업/한식 일반 음식점업/의약품 및 의료용품 소매업/기타 주점업/셔...</td>\n",
       "      <td>37.313360</td>\n",
       "      <td>127.078773</td>\n",
       "      <td>POLYGON ((127.0773354300 37.3137514240, 127.07...</td>\n",
       "      <td>발달_854</td>\n",
       "      <td>발달상권</td>\n",
       "      <td>13530577.24</td>\n",
       "      <td>19.0</td>\n",
       "      <td>1427.0</td>\n",
       "      <td>116</td>\n",
       "      <td>14307.02069</td>\n",
       "      <td>44489.735000</td>\n",
       "      <td>3.557348e+09</td>\n",
       "      <td>6.0</td>\n",
       "      <td>7.0</td>\n",
       "      <td>6.0</td>\n",
       "    </tr>\n",
       "    <tr>\n",
       "      <th>1674</th>\n",
       "      <td>광교중앙로</td>\n",
       "      <td>{\"type\":\"Polygon\",\"coordinates\":[[[127.0687753...</td>\n",
       "      <td>두발 미용업/일반 교과학원/피자  햄버거  샌드위치 및 유사 음식점업/한식 육류 요...</td>\n",
       "      <td>37.296904</td>\n",
       "      <td>127.068295</td>\n",
       "      <td>POLYGON ((127.0687753130 37.2965215900, 127.06...</td>\n",
       "      <td>발달_855</td>\n",
       "      <td>발달상권</td>\n",
       "      <td>22635650.08</td>\n",
       "      <td>19.0</td>\n",
       "      <td>7092.0</td>\n",
       "      <td>127</td>\n",
       "      <td>36489.58697</td>\n",
       "      <td>397351.723333</td>\n",
       "      <td>4.158718e+09</td>\n",
       "      <td>6.0</td>\n",
       "      <td>17.0</td>\n",
       "      <td>6.0</td>\n",
       "    </tr>\n",
       "    <tr>\n",
       "      <th>1675</th>\n",
       "      <td>서수원버스터미널</td>\n",
       "      <td>{\"type\":\"Polygon\",\"coordinates\":[[[126.9719643...</td>\n",
       "      <td>기타 의복 소매업/화장품  비누 및 방향제 소매업/체인화 편의점/신발 소매업/속옷 ...</td>\n",
       "      <td>37.282524</td>\n",
       "      <td>126.970408</td>\n",
       "      <td>POLYGON ((126.9719643130 37.2822193820, 126.97...</td>\n",
       "      <td>발달_856</td>\n",
       "      <td>발달상권</td>\n",
       "      <td>21272517.29</td>\n",
       "      <td>76.0</td>\n",
       "      <td>1944.0</td>\n",
       "      <td>67</td>\n",
       "      <td>41186.95950</td>\n",
       "      <td>185789.433333</td>\n",
       "      <td>1.309810e+10</td>\n",
       "      <td>6.0</td>\n",
       "      <td>2.0</td>\n",
       "      <td>6.0</td>\n",
       "    </tr>\n",
       "    <tr>\n",
       "      <th>1676</th>\n",
       "      <td>안산천동로4길</td>\n",
       "      <td>{\"type\":\"Polygon\",\"coordinates\":[[[126.8517735...</td>\n",
       "      <td>한식 일반 음식점업/두발 미용업/기타 주점업/태권도 및 무술 교육기관/부동산 중개 ...</td>\n",
       "      <td>37.333925</td>\n",
       "      <td>126.852318</td>\n",
       "      <td>POLYGON ((126.8517735760 37.3333533300, 126.85...</td>\n",
       "      <td>발달_857</td>\n",
       "      <td>발달상권</td>\n",
       "      <td>8322604.37</td>\n",
       "      <td>135.0</td>\n",
       "      <td>3510.0</td>\n",
       "      <td>22</td>\n",
       "      <td>17003.92698</td>\n",
       "      <td>91749.525000</td>\n",
       "      <td>8.660129e+08</td>\n",
       "      <td>6.0</td>\n",
       "      <td>2.0</td>\n",
       "      <td>6.0</td>\n",
       "    </tr>\n",
       "  </tbody>\n",
       "</table>\n",
       "<p>1677 rows × 18 columns</p>\n",
       "</div>"
      ],
      "text/plain": [
       "              상권명                                             다중지역정보  \\\n",
       "0        성남은행초등학교  {\"type\":\"Polygon\",\"coordinates\":[[[127.1687262...   \n",
       "1       가림로201번안길  {\"type\":\"Polygon\",\"coordinates\":[[[126.8617425...   \n",
       "2       내각1로73번안길  {\"type\":\"Polygon\",\"coordinates\":[[[127.1649527...   \n",
       "3           양주산성로  {\"type\":\"Polygon\",\"coordinates\":[[[126.9873577...   \n",
       "4        도일로135번길  {\"type\":\"Polygon\",\"coordinates\":[[[126.7835814...   \n",
       "...           ...                                                ...   \n",
       "1672  광명사거리역_4번출구  {\"type\":\"Polygon\",\"coordinates\":[[[126.8536079...   \n",
       "1673         성복2로  {\"type\":\"Polygon\",\"coordinates\":[[[127.0773354...   \n",
       "1674        광교중앙로  {\"type\":\"Polygon\",\"coordinates\":[[[127.0687753...   \n",
       "1675     서수원버스터미널  {\"type\":\"Polygon\",\"coordinates\":[[[126.9719643...   \n",
       "1676      안산천동로4길  {\"type\":\"Polygon\",\"coordinates\":[[[126.8517735...   \n",
       "\n",
       "                                                   업종정보         위도  \\\n",
       "0     두발 미용업/일반 교과학원/치킨 전문점/한식 일반 음식점업/노래 연습장 운영업/기타...  37.460705   \n",
       "1           전자상거래 소매업/기타 음ㆍ식료품 위주 종합 소매업/자동차 세차업/두발 미용업  37.475776   \n",
       "2     한식 일반 음식점업/두발 미용업/부동산 중개 및 대리업/한식 육류 요리 전문점/노래...  37.711797   \n",
       "3     두발 미용업/일반 교과학원/화초 및 식물 소매업/통신기기 소매업/한식 육류 요리 전...  37.788623   \n",
       "4     두발 미용업/치킨 전문점/체인화 편의점/한식 일반 음식점업/기타 음ㆍ식료품 위주 종...  37.343110   \n",
       "...                                                 ...        ...   \n",
       "1672  기타 주점업/한식 일반 음식점업/한식 육류 요리 전문점/노래 연습장 운영업/커피 전...  37.479619   \n",
       "1673  일반의원/두발 미용업/한식 일반 음식점업/의약품 및 의료용품 소매업/기타 주점업/셔...  37.313360   \n",
       "1674  두발 미용업/일반 교과학원/피자  햄버거  샌드위치 및 유사 음식점업/한식 육류 요...  37.296904   \n",
       "1675  기타 의복 소매업/화장품  비누 및 방향제 소매업/체인화 편의점/신발 소매업/속옷 ...  37.282524   \n",
       "1676  한식 일반 음식점업/두발 미용업/기타 주점업/태권도 및 무술 교육기관/부동산 중개 ...  37.333925   \n",
       "\n",
       "              경도                                                wkt    상권코드  \\\n",
       "0     127.168758  POLYGON ((127.1687262760 37.4620601200, 127.16...    골목_1   \n",
       "1     126.861436  POLYGON ((126.8617425380 37.4748298650, 126.86...    골목_2   \n",
       "2     127.161510  POLYGON ((127.1649527610 37.7043120880, 127.16...    골목_3   \n",
       "3     126.987220  POLYGON ((126.9873577160 37.7908375740, 126.98...    골목_4   \n",
       "4     126.783057  POLYGON ((126.7835814060 37.3430218760, 126.78...    골목_5   \n",
       "...          ...                                                ...     ...   \n",
       "1672  126.852135  POLYGON ((126.8536079430 37.4782792810, 126.85...  발달_853   \n",
       "1673  127.078773  POLYGON ((127.0773354300 37.3137514240, 127.07...  발달_854   \n",
       "1674  127.068295  POLYGON ((127.0687753130 37.2965215900, 127.06...  발달_855   \n",
       "1675  126.970408  POLYGON ((126.9719643130 37.2822193820, 126.97...  발달_856   \n",
       "1676  126.852318  POLYGON ((126.8517735760 37.3333533300, 126.85...  발달_857   \n",
       "\n",
       "        구분  price_201712_max  strc_201712_max  pop_201712_max  상가수  \\\n",
       "0     골목상권       30659882.82            304.0          9494.0  144   \n",
       "1     골목상권       20246090.90            428.0          7898.0   14   \n",
       "2     골목상권       13065354.89            312.0          4595.0   84   \n",
       "3     골목상권        7974797.47             30.0           384.0   28   \n",
       "4     골목상권       10866265.15            154.0          8596.0   31   \n",
       "...    ...               ...              ...             ...  ...   \n",
       "1672  발달상권       28966019.23            277.0          7539.0  195   \n",
       "1673  발달상권       13530577.24             19.0          1427.0  116   \n",
       "1674  발달상권       22635650.08             19.0          7092.0  127   \n",
       "1675  발달상권       21272517.29             76.0          1944.0   67   \n",
       "1676  발달상권        8322604.37            135.0          3510.0   22   \n",
       "\n",
       "              area        유동인구 평균       매출금액 평균  매출액_시점 개수   폐업수  폐업수_시점 개수  \n",
       "0      74330.36627  546453.353333  2.496695e+09        6.0  10.0        6.0  \n",
       "1      44415.19650  103885.485000  9.930088e+07        6.0   1.0        6.0  \n",
       "2     425896.39240  105892.018333  4.860243e+08        6.0   4.0        6.0  \n",
       "3     162099.07560  131725.688333  1.316368e+08        6.0   5.0        6.0  \n",
       "4      41766.72043  102627.711667  2.952011e+08        6.0   4.0        6.0  \n",
       "...            ...            ...           ...        ...   ...        ...  \n",
       "1672   28388.93889  301012.606667  5.294551e+09        6.0  33.0        6.0  \n",
       "1673   14307.02069   44489.735000  3.557348e+09        6.0   7.0        6.0  \n",
       "1674   36489.58697  397351.723333  4.158718e+09        6.0  17.0        6.0  \n",
       "1675   41186.95950  185789.433333  1.309810e+10        6.0   2.0        6.0  \n",
       "1676   17003.92698   91749.525000  8.660129e+08        6.0   2.0        6.0  \n",
       "\n",
       "[1677 rows x 18 columns]"
      ]
     },
     "execution_count": 10,
     "metadata": {},
     "output_type": "execute_result"
    }
   ],
   "source": [
    "df"
   ]
  },
  {
   "cell_type": "code",
   "execution_count": 11,
   "id": "066a1c10",
   "metadata": {},
   "outputs": [],
   "source": [
    "df_col=df[['상권코드','price_'+csv_list[0][7:13]+'_max','strc_'+csv_list[0][7:13]+'_max','pop_'+csv_list[0][7:13]+'_max','상가수','유동인구 평균','매출금액 평균','폐업수']]"
   ]
  },
  {
   "cell_type": "code",
   "execution_count": null,
   "id": "2b58f70f",
   "metadata": {},
   "outputs": [],
   "source": []
  },
  {
   "cell_type": "code",
   "execution_count": 12,
   "id": "a71f98b9",
   "metadata": {},
   "outputs": [],
   "source": [
    "import matplotlib.pyplot as plt\n",
    "\n",
    "#ignore warnings\n",
    "import warnings\n",
    "warnings.filterwarnings('ignore')\n",
    "\n",
    "%matplotlib inline\n",
    "\n",
    "from matplotlib import font_manager, rc\n",
    "font_path = \"C:/Windows/Fonts/HANDotum.ttf\"\n",
    "font = font_manager.FontProperties(fname=font_path).get_name()\n",
    "rc('font', family=font)"
   ]
  },
  {
   "cell_type": "code",
   "execution_count": 13,
   "id": "54e73d76",
   "metadata": {},
   "outputs": [],
   "source": [
    "from sklearn.preprocessing import MinMaxScaler\n",
    "\n",
    "scaler = MinMaxScaler()\n",
    "\n",
    "df_minmax_scaled = scaler.fit_transform(df_col.iloc[:,1:-1])"
   ]
  },
  {
   "cell_type": "code",
   "execution_count": 14,
   "id": "0e7866d8",
   "metadata": {},
   "outputs": [],
   "source": [
    "df_minmax_scaled = pd.DataFrame(df_minmax_scaled,columns=df_col.iloc[:,1:-1].columns)"
   ]
  },
  {
   "cell_type": "code",
   "execution_count": 15,
   "id": "2859bf7d",
   "metadata": {},
   "outputs": [],
   "source": [
    "#cob = close of business\n",
    "cob = (df_col[['폐업수']].max()-df_col[['폐업수']]) / ( df_col[['폐업수']].max()-df_col[['폐업수']].min() )\n"
   ]
  },
  {
   "cell_type": "code",
   "execution_count": 16,
   "id": "9d3274cf",
   "metadata": {},
   "outputs": [],
   "source": [
    "data_set = pd.concat([df_minmax_scaled,cob],axis=1)"
   ]
  },
  {
   "cell_type": "code",
   "execution_count": 17,
   "id": "44a54eda",
   "metadata": {},
   "outputs": [
    {
     "data": {
      "image/png": "[encoded data removed]",
      "text/plain": [
       "<Figure size 1440x720 with 2 Axes>"
      ]
     },
     "metadata": {
      "needs_background": "light"
     },
     "output_type": "display_data"
    }
   ],
   "source": [
    "import numpy as np\n",
    "import seaborn as sns\n",
    "data_graph = data_set.corr()\n",
    "# 그림 사이즈 지정\n",
    "fig, ax = plt.subplots( figsize=(20,10) )\n",
    "# 삼각형 마스크를 만든다(위 쪽 삼각형에 True, 아래 삼각형에 False)\n",
    "mask = np.zeros_like(data_graph, dtype=np.bool)\n",
    "mask[np.triu_indices_from(mask)] = True\n",
    "# 히트맵을 그린다\n",
    "sns.heatmap(data_graph, \n",
    "            cmap = 'RdYlBu_r', \n",
    "            annot = True,   # 실제 값을 표시한다\n",
    "            mask=mask,      # 표시하지 않을 마스크 부분을 지정한다\n",
    "            linewidths=.5,  # 경계면 실선으로 구분하기\n",
    "            cbar_kws={\"shrink\": .5},# 컬러바 크기 절반으로 줄이기\n",
    "            vmax = 1   # 컬러바 범위 -1 ~ 1\n",
    "           )  \n",
    "plt.show()"
   ]
  },
  {
   "cell_type": "code",
   "execution_count": 18,
   "id": "2945968e",
   "metadata": {},
   "outputs": [
    {
     "data": {
      "text/html": [
       "<div>\n",
       "<style scoped>\n",
       "    .dataframe tbody tr th:only-of-type {\n",
       "        vertical-align: middle;\n",
       "    }\n",
       "\n",
       "    .dataframe tbody tr th {\n",
       "        vertical-align: top;\n",
       "    }\n",
       "\n",
       "    .dataframe thead th {\n",
       "        text-align: right;\n",
       "    }\n",
       "</style>\n",
       "<table border=\"1\" class=\"dataframe\">\n",
       "  <thead>\n",
       "    <tr style=\"text-align: right;\">\n",
       "      <th></th>\n",
       "      <th>price_201712_max</th>\n",
       "      <th>strc_201712_max</th>\n",
       "      <th>pop_201712_max</th>\n",
       "      <th>상가수</th>\n",
       "      <th>유동인구 평균</th>\n",
       "      <th>매출금액 평균</th>\n",
       "      <th>폐업수</th>\n",
       "    </tr>\n",
       "  </thead>\n",
       "  <tbody>\n",
       "    <tr>\n",
       "      <th>0</th>\n",
       "      <td>0.164251</td>\n",
       "      <td>0.179245</td>\n",
       "      <td>0.308277</td>\n",
       "      <td>0.075630</td>\n",
       "      <td>0.150326</td>\n",
       "      <td>0.022164</td>\n",
       "      <td>0.925373</td>\n",
       "    </tr>\n",
       "    <tr>\n",
       "      <th>1</th>\n",
       "      <td>0.108462</td>\n",
       "      <td>0.252358</td>\n",
       "      <td>0.256454</td>\n",
       "      <td>0.007353</td>\n",
       "      <td>0.028348</td>\n",
       "      <td>0.000877</td>\n",
       "      <td>0.992537</td>\n",
       "    </tr>\n",
       "  </tbody>\n",
       "</table>\n",
       "</div>"
      ],
      "text/plain": [
       "   price_201712_max  strc_201712_max  pop_201712_max       상가수   유동인구 평균  \\\n",
       "0          0.164251         0.179245        0.308277  0.075630  0.150326   \n",
       "1          0.108462         0.252358        0.256454  0.007353  0.028348   \n",
       "\n",
       "    매출금액 평균       폐업수  \n",
       "0  0.022164  0.925373  \n",
       "1  0.000877  0.992537  "
      ]
     },
     "execution_count": 18,
     "metadata": {},
     "output_type": "execute_result"
    }
   ],
   "source": [
    "data_set.head(2)"
   ]
  },
  {
   "cell_type": "markdown",
   "id": "5d918c45",
   "metadata": {},
   "source": [
    "### 요인분석"
   ]
  },
  {
   "cell_type": "code",
   "execution_count": 19,
   "id": "62fe8f03",
   "metadata": {},
   "outputs": [],
   "source": [
    "from factor_analyzer.factor_analyzer import FactorAnalyzer"
   ]
  },
  {
   "cell_type": "code",
   "execution_count": 22,
   "id": "24879626",
   "metadata": {},
   "outputs": [],
   "source": [
    "# area 변수의 communality가 낮기 때문에 제거하고 분석해 볼 필요가 있음\n",
    "# 분석 결과 더 좋은 퍼포먼스를 보이는 것으로 확인, area 변수 제거 고려 필요.\n",
    "\n",
    "#data_set.pop('area')"
   ]
  },
  {
   "cell_type": "code",
   "execution_count": 23,
   "id": "f7ae7bf9",
   "metadata": {},
   "outputs": [
    {
     "data": {
      "text/plain": [
       "array([4.20775477, 1.3927058 , 0.47127092, 0.37432015, 0.26698582,\n",
       "       0.18799906, 0.09896347])"
      ]
     },
     "execution_count": 23,
     "metadata": {},
     "output_type": "execute_result"
    }
   ],
   "source": [
    "fa = FactorAnalyzer(n_factors=7,rotation=None)\n",
    "fa.fit(data_set)\n",
    "\n",
    "\n",
    "ev,v=fa.get_eigenvalues()\n",
    "ev\n",
    "#기준 eigenvalue > 1"
   ]
  },
  {
   "cell_type": "code",
   "execution_count": 24,
   "id": "2fc2f2db",
   "metadata": {},
   "outputs": [
    {
     "data": {
      "image/png": "[encoded data removed]",
      "text/plain": [
       "<Figure size 432x288 with 1 Axes>"
      ]
     },
     "metadata": {
      "needs_background": "light"
     },
     "output_type": "display_data"
    }
   ],
   "source": [
    "plt.scatter(range(1,data_set.shape[1]+1),ev)\n",
    "plt.plot(range(1,data_set.shape[1]+1),ev)\n",
    "plt.title('scree Plot')\n",
    "plt.xlabel('Factors')\n",
    "plt.ylabel('Eigenvalue')\n",
    "plt.grid()\n",
    "plt.show()\n",
    "\n",
    "#scree plot 상으로는 4개가 이상적으로 보이지만,  보조적인 수단이라는 점, 가중치 산출을 위한 요인분석이라는 점을 들어 2개 요인으로 축소\n",
    "#요인분석을 개별적으로 추가 활용하기 위한 목적, (클러스터링 등) 이라면 4개 요인으로 늘려 보는 방향도 권장."
   ]
  },
  {
   "cell_type": "code",
   "execution_count": 25,
   "id": "d6185953",
   "metadata": {},
   "outputs": [
    {
     "data": {
      "text/plain": [
       "0.8188824008629242"
      ]
     },
     "execution_count": 25,
     "metadata": {},
     "output_type": "execute_result"
    }
   ],
   "source": [
    "from factor_analyzer.factor_analyzer import calculate_kmo\n",
    "\n",
    "kmo_all,kmo_model=calculate_kmo(data_set)\n",
    "\n",
    "kmo_model\n",
    "\n",
    "#수치 매우 좋음"
   ]
  },
  {
   "cell_type": "code",
   "execution_count": 26,
   "id": "fa90fc5f",
   "metadata": {},
   "outputs": [
    {
     "data": {
      "text/plain": [
       "(array([3.3828154, 1.5964802]),\n",
       " array([0.48325934, 0.2280686 ]),\n",
       " array([0.48325934, 0.71132794]))"
      ]
     },
     "execution_count": 26,
     "metadata": {},
     "output_type": "execute_result"
    }
   ],
   "source": [
    "from factor_analyzer import FactorAnalyzer\n",
    "fa=FactorAnalyzer(n_factors=2,rotation='varimax')\n",
    "fa.fit(data_set)\n",
    "fa.get_factor_variance()\n"
   ]
  },
  {
   "cell_type": "code",
   "execution_count": 27,
   "id": "6811f494",
   "metadata": {},
   "outputs": [
    {
     "data": {
      "text/html": [
       "<div>\n",
       "<style scoped>\n",
       "    .dataframe tbody tr th:only-of-type {\n",
       "        vertical-align: middle;\n",
       "    }\n",
       "\n",
       "    .dataframe tbody tr th {\n",
       "        vertical-align: top;\n",
       "    }\n",
       "\n",
       "    .dataframe thead th {\n",
       "        text-align: right;\n",
       "    }\n",
       "</style>\n",
       "<table border=\"1\" class=\"dataframe\">\n",
       "  <thead>\n",
       "    <tr style=\"text-align: right;\">\n",
       "      <th></th>\n",
       "      <th>fa1</th>\n",
       "      <th>fa2</th>\n",
       "    </tr>\n",
       "  </thead>\n",
       "  <tbody>\n",
       "    <tr>\n",
       "      <th>0</th>\n",
       "      <td>0.740463</td>\n",
       "      <td>0.491057</td>\n",
       "    </tr>\n",
       "    <tr>\n",
       "      <th>1</th>\n",
       "      <td>0.134083</td>\n",
       "      <td>0.770162</td>\n",
       "    </tr>\n",
       "    <tr>\n",
       "      <th>2</th>\n",
       "      <td>0.143797</td>\n",
       "      <td>0.717777</td>\n",
       "    </tr>\n",
       "    <tr>\n",
       "      <th>3</th>\n",
       "      <td>0.914825</td>\n",
       "      <td>0.249591</td>\n",
       "    </tr>\n",
       "    <tr>\n",
       "      <th>4</th>\n",
       "      <td>0.763551</td>\n",
       "      <td>0.351137</td>\n",
       "    </tr>\n",
       "    <tr>\n",
       "      <th>5</th>\n",
       "      <td>0.871978</td>\n",
       "      <td>-0.092554</td>\n",
       "    </tr>\n",
       "    <tr>\n",
       "      <th>6</th>\n",
       "      <td>-0.784611</td>\n",
       "      <td>-0.229849</td>\n",
       "    </tr>\n",
       "  </tbody>\n",
       "</table>\n",
       "</div>"
      ],
      "text/plain": [
       "        fa1       fa2\n",
       "0  0.740463  0.491057\n",
       "1  0.134083  0.770162\n",
       "2  0.143797  0.717777\n",
       "3  0.914825  0.249591\n",
       "4  0.763551  0.351137\n",
       "5  0.871978 -0.092554\n",
       "6 -0.784611 -0.229849"
      ]
     },
     "execution_count": 27,
     "metadata": {},
     "output_type": "execute_result"
    }
   ],
   "source": [
    "pd.DataFrame(fa.loadings_,columns=['fa1','fa2'])"
   ]
  },
  {
   "cell_type": "code",
   "execution_count": 28,
   "id": "65003ad8",
   "metadata": {},
   "outputs": [],
   "source": [
    "data_fa = pd.DataFrame(fa.loadings_,columns=['fa1','fa2'],index=data_set.columns)\n",
    "\n",
    "#communality와 eigenvalue 계산을 위한 컬럼 생성\n",
    "data_fa = data_fa.apply(lambda x:x*x)\n",
    "data_fa['sum'] = data_fa.sum(axis=1)\n",
    "data_fa['가중치'] = data_fa['sum']/data_fa['sum'].sum()"
   ]
  },
  {
   "cell_type": "code",
   "execution_count": 29,
   "id": "7bb1480c",
   "metadata": {},
   "outputs": [
    {
     "data": {
      "text/html": [
       "<div>\n",
       "<style scoped>\n",
       "    .dataframe tbody tr th:only-of-type {\n",
       "        vertical-align: middle;\n",
       "    }\n",
       "\n",
       "    .dataframe tbody tr th {\n",
       "        vertical-align: top;\n",
       "    }\n",
       "\n",
       "    .dataframe thead th {\n",
       "        text-align: right;\n",
       "    }\n",
       "</style>\n",
       "<table border=\"1\" class=\"dataframe\">\n",
       "  <thead>\n",
       "    <tr style=\"text-align: right;\">\n",
       "      <th></th>\n",
       "      <th>fa1</th>\n",
       "      <th>fa2</th>\n",
       "      <th>sum</th>\n",
       "      <th>가중치</th>\n",
       "    </tr>\n",
       "  </thead>\n",
       "  <tbody>\n",
       "    <tr>\n",
       "      <th>price_201712_max</th>\n",
       "      <td>0.548286</td>\n",
       "      <td>0.241137</td>\n",
       "      <td>0.789422</td>\n",
       "      <td>0.158541</td>\n",
       "    </tr>\n",
       "    <tr>\n",
       "      <th>strc_201712_max</th>\n",
       "      <td>0.017978</td>\n",
       "      <td>0.593149</td>\n",
       "      <td>0.611127</td>\n",
       "      <td>0.122734</td>\n",
       "    </tr>\n",
       "    <tr>\n",
       "      <th>pop_201712_max</th>\n",
       "      <td>0.020678</td>\n",
       "      <td>0.515204</td>\n",
       "      <td>0.535882</td>\n",
       "      <td>0.107622</td>\n",
       "    </tr>\n",
       "    <tr>\n",
       "      <th>상가수</th>\n",
       "      <td>0.836905</td>\n",
       "      <td>0.062296</td>\n",
       "      <td>0.899201</td>\n",
       "      <td>0.180588</td>\n",
       "    </tr>\n",
       "    <tr>\n",
       "      <th>유동인구 평균</th>\n",
       "      <td>0.583010</td>\n",
       "      <td>0.123297</td>\n",
       "      <td>0.706307</td>\n",
       "      <td>0.141849</td>\n",
       "    </tr>\n",
       "    <tr>\n",
       "      <th>매출금액 평균</th>\n",
       "      <td>0.760346</td>\n",
       "      <td>0.008566</td>\n",
       "      <td>0.768912</td>\n",
       "      <td>0.154422</td>\n",
       "    </tr>\n",
       "    <tr>\n",
       "      <th>폐업수</th>\n",
       "      <td>0.615614</td>\n",
       "      <td>0.052831</td>\n",
       "      <td>0.668444</td>\n",
       "      <td>0.134245</td>\n",
       "    </tr>\n",
       "  </tbody>\n",
       "</table>\n",
       "</div>"
      ],
      "text/plain": [
       "                       fa1       fa2       sum       가중치\n",
       "price_201712_max  0.548286  0.241137  0.789422  0.158541\n",
       "strc_201712_max   0.017978  0.593149  0.611127  0.122734\n",
       "pop_201712_max    0.020678  0.515204  0.535882  0.107622\n",
       "상가수               0.836905  0.062296  0.899201  0.180588\n",
       "유동인구 평균           0.583010  0.123297  0.706307  0.141849\n",
       "매출금액 평균           0.760346  0.008566  0.768912  0.154422\n",
       "폐업수               0.615614  0.052831  0.668444  0.134245"
      ]
     },
     "execution_count": 29,
     "metadata": {},
     "output_type": "execute_result"
    }
   ],
   "source": [
    "data_fa"
   ]
  },
  {
   "cell_type": "code",
   "execution_count": 30,
   "id": "7c5c3dbf",
   "metadata": {},
   "outputs": [
    {
     "data": {
      "text/html": [
       "<div>\n",
       "<style scoped>\n",
       "    .dataframe tbody tr th:only-of-type {\n",
       "        vertical-align: middle;\n",
       "    }\n",
       "\n",
       "    .dataframe tbody tr th {\n",
       "        vertical-align: top;\n",
       "    }\n",
       "\n",
       "    .dataframe thead th {\n",
       "        text-align: right;\n",
       "    }\n",
       "</style>\n",
       "<table border=\"1\" class=\"dataframe\">\n",
       "  <thead>\n",
       "    <tr style=\"text-align: right;\">\n",
       "      <th></th>\n",
       "      <th>가중치</th>\n",
       "    </tr>\n",
       "  </thead>\n",
       "  <tbody>\n",
       "    <tr>\n",
       "      <th>price_201712_max</th>\n",
       "      <td>0.158541</td>\n",
       "    </tr>\n",
       "    <tr>\n",
       "      <th>strc_201712_max</th>\n",
       "      <td>0.122734</td>\n",
       "    </tr>\n",
       "    <tr>\n",
       "      <th>pop_201712_max</th>\n",
       "      <td>0.107622</td>\n",
       "    </tr>\n",
       "    <tr>\n",
       "      <th>상가수</th>\n",
       "      <td>0.180588</td>\n",
       "    </tr>\n",
       "    <tr>\n",
       "      <th>유동인구 평균</th>\n",
       "      <td>0.141849</td>\n",
       "    </tr>\n",
       "    <tr>\n",
       "      <th>매출금액 평균</th>\n",
       "      <td>0.154422</td>\n",
       "    </tr>\n",
       "    <tr>\n",
       "      <th>폐업수</th>\n",
       "      <td>0.134245</td>\n",
       "    </tr>\n",
       "  </tbody>\n",
       "</table>\n",
       "</div>"
      ],
      "text/plain": [
       "                       가중치\n",
       "price_201712_max  0.158541\n",
       "strc_201712_max   0.122734\n",
       "pop_201712_max    0.107622\n",
       "상가수               0.180588\n",
       "유동인구 평균           0.141849\n",
       "매출금액 평균           0.154422\n",
       "폐업수               0.134245"
      ]
     },
     "execution_count": 30,
     "metadata": {},
     "output_type": "execute_result"
    }
   ],
   "source": [
    "data_fa.loc[:,['가중치']]"
   ]
  },
  {
   "cell_type": "code",
   "execution_count": 31,
   "id": "6a0ead8c",
   "metadata": {},
   "outputs": [],
   "source": [
    "data_score = pd.DataFrame()"
   ]
  },
  {
   "cell_type": "code",
   "execution_count": 32,
   "id": "747dfbea",
   "metadata": {},
   "outputs": [],
   "source": [
    "for i in range(len(data_fa)):\n",
    "    data_score=pd.concat([data_score,(data_set.iloc[:,i] * data_fa.iloc[i,3])],axis=1)"
   ]
  },
  {
   "cell_type": "code",
   "execution_count": 33,
   "id": "81d890b7",
   "metadata": {},
   "outputs": [],
   "source": [
    "data_score['score']=data_score.sum(axis=1)"
   ]
  },
  {
   "cell_type": "code",
   "execution_count": 34,
   "id": "0c8ee4cb",
   "metadata": {},
   "outputs": [
    {
     "data": {
      "text/plain": [
       "0        210.0\n",
       "1        396.0\n",
       "2        660.0\n",
       "3       1648.0\n",
       "4        759.0\n",
       "         ...  \n",
       "1672     453.0\n",
       "1673    1362.0\n",
       "1674     621.0\n",
       "1675     641.0\n",
       "1676    1228.0\n",
       "Name: score, Length: 1677, dtype: float64"
      ]
     },
     "execution_count": 34,
     "metadata": {},
     "output_type": "execute_result"
    }
   ],
   "source": [
    "data_score['score'].rank(ascending=False)"
   ]
  },
  {
   "cell_type": "code",
   "execution_count": 35,
   "id": "26b243ab",
   "metadata": {},
   "outputs": [],
   "source": [
    "a = df[df.columns[:7]]"
   ]
  },
  {
   "cell_type": "code",
   "execution_count": 36,
   "id": "e29ef3bb",
   "metadata": {},
   "outputs": [],
   "source": [
    "a = pd.concat([a,data_score],axis=1)"
   ]
  },
  {
   "cell_type": "code",
   "execution_count": 37,
   "id": "fc1a6833",
   "metadata": {},
   "outputs": [],
   "source": [
    "bins=[]\n",
    "for i in reversed(range(1,11)):\n",
    "    bins.append(str(i)+'등급')"
   ]
  },
  {
   "cell_type": "code",
   "execution_count": 38,
   "id": "44d4f46e",
   "metadata": {},
   "outputs": [],
   "source": [
    "a['절대등급'] = pd.cut(a['score'],10,labels=bins)"
   ]
  },
  {
   "cell_type": "code",
   "execution_count": 39,
   "id": "b25ed51b",
   "metadata": {},
   "outputs": [],
   "source": [
    "a['상대등급'] = pd.qcut(a['score'],10,labels=bins)"
   ]
  },
  {
   "cell_type": "code",
   "execution_count": 40,
   "id": "644ea886",
   "metadata": {},
   "outputs": [
    {
     "data": {
      "text/plain": [
       "10등급    1013\n",
       "9등급      477\n",
       "8등급      125\n",
       "7등급       38\n",
       "6등급       11\n",
       "5등급        9\n",
       "4등급        3\n",
       "1등급        1\n",
       "3등급        0\n",
       "2등급        0\n",
       "Name: 절대등급, dtype: int64"
      ]
     },
     "execution_count": 40,
     "metadata": {},
     "output_type": "execute_result"
    }
   ],
   "source": [
    "a['절대등급'].value_counts()"
   ]
  },
  {
   "cell_type": "code",
   "execution_count": 41,
   "id": "9c321164",
   "metadata": {},
   "outputs": [
    {
     "data": {
      "text/plain": [
       "10등급    168\n",
       "9등급     168\n",
       "7등급     168\n",
       "6등급     168\n",
       "4등급     168\n",
       "2등급     168\n",
       "1등급     168\n",
       "8등급     167\n",
       "5등급     167\n",
       "3등급     167\n",
       "Name: 상대등급, dtype: int64"
      ]
     },
     "execution_count": 41,
     "metadata": {},
     "output_type": "execute_result"
    }
   ],
   "source": [
    "a['상대등급'].value_counts()"
   ]
  },
  {
   "cell_type": "code",
   "execution_count": 42,
   "id": "cdc7aca4",
   "metadata": {},
   "outputs": [
    {
     "data": {
      "text/html": [
       "<div>\n",
       "<style scoped>\n",
       "    .dataframe tbody tr th:only-of-type {\n",
       "        vertical-align: middle;\n",
       "    }\n",
       "\n",
       "    .dataframe tbody tr th {\n",
       "        vertical-align: top;\n",
       "    }\n",
       "\n",
       "    .dataframe thead th {\n",
       "        text-align: right;\n",
       "    }\n",
       "</style>\n",
       "<table border=\"1\" class=\"dataframe\">\n",
       "  <thead>\n",
       "    <tr style=\"text-align: right;\">\n",
       "      <th></th>\n",
       "      <th>상권명</th>\n",
       "      <th>다중지역정보</th>\n",
       "      <th>업종정보</th>\n",
       "      <th>위도</th>\n",
       "      <th>경도</th>\n",
       "      <th>wkt</th>\n",
       "      <th>상권코드</th>\n",
       "      <th>price_201712_max</th>\n",
       "      <th>strc_201712_max</th>\n",
       "      <th>pop_201712_max</th>\n",
       "      <th>상가수</th>\n",
       "      <th>유동인구 평균</th>\n",
       "      <th>매출금액 평균</th>\n",
       "      <th>폐업수</th>\n",
       "      <th>score</th>\n",
       "      <th>절대등급</th>\n",
       "      <th>상대등급</th>\n",
       "    </tr>\n",
       "  </thead>\n",
       "  <tbody>\n",
       "  </tbody>\n",
       "</table>\n",
       "</div>"
      ],
      "text/plain": [
       "Empty DataFrame\n",
       "Columns: [상권명, 다중지역정보, 업종정보, 위도, 경도, wkt, 상권코드, price_201712_max, strc_201712_max, pop_201712_max, 상가수, 유동인구 평균, 매출금액 평균, 폐업수, score, 절대등급, 상대등급]\n",
       "Index: []"
      ]
     },
     "execution_count": 42,
     "metadata": {},
     "output_type": "execute_result"
    }
   ],
   "source": [
    "a[a['절대등급']=='2등급']"
   ]
  },
  {
   "cell_type": "markdown",
   "id": "c4e210da",
   "metadata": {},
   "source": [
    "### 파일 병합"
   ]
  },
  {
   "cell_type": "code",
   "execution_count": 25,
   "id": "53a8aced",
   "metadata": {},
   "outputs": [],
   "source": [
    "fa_list = os.listdir('상권_요인분석/')"
   ]
  },
  {
   "cell_type": "code",
   "execution_count": 26,
   "id": "d608fdb0",
   "metadata": {},
   "outputs": [],
   "source": [
    "sum_fa_list = pd.DataFrame()\n",
    "sum_fa_list= pd.read_csv('상권_요인분석/'+fa_list[0],encoding='euc-kr').iloc[:,:7]\n",
    "for i in fa_list:\n",
    "    df=pd.read_csv('상권_요인분석/'+i,encoding='euc-kr')\n",
    "    sum_fa_list = pd.concat([sum_fa_list,df[df.columns[-3:]]],axis=1)\n",
    "    \n",
    "sum_fa_list.to_csv('상권_요인분석/상권_sum_fa_list.csv',encoding='euc-kr',index=False)"
   ]
  },
  {
   "cell_type": "code",
   "execution_count": 23,
   "id": "8e825c1f",
   "metadata": {},
   "outputs": [
    {
     "data": {
      "text/html": [
       "<div>\n",
       "<style scoped>\n",
       "    .dataframe tbody tr th:only-of-type {\n",
       "        vertical-align: middle;\n",
       "    }\n",
       "\n",
       "    .dataframe tbody tr th {\n",
       "        vertical-align: top;\n",
       "    }\n",
       "\n",
       "    .dataframe thead th {\n",
       "        text-align: right;\n",
       "    }\n",
       "</style>\n",
       "<table border=\"1\" class=\"dataframe\">\n",
       "  <thead>\n",
       "    <tr style=\"text-align: right;\">\n",
       "      <th></th>\n",
       "      <th>1712_score</th>\n",
       "      <th>1712_절대등급</th>\n",
       "      <th>1712_상대등급</th>\n",
       "    </tr>\n",
       "  </thead>\n",
       "  <tbody>\n",
       "    <tr>\n",
       "      <th>0</th>\n",
       "      <td>0.243848</td>\n",
       "      <td>9</td>\n",
       "      <td>2</td>\n",
       "    </tr>\n",
       "    <tr>\n",
       "      <th>1</th>\n",
       "      <td>0.214496</td>\n",
       "      <td>9</td>\n",
       "      <td>3</td>\n",
       "    </tr>\n",
       "    <tr>\n",
       "      <th>2</th>\n",
       "      <td>0.192703</td>\n",
       "      <td>9</td>\n",
       "      <td>4</td>\n",
       "    </tr>\n",
       "    <tr>\n",
       "      <th>3</th>\n",
       "      <td>0.147467</td>\n",
       "      <td>10</td>\n",
       "      <td>10</td>\n",
       "    </tr>\n",
       "    <tr>\n",
       "      <th>4</th>\n",
       "      <td>0.187966</td>\n",
       "      <td>10</td>\n",
       "      <td>5</td>\n",
       "    </tr>\n",
       "    <tr>\n",
       "      <th>...</th>\n",
       "      <td>...</td>\n",
       "      <td>...</td>\n",
       "      <td>...</td>\n",
       "    </tr>\n",
       "    <tr>\n",
       "      <th>1672</th>\n",
       "      <td>0.209659</td>\n",
       "      <td>9</td>\n",
       "      <td>3</td>\n",
       "    </tr>\n",
       "    <tr>\n",
       "      <th>1673</th>\n",
       "      <td>0.162664</td>\n",
       "      <td>10</td>\n",
       "      <td>9</td>\n",
       "    </tr>\n",
       "    <tr>\n",
       "      <th>1674</th>\n",
       "      <td>0.195839</td>\n",
       "      <td>9</td>\n",
       "      <td>4</td>\n",
       "    </tr>\n",
       "    <tr>\n",
       "      <th>1675</th>\n",
       "      <td>0.194139</td>\n",
       "      <td>9</td>\n",
       "      <td>4</td>\n",
       "    </tr>\n",
       "    <tr>\n",
       "      <th>1676</th>\n",
       "      <td>0.168165</td>\n",
       "      <td>10</td>\n",
       "      <td>8</td>\n",
       "    </tr>\n",
       "  </tbody>\n",
       "</table>\n",
       "<p>1677 rows × 3 columns</p>\n",
       "</div>"
      ],
      "text/plain": [
       "      1712_score  1712_절대등급  1712_상대등급\n",
       "0       0.243848          9          2\n",
       "1       0.214496          9          3\n",
       "2       0.192703          9          4\n",
       "3       0.147467         10         10\n",
       "4       0.187966         10          5\n",
       "...          ...        ...        ...\n",
       "1672    0.209659          9          3\n",
       "1673    0.162664         10          9\n",
       "1674    0.195839          9          4\n",
       "1675    0.194139          9          4\n",
       "1676    0.168165         10          8\n",
       "\n",
       "[1677 rows x 3 columns]"
      ]
     },
     "execution_count": 23,
     "metadata": {},
     "output_type": "execute_result"
    }
   ],
   "source": [
    "pd.read_csv('상권_요인분석/'+fa_list[0],encoding='euc-kr').iloc[:,-3:]"
   ]
  },
  {
   "cell_type": "code",
   "execution_count": null,
   "id": "22c933d0",
   "metadata": {},
   "outputs": [],
   "source": []
  }
 ],
 "metadata": {
  "kernelspec": {
   "display_name": "Python 3 (ipykernel)",
   "language": "python",
   "name": "python3"
  },
  "language_info": {
   "codemirror_mode": {
    "name": "ipython",
    "version": 3
   },
   "file_extension": ".py",
   "mimetype": "text/x-python",
   "name": "python",
   "nbconvert_exporter": "python",
   "pygments_lexer": "ipython3",
   "version": "3.9.12"
  }
 },
 "nbformat": 4,
 "nbformat_minor": 5
}
