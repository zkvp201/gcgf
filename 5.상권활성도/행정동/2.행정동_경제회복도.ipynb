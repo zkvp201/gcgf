{
 "cells": [
  {
   "cell_type": "code",
   "execution_count": 1,
   "id": "5c24ba62",
   "metadata": {},
   "outputs": [],
   "source": [
    "import pandas as pd\n",
    "import os"
   ]
  },
  {
   "cell_type": "code",
   "execution_count": 2,
   "id": "01701963",
   "metadata": {},
   "outputs": [],
   "source": [
    "df = pd.read_csv('행정동_요인분석/sum_fa_list.csv',encoding='euc-kr')\n",
    "from sklearn.preprocessing import StandardScaler\n",
    "scaler = StandardScaler()\n",
    "df_scaled_standard = scaler.fit_transform(df.iloc[:,-6:])\n",
    "score_set = pd.DataFrame(df_scaled_standard,columns=df.iloc[:,-6:].columns)"
   ]
  },
  {
   "cell_type": "code",
   "execution_count": 3,
   "id": "6f90c01b",
   "metadata": {},
   "outputs": [],
   "source": [
    "bins=[]\n",
    "for i in reversed(range(1,11)):\n",
    "    #bins.append(str(i)+'등급')\n",
    "    bins.append(i)"
   ]
  },
  {
   "cell_type": "code",
   "execution_count": 4,
   "id": "67ac2121",
   "metadata": {},
   "outputs": [],
   "source": [
    "def split_type(x):\n",
    "    answer = ''\n",
    "    if x >= 0.5 : answer = '활성화상권'\n",
    "    elif x<=-0.5 : answer = '비활성화상권'\n",
    "    else : answer = '현상유지상권'\n",
    "    return answer"
   ]
  },
  {
   "cell_type": "code",
   "execution_count": 5,
   "id": "3c161bd9",
   "metadata": {},
   "outputs": [
    {
     "data": {
      "text/plain": [
       "0      비활성화상권\n",
       "1      현상유지상권\n",
       "2       활성화상권\n",
       "3       활성화상권\n",
       "4      현상유지상권\n",
       "        ...  \n",
       "543    비활성화상권\n",
       "544    비활성화상권\n",
       "545    비활성화상권\n",
       "546    현상유지상권\n",
       "547    비활성화상권\n",
       "Name: 1912_score, Length: 548, dtype: object"
      ]
     },
     "execution_count": 5,
     "metadata": {},
     "output_type": "execute_result"
    }
   ],
   "source": [
    "score_set['1912_score'].apply(lambda x : split_type(x))"
   ]
  },
  {
   "cell_type": "code",
   "execution_count": 6,
   "id": "f0f3a37f",
   "metadata": {},
   "outputs": [],
   "source": [
    "df['표준화 지수'] = score_set['2112_score']-score_set['1912_score']\n",
    "df['증감'] = df['2112_score']-df['1912_score']"
   ]
  },
  {
   "cell_type": "code",
   "execution_count": 7,
   "id": "297f1df0",
   "metadata": {},
   "outputs": [],
   "source": [
    "df['경제회복도'] = pd.cut(df['표준화 지수'],10,labels=bins)"
   ]
  },
  {
   "cell_type": "code",
   "execution_count": 8,
   "id": "5097a7c2",
   "metadata": {},
   "outputs": [
    {
     "data": {
      "text/html": [
       "<div>\n",
       "<style scoped>\n",
       "    .dataframe tbody tr th:only-of-type {\n",
       "        vertical-align: middle;\n",
       "    }\n",
       "\n",
       "    .dataframe tbody tr th {\n",
       "        vertical-align: top;\n",
       "    }\n",
       "\n",
       "    .dataframe thead th {\n",
       "        text-align: right;\n",
       "    }\n",
       "</style>\n",
       "<table border=\"1\" class=\"dataframe\">\n",
       "  <thead>\n",
       "    <tr style=\"text-align: right;\">\n",
       "      <th></th>\n",
       "      <th>시군구코드</th>\n",
       "      <th>경제회복도</th>\n",
       "    </tr>\n",
       "  </thead>\n",
       "  <tbody>\n",
       "    <tr>\n",
       "      <th>0</th>\n",
       "      <td>41111560.0</td>\n",
       "      <td>6</td>\n",
       "    </tr>\n",
       "    <tr>\n",
       "      <th>1</th>\n",
       "      <td>41111566.0</td>\n",
       "      <td>6</td>\n",
       "    </tr>\n",
       "  </tbody>\n",
       "</table>\n",
       "</div>"
      ],
      "text/plain": [
       "        시군구코드 경제회복도\n",
       "0  41111560.0     6\n",
       "1  41111566.0     6"
      ]
     },
     "execution_count": 8,
     "metadata": {},
     "output_type": "execute_result"
    }
   ],
   "source": [
    "df=df[['시군구코드','경제회복도']]\n",
    "df.to_csv('행정동_컬럼/행정동_경제회복도.csv',encoding='euc-kr',index=False)\n",
    "df.head(2)"
   ]
  },
  {
   "cell_type": "code",
   "execution_count": null,
   "id": "7e38151f",
   "metadata": {},
   "outputs": [],
   "source": []
  }
 ],
 "metadata": {
  "kernelspec": {
   "display_name": "Python 3 (ipykernel)",
   "language": "python",
   "name": "python3"
  },
  "language_info": {
   "codemirror_mode": {
    "name": "ipython",
    "version": 3
   },
   "file_extension": ".py",
   "mimetype": "text/x-python",
   "name": "python",
   "nbconvert_exporter": "python",
   "pygments_lexer": "ipython3",
   "version": "3.9.12"
  }
 },
 "nbformat": 4,
 "nbformat_minor": 5
}
