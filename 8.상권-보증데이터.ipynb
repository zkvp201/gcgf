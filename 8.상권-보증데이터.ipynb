{
 "cells": [
  {
   "cell_type": "code",
   "execution_count": 9,
   "id": "cac098a5",
   "metadata": {},
   "outputs": [],
   "source": [
    "import pandas as pd\n",
    "\n",
    "\n",
    "import os\n",
    "\n",
    "import warnings\n",
    "warnings.filterwarnings('ignore')"
   ]
  },
  {
   "cell_type": "code",
   "execution_count": 10,
   "id": "30f55bbd",
   "metadata": {},
   "outputs": [],
   "source": [
    "cd = pd.read_csv('상권_보증적정도.csv',encoding='euc-kr')\n",
    "cd_elr = pd.read_csv('상권_ELR_최종.csv',encoding='euc-kr')"
   ]
  },
  {
   "cell_type": "code",
   "execution_count": 11,
   "id": "811b64d1",
   "metadata": {},
   "outputs": [],
   "source": [
    "cd_fin = pd.merge( left=cd , right=cd_elr , how='left' , on='상권코드')"
   ]
  },
  {
   "cell_type": "code",
   "execution_count": 12,
   "id": "ceb3c1f9",
   "metadata": {},
   "outputs": [],
   "source": [
    "cd_fin.to_csv('결과물/상권-보증데이터_최종.csv',encoding='euc-kr',index=False)"
   ]
  },
  {
   "cell_type": "code",
   "execution_count": 13,
   "id": "9f67843d",
   "metadata": {},
   "outputs": [],
   "source": [
    "\n",
    "umd = pd.read_csv('행정동_보증적정도.csv',encoding='euc-kr')\n",
    "umd_elr = pd.read_csv('행정동_ELR_최종.csv',encoding='euc-kr')"
   ]
  },
  {
   "cell_type": "code",
   "execution_count": 14,
   "id": "7ca48cf3",
   "metadata": {},
   "outputs": [],
   "source": [
    "umd_fin = pd.merge( left=umd , right=umd_elr , how='left' , on='행정동코드')"
   ]
  },
  {
   "cell_type": "code",
   "execution_count": 15,
   "id": "cf92e354",
   "metadata": {},
   "outputs": [],
   "source": [
    "umd_fin.to_csv('결과물/행정동-보증데이터_최종.csv',encoding='euc-kr',index=False)"
   ]
  },
  {
   "cell_type": "code",
   "execution_count": 16,
   "id": "621d6113",
   "metadata": {},
   "outputs": [],
   "source": [
    "umd_fin.iloc[:,1:].to_csv('결과물/행정동-보증데이터_최종_엑셀확인용.csv',encoding='euc-kr',index=False)"
   ]
  },
  {
   "cell_type": "code",
   "execution_count": null,
   "id": "a88abd98",
   "metadata": {},
   "outputs": [],
   "source": []
  },
  {
   "cell_type": "code",
   "execution_count": null,
   "id": "c7b2458c",
   "metadata": {},
   "outputs": [],
   "source": []
  }
 ],
 "metadata": {
  "kernelspec": {
   "display_name": "Python 3 (ipykernel)",
   "language": "python",
   "name": "python3"
  },
  "language_info": {
   "codemirror_mode": {
    "name": "ipython",
    "version": 3
   },
   "file_extension": ".py",
   "mimetype": "text/x-python",
   "name": "python",
   "nbconvert_exporter": "python",
   "pygments_lexer": "ipython3",
   "version": "3.9.12"
  }
 },
 "nbformat": 4,
 "nbformat_minor": 5
}
