{
 "cells": [
  {
   "cell_type": "code",
   "execution_count": 3,
   "id": "edcc8b32",
   "metadata": {
    "scrolled": true
   },
   "outputs": [],
   "source": [
    "import pandas as pd\n",
    "\n",
    "import warnings\n",
    "warnings.filterwarnings('ignore')\n",
    "pd.set_option('display.max_columns', None)\n",
    "risk_base = pd.read_csv('22년 9월 리스크.txt',sep='|',encoding='cp949')"
   ]
  },
  {
   "cell_type": "code",
   "execution_count": 4,
   "id": "d618b6eb",
   "metadata": {},
   "outputs": [],
   "source": [
    "risk_xy = pd.read_csv('보증상권지도_OUT.txt',sep='\\t',encoding='cp949')"
   ]
  },
  {
   "cell_type": "code",
   "execution_count": 5,
   "id": "eef957b4",
   "metadata": {},
   "outputs": [],
   "source": [
    "# 22년9월리스크 자료를 기준으로 사용할것이기 떄문에 고객번호가 겹치는 위경도 좌표용 데이터는 중복을제거\n",
    "risk_xy = risk_xy.drop_duplicates(subset='고객번호')"
   ]
  },
  {
   "cell_type": "code",
   "execution_count": 6,
   "id": "f44ad1e2",
   "metadata": {},
   "outputs": [],
   "source": [
    "#risk_cob = pd.read_csv('리스크데이터결합/22년 9월말 사업자번호_결과반영.csv',encoding='euc-kr')"
   ]
  },
  {
   "cell_type": "code",
   "execution_count": 7,
   "id": "c0659e45",
   "metadata": {},
   "outputs": [],
   "source": [
    "#risk_cob.drop_duplicates(subset = '사업자번호',inplace=True)"
   ]
  },
  {
   "cell_type": "code",
   "execution_count": 8,
   "id": "4e0dd63e",
   "metadata": {},
   "outputs": [
    {
     "data": {
      "text/plain": [
       "301669"
      ]
     },
     "execution_count": 8,
     "metadata": {},
     "output_type": "execute_result"
    }
   ],
   "source": [
    "#len(risk_cob)"
   ]
  },
  {
   "cell_type": "code",
   "execution_count": 6,
   "id": "88e02168",
   "metadata": {},
   "outputs": [
    {
     "data": {
      "text/plain": [
       "(415554, 306454)"
      ]
     },
     "execution_count": 6,
     "metadata": {},
     "output_type": "execute_result"
    }
   ],
   "source": [
    "len(risk_base),len(risk_xy)"
   ]
  },
  {
   "cell_type": "code",
   "execution_count": 7,
   "id": "a732a454",
   "metadata": {},
   "outputs": [],
   "source": [
    "risk_file = pd.merge(left=risk_base,right=risk_xy , how='left',on='고객번호')\n",
    "#risk_file2 = pd.merge(left=risk_file,right=risk_cob , how='left',on='사업자번호')"
   ]
  },
  {
   "cell_type": "code",
   "execution_count": 8,
   "id": "f237a116",
   "metadata": {},
   "outputs": [],
   "source": [
    "#risk_file2.to_csv('리스크데이터결합/22년 9월말 리스크 데이터 휴페업 결합.csv',encoding='euc-kr',index=False)"
   ]
  },
  {
   "cell_type": "code",
   "execution_count": 9,
   "id": "e7a69f11",
   "metadata": {},
   "outputs": [],
   "source": [
    "risk_file = risk_file[['고객번호','보증실행일자','보증번호','EaD','EL','업체명','Unnamed: 3','Unnamed: 4']]\n",
    "\n",
    "\n",
    "risk_file.rename(columns={'Unnamed: 3':'경도','Unnamed: 4':'위도'},inplace=True)"
   ]
  },
  {
   "cell_type": "code",
   "execution_count": 10,
   "id": "8631644e",
   "metadata": {},
   "outputs": [
    {
     "data": {
      "text/plain": [
       "668227    1\n",
       "701496    1\n",
       "701380    1\n",
       "702261    1\n",
       "701704    1\n",
       "         ..\n",
       "507023    1\n",
       "506920    1\n",
       "506916    1\n",
       "506743    1\n",
       "550021    1\n",
       "Name: 고객번호, Length: 305148, dtype: int64"
      ]
     },
     "execution_count": 10,
     "metadata": {},
     "output_type": "execute_result"
    }
   ],
   "source": [
    "risk_count = risk_file.drop_duplicates(subset='고객번호')\n",
    "risk_count['고객번호'].value_counts()"
   ]
  },
  {
   "cell_type": "code",
   "execution_count": 11,
   "id": "2b3c2f24",
   "metadata": {},
   "outputs": [
    {
     "data": {
      "text/html": [
       "<div>\n",
       "<style scoped>\n",
       "    .dataframe tbody tr th:only-of-type {\n",
       "        vertical-align: middle;\n",
       "    }\n",
       "\n",
       "    .dataframe tbody tr th {\n",
       "        vertical-align: top;\n",
       "    }\n",
       "\n",
       "    .dataframe thead th {\n",
       "        text-align: right;\n",
       "    }\n",
       "</style>\n",
       "<table border=\"1\" class=\"dataframe\">\n",
       "  <thead>\n",
       "    <tr style=\"text-align: right;\">\n",
       "      <th></th>\n",
       "      <th>고객번호</th>\n",
       "      <th>보증실행일자</th>\n",
       "      <th>보증번호</th>\n",
       "      <th>EaD</th>\n",
       "      <th>EL</th>\n",
       "      <th>업체명</th>\n",
       "      <th>경도</th>\n",
       "      <th>위도</th>\n",
       "    </tr>\n",
       "  </thead>\n",
       "  <tbody>\n",
       "    <tr>\n",
       "      <th>374204</th>\n",
       "      <td>236221</td>\n",
       "      <td>20180426</td>\n",
       "      <td>150201800949</td>\n",
       "      <td>1.730000</td>\n",
       "      <td>0.032351</td>\n",
       "      <td>알파(중앙대점)</td>\n",
       "      <td>127.2262898</td>\n",
       "      <td>37.00216</td>\n",
       "    </tr>\n",
       "    <tr>\n",
       "      <th>374205</th>\n",
       "      <td>236221</td>\n",
       "      <td>20180426</td>\n",
       "      <td>150201800955</td>\n",
       "      <td>1.540000</td>\n",
       "      <td>0.028798</td>\n",
       "      <td>알파(중앙대점)</td>\n",
       "      <td>127.2262898</td>\n",
       "      <td>37.00216</td>\n",
       "    </tr>\n",
       "    <tr>\n",
       "      <th>374206</th>\n",
       "      <td>236221</td>\n",
       "      <td>20200108</td>\n",
       "      <td>340202000012</td>\n",
       "      <td>8.120000</td>\n",
       "      <td>0.151842</td>\n",
       "      <td>알파(중앙대점)</td>\n",
       "      <td>127.2262898</td>\n",
       "      <td>37.00216</td>\n",
       "    </tr>\n",
       "    <tr>\n",
       "      <th>374207</th>\n",
       "      <td>236221</td>\n",
       "      <td>20200330</td>\n",
       "      <td>340202000459</td>\n",
       "      <td>23.400000</td>\n",
       "      <td>0.437575</td>\n",
       "      <td>알파(중앙대점)</td>\n",
       "      <td>127.2262898</td>\n",
       "      <td>37.00216</td>\n",
       "    </tr>\n",
       "    <tr>\n",
       "      <th>374317</th>\n",
       "      <td>236221</td>\n",
       "      <td>20200617</td>\n",
       "      <td>340202002506</td>\n",
       "      <td>1.770000</td>\n",
       "      <td>0.033099</td>\n",
       "      <td>알파(중앙대점)</td>\n",
       "      <td>127.2262898</td>\n",
       "      <td>37.00216</td>\n",
       "    </tr>\n",
       "    <tr>\n",
       "      <th>374318</th>\n",
       "      <td>236221</td>\n",
       "      <td>20210810</td>\n",
       "      <td>340202101156</td>\n",
       "      <td>12.440000</td>\n",
       "      <td>0.232625</td>\n",
       "      <td>알파(중앙대점)</td>\n",
       "      <td>127.2262898</td>\n",
       "      <td>37.00216</td>\n",
       "    </tr>\n",
       "    <tr>\n",
       "      <th>374319</th>\n",
       "      <td>236221</td>\n",
       "      <td>20211005</td>\n",
       "      <td>340202101536</td>\n",
       "      <td>20.000000</td>\n",
       "      <td>0.373996</td>\n",
       "      <td>알파(중앙대점)</td>\n",
       "      <td>127.2262898</td>\n",
       "      <td>37.00216</td>\n",
       "    </tr>\n",
       "    <tr>\n",
       "      <th>374320</th>\n",
       "      <td>236221</td>\n",
       "      <td>20220209</td>\n",
       "      <td>340202200205</td>\n",
       "      <td>10.000000</td>\n",
       "      <td>0.186998</td>\n",
       "      <td>알파(중앙대점)</td>\n",
       "      <td>127.2262898</td>\n",
       "      <td>37.00216</td>\n",
       "    </tr>\n",
       "    <tr>\n",
       "      <th>374321</th>\n",
       "      <td>236221</td>\n",
       "      <td>20220209</td>\n",
       "      <td>340202200207</td>\n",
       "      <td>9.192402</td>\n",
       "      <td>0.171896</td>\n",
       "      <td>알파(중앙대점)</td>\n",
       "      <td>127.2262898</td>\n",
       "      <td>37.00216</td>\n",
       "    </tr>\n",
       "    <tr>\n",
       "      <th>374322</th>\n",
       "      <td>236221</td>\n",
       "      <td>20220729</td>\n",
       "      <td>340202201516</td>\n",
       "      <td>10.000000</td>\n",
       "      <td>0.186998</td>\n",
       "      <td>알파(중앙대점)</td>\n",
       "      <td>127.2262898</td>\n",
       "      <td>37.00216</td>\n",
       "    </tr>\n",
       "  </tbody>\n",
       "</table>\n",
       "</div>"
      ],
      "text/plain": [
       "          고객번호    보증실행일자          보증번호        EaD        EL       업체명  \\\n",
       "374204  236221  20180426  150201800949   1.730000  0.032351  알파(중앙대점)   \n",
       "374205  236221  20180426  150201800955   1.540000  0.028798  알파(중앙대점)   \n",
       "374206  236221  20200108  340202000012   8.120000  0.151842  알파(중앙대점)   \n",
       "374207  236221  20200330  340202000459  23.400000  0.437575  알파(중앙대점)   \n",
       "374317  236221  20200617  340202002506   1.770000  0.033099  알파(중앙대점)   \n",
       "374318  236221  20210810  340202101156  12.440000  0.232625  알파(중앙대점)   \n",
       "374319  236221  20211005  340202101536  20.000000  0.373996  알파(중앙대점)   \n",
       "374320  236221  20220209  340202200205  10.000000  0.186998  알파(중앙대점)   \n",
       "374321  236221  20220209  340202200207   9.192402  0.171896  알파(중앙대점)   \n",
       "374322  236221  20220729  340202201516  10.000000  0.186998  알파(중앙대점)   \n",
       "\n",
       "                 경도        위도  \n",
       "374204  127.2262898  37.00216  \n",
       "374205  127.2262898  37.00216  \n",
       "374206  127.2262898  37.00216  \n",
       "374207  127.2262898  37.00216  \n",
       "374317  127.2262898  37.00216  \n",
       "374318  127.2262898  37.00216  \n",
       "374319  127.2262898  37.00216  \n",
       "374320  127.2262898  37.00216  \n",
       "374321  127.2262898  37.00216  \n",
       "374322  127.2262898  37.00216  "
      ]
     },
     "execution_count": 11,
     "metadata": {},
     "output_type": "execute_result"
    }
   ],
   "source": [
    "risk_file[risk_file['고객번호']==236221]"
   ]
  },
  {
   "cell_type": "code",
   "execution_count": 12,
   "id": "1b73b45e",
   "metadata": {},
   "outputs": [],
   "source": [
    "risk_file.to_csv('QGIS_리스크파일_ELR계산용.csv',encoding='euc-kr',index=False)"
   ]
  },
  {
   "cell_type": "code",
   "execution_count": 78,
   "id": "97e7e063",
   "metadata": {},
   "outputs": [],
   "source": [
    "#보증집중도 계산에서는 특정업체가 여러번 보증받은경우를 하나로 계산\n",
    "#개인운수업등 특정 운수회사에 개인사업자 형태로 존재하는 여러개 데이터도 하나로 계산하기 위해 경도,위도도 그룹기준에 포함\n",
    "groups = risk_count.groupby(by=['업체명','경도','위도'])[['업체명']].count()"
   ]
  },
  {
   "cell_type": "code",
   "execution_count": 89,
   "id": "89068851",
   "metadata": {},
   "outputs": [],
   "source": [
    "groups.rename(columns={'업체명':'업체'},inplace=True)\n",
    "groups=groups.reset_index()"
   ]
  },
  {
   "cell_type": "code",
   "execution_count": 97,
   "id": "035431fa",
   "metadata": {},
   "outputs": [],
   "source": [
    "groups.to_csv('QGIS_보증집중도계산용.csv',encoding='euc-kr',index=False)"
   ]
  },
  {
   "cell_type": "code",
   "execution_count": null,
   "id": "8f5ff83a",
   "metadata": {},
   "outputs": [],
   "source": []
  }
 ],
 "metadata": {
  "kernelspec": {
   "display_name": "Python 3 (ipykernel)",
   "language": "python",
   "name": "python3"
  },
  "language_info": {
   "codemirror_mode": {
    "name": "ipython",
    "version": 3
   },
   "file_extension": ".py",
   "mimetype": "text/x-python",
   "name": "python",
   "nbconvert_exporter": "python",
   "pygments_lexer": "ipython3",
   "version": "3.9.12"
  }
 },
 "nbformat": 4,
 "nbformat_minor": 5
}
