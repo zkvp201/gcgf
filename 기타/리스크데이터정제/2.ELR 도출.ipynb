{
 "cells": [
  {
   "cell_type": "code",
   "execution_count": 1,
   "id": "78613c92",
   "metadata": {},
   "outputs": [
    {
     "name": "stderr",
     "output_type": "stream",
     "text": [
      "C:\\Users\\user\\AppData\\Local\\Temp\\ipykernel_18332\\224350978.py:3: DtypeWarning: Columns (6) have mixed types. Specify dtype option on import or set low_memory=False.\n",
      "  df = pd.read_csv('ELR_행정동.csv',encoding='euc-kr')\n"
     ]
    }
   ],
   "source": [
    "import pandas as pd\n",
    "\n",
    "df = pd.read_csv('ELR_행정동.csv',encoding='euc-kr')"
   ]
  },
  {
   "cell_type": "code",
   "execution_count": 2,
   "id": "3abe1f77",
   "metadata": {},
   "outputs": [
    {
     "name": "stderr",
     "output_type": "stream",
     "text": [
      "C:\\Users\\user\\AppData\\Local\\Temp\\ipykernel_18332\\103629380.py:1: FutureWarning: Indexing with multiple keys (implicitly converted to a tuple of keys) will be deprecated, use a list instead.\n",
      "  df2 = df.groupby('행정동코드',as_index=False)['EaD','EL'].sum()\n"
     ]
    }
   ],
   "source": [
    "df2 = df.groupby('행정동코드',as_index=False)['EaD','EL'].sum()\n",
    "df2['ELR'] = (df2['EL']/df2['EaD']) *100"
   ]
  },
  {
   "cell_type": "code",
   "execution_count": 3,
   "id": "7b96e5b3",
   "metadata": {},
   "outputs": [],
   "source": [
    "df2['ELR'] = (df2['EL']/df2['EaD']) *100"
   ]
  },
  {
   "cell_type": "code",
   "execution_count": 4,
   "id": "883322ef",
   "metadata": {},
   "outputs": [
    {
     "data": {
      "text/html": [
       "<div>\n",
       "<style scoped>\n",
       "    .dataframe tbody tr th:only-of-type {\n",
       "        vertical-align: middle;\n",
       "    }\n",
       "\n",
       "    .dataframe tbody tr th {\n",
       "        vertical-align: top;\n",
       "    }\n",
       "\n",
       "    .dataframe thead th {\n",
       "        text-align: right;\n",
       "    }\n",
       "</style>\n",
       "<table border=\"1\" class=\"dataframe\">\n",
       "  <thead>\n",
       "    <tr style=\"text-align: right;\">\n",
       "      <th></th>\n",
       "      <th>행정동코드</th>\n",
       "      <th>EaD</th>\n",
       "      <th>EL</th>\n",
       "      <th>ELR</th>\n",
       "    </tr>\n",
       "  </thead>\n",
       "  <tbody>\n",
       "    <tr>\n",
       "      <th>0</th>\n",
       "      <td>41111560</td>\n",
       "      <td>12824.562949</td>\n",
       "      <td>270.207065</td>\n",
       "      <td>2.106949</td>\n",
       "    </tr>\n",
       "    <tr>\n",
       "      <th>1</th>\n",
       "      <td>41111566</td>\n",
       "      <td>17421.094499</td>\n",
       "      <td>328.851528</td>\n",
       "      <td>1.887663</td>\n",
       "    </tr>\n",
       "    <tr>\n",
       "      <th>2</th>\n",
       "      <td>41111571</td>\n",
       "      <td>8429.730198</td>\n",
       "      <td>235.485423</td>\n",
       "      <td>2.793511</td>\n",
       "    </tr>\n",
       "    <tr>\n",
       "      <th>3</th>\n",
       "      <td>41111572</td>\n",
       "      <td>11289.994216</td>\n",
       "      <td>215.385554</td>\n",
       "      <td>1.907756</td>\n",
       "    </tr>\n",
       "    <tr>\n",
       "      <th>4</th>\n",
       "      <td>41111573</td>\n",
       "      <td>14862.419178</td>\n",
       "      <td>236.866761</td>\n",
       "      <td>1.593730</td>\n",
       "    </tr>\n",
       "    <tr>\n",
       "      <th>...</th>\n",
       "      <td>...</td>\n",
       "      <td>...</td>\n",
       "      <td>...</td>\n",
       "      <td>...</td>\n",
       "    </tr>\n",
       "    <tr>\n",
       "      <th>545</th>\n",
       "      <td>41830370</td>\n",
       "      <td>1395.104955</td>\n",
       "      <td>31.537539</td>\n",
       "      <td>2.260585</td>\n",
       "    </tr>\n",
       "    <tr>\n",
       "      <th>546</th>\n",
       "      <td>41830380</td>\n",
       "      <td>1286.863250</td>\n",
       "      <td>27.681751</td>\n",
       "      <td>2.151103</td>\n",
       "    </tr>\n",
       "    <tr>\n",
       "      <th>547</th>\n",
       "      <td>41830395</td>\n",
       "      <td>2405.461208</td>\n",
       "      <td>47.956663</td>\n",
       "      <td>1.993658</td>\n",
       "    </tr>\n",
       "    <tr>\n",
       "      <th>548</th>\n",
       "      <td>41830400</td>\n",
       "      <td>11532.514975</td>\n",
       "      <td>195.946763</td>\n",
       "      <td>1.699081</td>\n",
       "    </tr>\n",
       "    <tr>\n",
       "      <th>549</th>\n",
       "      <td>41830410</td>\n",
       "      <td>3271.163241</td>\n",
       "      <td>98.273829</td>\n",
       "      <td>3.004247</td>\n",
       "    </tr>\n",
       "  </tbody>\n",
       "</table>\n",
       "<p>550 rows × 4 columns</p>\n",
       "</div>"
      ],
      "text/plain": [
       "        행정동코드           EaD          EL       ELR\n",
       "0    41111560  12824.562949  270.207065  2.106949\n",
       "1    41111566  17421.094499  328.851528  1.887663\n",
       "2    41111571   8429.730198  235.485423  2.793511\n",
       "3    41111572  11289.994216  215.385554  1.907756\n",
       "4    41111573  14862.419178  236.866761  1.593730\n",
       "..        ...           ...         ...       ...\n",
       "545  41830370   1395.104955   31.537539  2.260585\n",
       "546  41830380   1286.863250   27.681751  2.151103\n",
       "547  41830395   2405.461208   47.956663  1.993658\n",
       "548  41830400  11532.514975  195.946763  1.699081\n",
       "549  41830410   3271.163241   98.273829  3.004247\n",
       "\n",
       "[550 rows x 4 columns]"
      ]
     },
     "execution_count": 4,
     "metadata": {},
     "output_type": "execute_result"
    }
   ],
   "source": [
    "df2"
   ]
  },
  {
   "cell_type": "code",
   "execution_count": 5,
   "id": "e5fba565",
   "metadata": {},
   "outputs": [],
   "source": [
    "df2.to_csv('결과물/행정동_ELR_최종.csv',encoding='euc-kr',index=False)"
   ]
  },
  {
   "cell_type": "code",
   "execution_count": 7,
   "id": "0488e7d1",
   "metadata": {},
   "outputs": [],
   "source": [
    "golmok = pd.read_csv('골목상권ELR.csv',encoding='euc-kr')"
   ]
  },
  {
   "cell_type": "code",
   "execution_count": 9,
   "id": "57875d67",
   "metadata": {},
   "outputs": [],
   "source": [
    "baldal = pd.read_csv('발달상권ELR.csv',encoding='euc-kr')"
   ]
  },
  {
   "cell_type": "code",
   "execution_count": 24,
   "id": "84d0ada4",
   "metadata": {},
   "outputs": [
    {
     "name": "stderr",
     "output_type": "stream",
     "text": [
      "C:\\Users\\user\\AppData\\Local\\Temp\\ipykernel_18332\\4016159690.py:1: FutureWarning: Indexing with multiple keys (implicitly converted to a tuple of keys) will be deprecated, use a list instead.\n",
      "  golmok2 = golmok.groupby('상권코드',as_index=False)['EaD','EL'].sum()\n"
     ]
    }
   ],
   "source": [
    "golmok2 = golmok.groupby('상권코드',as_index=False)['EaD','EL'].sum()\n",
    "golmok2['ELR'] = (golmok2['EL']/golmok2['EaD']) *100\n",
    "golmok2['ELR']=golmok2['ELR'].fillna(0)"
   ]
  },
  {
   "cell_type": "code",
   "execution_count": 25,
   "id": "73d593a7",
   "metadata": {},
   "outputs": [
    {
     "data": {
      "text/html": [
       "<div>\n",
       "<style scoped>\n",
       "    .dataframe tbody tr th:only-of-type {\n",
       "        vertical-align: middle;\n",
       "    }\n",
       "\n",
       "    .dataframe tbody tr th {\n",
       "        vertical-align: top;\n",
       "    }\n",
       "\n",
       "    .dataframe thead th {\n",
       "        text-align: right;\n",
       "    }\n",
       "</style>\n",
       "<table border=\"1\" class=\"dataframe\">\n",
       "  <thead>\n",
       "    <tr style=\"text-align: right;\">\n",
       "      <th></th>\n",
       "      <th>상권코드</th>\n",
       "      <th>EaD</th>\n",
       "      <th>EL</th>\n",
       "      <th>ELR</th>\n",
       "    </tr>\n",
       "  </thead>\n",
       "  <tbody>\n",
       "    <tr>\n",
       "      <th>0</th>\n",
       "      <td>골목_1</td>\n",
       "      <td>1638.169539</td>\n",
       "      <td>41.333382</td>\n",
       "      <td>2.523144</td>\n",
       "    </tr>\n",
       "    <tr>\n",
       "      <th>1</th>\n",
       "      <td>골목_10</td>\n",
       "      <td>207.780829</td>\n",
       "      <td>2.383655</td>\n",
       "      <td>1.147197</td>\n",
       "    </tr>\n",
       "    <tr>\n",
       "      <th>2</th>\n",
       "      <td>골목_100</td>\n",
       "      <td>1559.041834</td>\n",
       "      <td>40.305252</td>\n",
       "      <td>2.585258</td>\n",
       "    </tr>\n",
       "    <tr>\n",
       "      <th>3</th>\n",
       "      <td>골목_101</td>\n",
       "      <td>624.327204</td>\n",
       "      <td>9.217040</td>\n",
       "      <td>1.476316</td>\n",
       "    </tr>\n",
       "    <tr>\n",
       "      <th>4</th>\n",
       "      <td>골목_102</td>\n",
       "      <td>566.724986</td>\n",
       "      <td>29.771040</td>\n",
       "      <td>5.253172</td>\n",
       "    </tr>\n",
       "    <tr>\n",
       "      <th>...</th>\n",
       "      <td>...</td>\n",
       "      <td>...</td>\n",
       "      <td>...</td>\n",
       "      <td>...</td>\n",
       "    </tr>\n",
       "    <tr>\n",
       "      <th>822</th>\n",
       "      <td>골목_95</td>\n",
       "      <td>220.104153</td>\n",
       "      <td>5.059893</td>\n",
       "      <td>2.298863</td>\n",
       "    </tr>\n",
       "    <tr>\n",
       "      <th>823</th>\n",
       "      <td>골목_96</td>\n",
       "      <td>234.010865</td>\n",
       "      <td>3.541455</td>\n",
       "      <td>1.513372</td>\n",
       "    </tr>\n",
       "    <tr>\n",
       "      <th>824</th>\n",
       "      <td>골목_97</td>\n",
       "      <td>1101.081676</td>\n",
       "      <td>39.880911</td>\n",
       "      <td>3.621976</td>\n",
       "    </tr>\n",
       "    <tr>\n",
       "      <th>825</th>\n",
       "      <td>골목_98</td>\n",
       "      <td>3645.751389</td>\n",
       "      <td>86.043692</td>\n",
       "      <td>2.360109</td>\n",
       "    </tr>\n",
       "    <tr>\n",
       "      <th>826</th>\n",
       "      <td>골목_99</td>\n",
       "      <td>365.767978</td>\n",
       "      <td>38.120768</td>\n",
       "      <td>10.422117</td>\n",
       "    </tr>\n",
       "  </tbody>\n",
       "</table>\n",
       "<p>827 rows × 4 columns</p>\n",
       "</div>"
      ],
      "text/plain": [
       "       상권코드          EaD         EL        ELR\n",
       "0      골목_1  1638.169539  41.333382   2.523144\n",
       "1     골목_10   207.780829   2.383655   1.147197\n",
       "2    골목_100  1559.041834  40.305252   2.585258\n",
       "3    골목_101   624.327204   9.217040   1.476316\n",
       "4    골목_102   566.724986  29.771040   5.253172\n",
       "..      ...          ...        ...        ...\n",
       "822   골목_95   220.104153   5.059893   2.298863\n",
       "823   골목_96   234.010865   3.541455   1.513372\n",
       "824   골목_97  1101.081676  39.880911   3.621976\n",
       "825   골목_98  3645.751389  86.043692   2.360109\n",
       "826   골목_99   365.767978  38.120768  10.422117\n",
       "\n",
       "[827 rows x 4 columns]"
      ]
     },
     "execution_count": 25,
     "metadata": {},
     "output_type": "execute_result"
    }
   ],
   "source": [
    "golmok2"
   ]
  },
  {
   "cell_type": "code",
   "execution_count": 26,
   "id": "04ea665f",
   "metadata": {},
   "outputs": [
    {
     "name": "stderr",
     "output_type": "stream",
     "text": [
      "C:\\Users\\user\\AppData\\Local\\Temp\\ipykernel_18332\\1981048780.py:1: FutureWarning: Indexing with multiple keys (implicitly converted to a tuple of keys) will be deprecated, use a list instead.\n",
      "  baldal2 = baldal.groupby('상권코드',as_index=False)['EaD','EL'].sum()\n"
     ]
    }
   ],
   "source": [
    "baldal2 = baldal.groupby('상권코드',as_index=False)['EaD','EL'].sum()\n",
    "baldal2['ELR'] = (baldal2['EL']/baldal2['EaD']) *100\n",
    "baldal2['ELR']=baldal2['ELR'].fillna(0)"
   ]
  },
  {
   "cell_type": "code",
   "execution_count": 27,
   "id": "f8cf94f5",
   "metadata": {},
   "outputs": [
    {
     "data": {
      "text/html": [
       "<div>\n",
       "<style scoped>\n",
       "    .dataframe tbody tr th:only-of-type {\n",
       "        vertical-align: middle;\n",
       "    }\n",
       "\n",
       "    .dataframe tbody tr th {\n",
       "        vertical-align: top;\n",
       "    }\n",
       "\n",
       "    .dataframe thead th {\n",
       "        text-align: right;\n",
       "    }\n",
       "</style>\n",
       "<table border=\"1\" class=\"dataframe\">\n",
       "  <thead>\n",
       "    <tr style=\"text-align: right;\">\n",
       "      <th></th>\n",
       "      <th>상권코드</th>\n",
       "      <th>EaD</th>\n",
       "      <th>EL</th>\n",
       "      <th>ELR</th>\n",
       "    </tr>\n",
       "  </thead>\n",
       "  <tbody>\n",
       "    <tr>\n",
       "      <th>40</th>\n",
       "      <td>발달_135</td>\n",
       "      <td>0.0</td>\n",
       "      <td>0.0</td>\n",
       "      <td>0.0</td>\n",
       "    </tr>\n",
       "    <tr>\n",
       "      <th>359</th>\n",
       "      <td>발달_422</td>\n",
       "      <td>0.0</td>\n",
       "      <td>0.0</td>\n",
       "      <td>0.0</td>\n",
       "    </tr>\n",
       "    <tr>\n",
       "      <th>621</th>\n",
       "      <td>발달_659</td>\n",
       "      <td>0.0</td>\n",
       "      <td>0.0</td>\n",
       "      <td>0.0</td>\n",
       "    </tr>\n",
       "    <tr>\n",
       "      <th>853</th>\n",
       "      <td>발달_96</td>\n",
       "      <td>0.0</td>\n",
       "      <td>0.0</td>\n",
       "      <td>0.0</td>\n",
       "    </tr>\n",
       "  </tbody>\n",
       "</table>\n",
       "</div>"
      ],
      "text/plain": [
       "       상권코드  EaD   EL  ELR\n",
       "40   발달_135  0.0  0.0  0.0\n",
       "359  발달_422  0.0  0.0  0.0\n",
       "621  발달_659  0.0  0.0  0.0\n",
       "853   발달_96  0.0  0.0  0.0"
      ]
     },
     "execution_count": 27,
     "metadata": {},
     "output_type": "execute_result"
    }
   ],
   "source": [
    "baldal2[baldal2['EaD']==0]"
   ]
  },
  {
   "cell_type": "code",
   "execution_count": 28,
   "id": "4d457eb8",
   "metadata": {},
   "outputs": [
    {
     "data": {
      "text/html": [
       "<div>\n",
       "<style scoped>\n",
       "    .dataframe tbody tr th:only-of-type {\n",
       "        vertical-align: middle;\n",
       "    }\n",
       "\n",
       "    .dataframe tbody tr th {\n",
       "        vertical-align: top;\n",
       "    }\n",
       "\n",
       "    .dataframe thead th {\n",
       "        text-align: right;\n",
       "    }\n",
       "</style>\n",
       "<table border=\"1\" class=\"dataframe\">\n",
       "  <thead>\n",
       "    <tr style=\"text-align: right;\">\n",
       "      <th></th>\n",
       "      <th>상권코드</th>\n",
       "      <th>EaD</th>\n",
       "      <th>EL</th>\n",
       "      <th>ELR</th>\n",
       "    </tr>\n",
       "  </thead>\n",
       "  <tbody>\n",
       "    <tr>\n",
       "      <th>339</th>\n",
       "      <td>골목_404</td>\n",
       "      <td>0.0</td>\n",
       "      <td>0.0</td>\n",
       "      <td>0.0</td>\n",
       "    </tr>\n",
       "    <tr>\n",
       "      <th>370</th>\n",
       "      <td>골목_432</td>\n",
       "      <td>0.0</td>\n",
       "      <td>0.0</td>\n",
       "      <td>0.0</td>\n",
       "    </tr>\n",
       "    <tr>\n",
       "      <th>386</th>\n",
       "      <td>골목_447</td>\n",
       "      <td>0.0</td>\n",
       "      <td>0.0</td>\n",
       "      <td>0.0</td>\n",
       "    </tr>\n",
       "    <tr>\n",
       "      <th>699</th>\n",
       "      <td>골목_729</td>\n",
       "      <td>0.0</td>\n",
       "      <td>0.0</td>\n",
       "      <td>0.0</td>\n",
       "    </tr>\n",
       "  </tbody>\n",
       "</table>\n",
       "</div>"
      ],
      "text/plain": [
       "       상권코드  EaD   EL  ELR\n",
       "339  골목_404  0.0  0.0  0.0\n",
       "370  골목_432  0.0  0.0  0.0\n",
       "386  골목_447  0.0  0.0  0.0\n",
       "699  골목_729  0.0  0.0  0.0"
      ]
     },
     "execution_count": 28,
     "metadata": {},
     "output_type": "execute_result"
    }
   ],
   "source": [
    "golmok2[golmok2['EaD']==0]"
   ]
  },
  {
   "cell_type": "code",
   "execution_count": 30,
   "id": "4b02da51",
   "metadata": {},
   "outputs": [],
   "source": [
    "cd = pd.concat([baldal2,golmok2],axis=0)"
   ]
  },
  {
   "cell_type": "code",
   "execution_count": 32,
   "id": "88a938d8",
   "metadata": {},
   "outputs": [
    {
     "data": {
      "text/html": [
       "<div>\n",
       "<style scoped>\n",
       "    .dataframe tbody tr th:only-of-type {\n",
       "        vertical-align: middle;\n",
       "    }\n",
       "\n",
       "    .dataframe tbody tr th {\n",
       "        vertical-align: top;\n",
       "    }\n",
       "\n",
       "    .dataframe thead th {\n",
       "        text-align: right;\n",
       "    }\n",
       "</style>\n",
       "<table border=\"1\" class=\"dataframe\">\n",
       "  <thead>\n",
       "    <tr style=\"text-align: right;\">\n",
       "      <th></th>\n",
       "      <th>상권코드</th>\n",
       "      <th>EaD</th>\n",
       "      <th>EL</th>\n",
       "      <th>ELR</th>\n",
       "    </tr>\n",
       "  </thead>\n",
       "  <tbody>\n",
       "    <tr>\n",
       "      <th>0</th>\n",
       "      <td>발달_1</td>\n",
       "      <td>14479.121331</td>\n",
       "      <td>309.574591</td>\n",
       "      <td>2.138076</td>\n",
       "    </tr>\n",
       "    <tr>\n",
       "      <th>1</th>\n",
       "      <td>발달_10</td>\n",
       "      <td>92.768595</td>\n",
       "      <td>2.134368</td>\n",
       "      <td>2.300744</td>\n",
       "    </tr>\n",
       "    <tr>\n",
       "      <th>2</th>\n",
       "      <td>발달_100</td>\n",
       "      <td>1617.583294</td>\n",
       "      <td>24.883107</td>\n",
       "      <td>1.538289</td>\n",
       "    </tr>\n",
       "    <tr>\n",
       "      <th>3</th>\n",
       "      <td>발달_101</td>\n",
       "      <td>577.162413</td>\n",
       "      <td>9.205105</td>\n",
       "      <td>1.594890</td>\n",
       "    </tr>\n",
       "    <tr>\n",
       "      <th>4</th>\n",
       "      <td>발달_102</td>\n",
       "      <td>676.756816</td>\n",
       "      <td>12.290643</td>\n",
       "      <td>1.816109</td>\n",
       "    </tr>\n",
       "  </tbody>\n",
       "</table>\n",
       "</div>"
      ],
      "text/plain": [
       "     상권코드           EaD          EL       ELR\n",
       "0    발달_1  14479.121331  309.574591  2.138076\n",
       "1   발달_10     92.768595    2.134368  2.300744\n",
       "2  발달_100   1617.583294   24.883107  1.538289\n",
       "3  발달_101    577.162413    9.205105  1.594890\n",
       "4  발달_102    676.756816   12.290643  1.816109"
      ]
     },
     "execution_count": 32,
     "metadata": {},
     "output_type": "execute_result"
    }
   ],
   "source": [
    "cd.head(5)"
   ]
  },
  {
   "cell_type": "code",
   "execution_count": 31,
   "id": "09f2000d",
   "metadata": {},
   "outputs": [],
   "source": [
    "cd.to_csv('결과물/상권_ELR_최종.csv',encoding='euc-kr',index=False)"
   ]
  },
  {
   "cell_type": "code",
   "execution_count": null,
   "id": "eb7e653f",
   "metadata": {},
   "outputs": [],
   "source": []
  }
 ],
 "metadata": {
  "kernelspec": {
   "display_name": "Python 3 (ipykernel)",
   "language": "python",
   "name": "python3"
  },
  "language_info": {
   "codemirror_mode": {
    "name": "ipython",
    "version": 3
   },
   "file_extension": ".py",
   "mimetype": "text/x-python",
   "name": "python",
   "nbconvert_exporter": "python",
   "pygments_lexer": "ipython3",
   "version": "3.9.12"
  }
 },
 "nbformat": 4,
 "nbformat_minor": 5
}
